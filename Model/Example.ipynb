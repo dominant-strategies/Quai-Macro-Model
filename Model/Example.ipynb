{
 "cells": [
  {
   "cell_type": "code",
   "execution_count": 1,
   "metadata": {},
   "outputs": [],
   "source": [
    "from copy import deepcopy\n",
    "import os\n",
    "os.chdir(\"../..\")\n",
    "from MSML.src.math_spec_mapping import load_from_json\n",
    "os.chdir(\"Quai-Macro-Model/Spec\")\n",
    "from src import math_spec_json\n",
    "from simulation import (state_base, params_base, vesting_schedule_translate,\n",
    "                        build_logistic_classifier, post_processing_function,\n",
    "                        plot_beta_errors, plot_betas, plot_boxplot_betas, difficulty_metrics,\n",
    "                        reward_metrics, controller_metrics, mined_ratio_metrics,\n",
    "                        plot_beta_error_norm, plot_mined_block_percent,\n",
    "                        plot_block_difficulty, beta_convergance, plot_kqi_ratio,\n",
    "                        beta_convergance2, difficulty_mining_scatter)\n",
    "os.chdir(\"../Model\")\n",
    "\n",
    "ms = load_from_json(deepcopy(math_spec_json))"
   ]
  },
  {
   "cell_type": "code",
   "execution_count": null,
   "metadata": {},
   "outputs": [],
   "source": [
    "from run import load_config\n",
    "\n",
    "\n",
    "config = load_config(5, 100, params, initial_state)"
   ]
  }
 ],
 "metadata": {
  "kernelspec": {
   "display_name": "BlockScience",
   "language": "python",
   "name": "python3"
  },
  "language_info": {
   "codemirror_mode": {
    "name": "ipython",
    "version": 3
   },
   "file_extension": ".py",
   "mimetype": "text/x-python",
   "name": "python",
   "nbconvert_exporter": "python",
   "pygments_lexer": "ipython3",
   "version": "3.9.12"
  }
 },
 "nbformat": 4,
 "nbformat_minor": 2
}
