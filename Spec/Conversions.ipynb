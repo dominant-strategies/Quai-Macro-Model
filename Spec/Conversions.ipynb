{
 "cells": [
  {
   "cell_type": "code",
   "execution_count": null,
   "metadata": {},
   "outputs": [],
   "source": [
    "import os \n",
    "os.chdir(\"../..\")\n",
    "from MSML.src.math_spec_mapping import (load_from_json, create_action_chains_graph, write_out_boundary_actions,\n",
    "                      write_out_policies, write_out_mechanisms, load_svg_graphviz, write_basic_report_full,\n",
    "                      write_action_chain_reports, write_spec_tree, create_parameter_impact_table,\n",
    "                     write_entity_reports, write_wiring_report, write_entity_markdown_report,\n",
    "                     write_all_markdown_reports)\n",
    "os.chdir(\"Quai-Macro-Model/Spec\")\n",
    "\n",
    "from IPython.display import display, display_html\n",
    "from copy import deepcopy\n",
    "from src import math_spec_json\n",
    "import numpy as np\n",
    "from pprint import pprint\n",
    "\n",
    "ms = load_from_json(deepcopy(math_spec_json))\n",
    "\n",
    "state_base = {'Qi Supply': None,\n",
    " 'Quai Supply': None,\n",
    " 'Block Number': None,\n",
    " 'Block Difficulty': 6000,\n",
    " \"Number of Regions\":2,\n",
    "\"Zones per Region\":2,\n",
    " 'Historical Converted Qi': None,\n",
    " 'Historical Converted Quai': None,\n",
    " 'Historical Mined Ratio': None,\n",
    " 'Historical Qi Hash': None,\n",
    " 'Historical Quai Hash': None,\n",
    " 'K Qi': 1,\n",
    " 'K Quai': 1,\n",
    " 'Quai Price': 1,\n",
    " 'Qi Price': 1,\n",
    " 'Simulation History Log': None,\n",
    " 'Dummy': None}\n",
    "params_base = {'Minimum Quai Conversion Amount': None,\n",
    " 'Minimum Qi Conversion Amount': None,\n",
    " 'Asset Return Parameterization': None,\n",
    " 'PID Parameterization': None,\n",
    " 'Initial Block Difficulty': None,\n",
    " \"FP Controller Update Policy\": 'Linear Controller Policy',\n",
    " \"Block Difficulty Multiples\": {\"Prime\": 1,\n",
    "                                         \"Region\": .5,\n",
    "                                         \"Zone\": .25},\n",
    "'Target Mining Time': 2,\n",
    "\"Quai Reward Base Parameter\": 2}\n",
    "msi = ms.build_implementation(params_base)"
   ]
  },
  {
   "cell_type": "code",
   "execution_count": null,
   "metadata": {},
   "outputs": [],
   "source": []
  }
 ],
 "metadata": {
  "language_info": {
   "name": "python"
  }
 },
 "nbformat": 4,
 "nbformat_minor": 2
}
