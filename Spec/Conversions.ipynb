{
 "cells": [
  {
   "cell_type": "code",
   "execution_count": 1,
   "metadata": {},
   "outputs": [],
   "source": [
    "import os \n",
    "os.chdir(\"../..\")\n",
    "from MSML.src.math_spec_mapping import (load_from_json, create_action_chains_graph, write_out_boundary_actions,\n",
    "                      write_out_policies, write_out_mechanisms, load_svg_graphviz, write_basic_report_full,\n",
    "                      write_action_chain_reports, write_spec_tree, create_parameter_impact_table,\n",
    "                     write_entity_reports, write_wiring_report, write_entity_markdown_report,\n",
    "                     write_all_markdown_reports)\n",
    "os.chdir(\"Quai-Macro-Model/Spec\")\n",
    "\n",
    "from simulation import state_base, params_base\n",
    "\n",
    "from IPython.display import display, display_html\n",
    "from copy import deepcopy\n",
    "from src import math_spec_json\n",
    "import numpy as np\n",
    "from pprint import pprint\n",
    "\n",
    "ms = load_from_json(deepcopy(math_spec_json))"
   ]
  },
  {
   "cell_type": "markdown",
   "metadata": {},
   "source": [
    "## Quai Conversion"
   ]
  },
  {
   "cell_type": "code",
   "execution_count": 2,
   "metadata": {},
   "outputs": [
    {
     "name": "stdout",
     "output_type": "stream",
     "text": [
      "Placeholder has no control action options\n",
      "Controller Update Control Action has no control action options\n",
      "Price Movements Boundary Action has no boundary action options\n",
      "Price Movements Policy has no policy options\n",
      "No python implementation for Controller Update Policy / Linear Controller Policy. To fix this, go to Implementations/Python/Policies and add Linear Controller Policy\n",
      "No python implementation for Increment Block Number Mechanism. To fix this, go to Implementations/Python/Mechanisms and add Increment Block Number Mechanism\n",
      "No python implementation for Update Historical Mined Ratio Mechanism. To fix this, go to Implementations/Python/Mechanisms and add Update Historical Mined Ratio Mechanism\n",
      "No python implementation for Update Historical Qi Hash Mechanism. To fix this, go to Implementations/Python/Mechanisms and add Update Historical Qi Hash Mechanism\n",
      "No python implementation for Update Historical Quai Hash Mechanism. To fix this, go to Implementations/Python/Mechanisms and add Update Historical Quai Hash Mechanism\n",
      "No python implementation for Update Historical Converted Qi Mechanism. To fix this, go to Implementations/Python/Mechanisms and add Update Historical Converted Qi Mechanism\n",
      "No python implementation for Update Historical Converted Quai Mechanism. To fix this, go to Implementations/Python/Mechanisms and add Update Historical Converted Quai Mechanism\n",
      "No python implementation for Log Simulation Data Mechanism. To fix this, go to Implementations/Python/Mechanisms and add Log Simulation Data Mechanism\n",
      "No python implementation for Mint Qi Tokens Mechanism. To fix this, go to Implementations/Python/Mechanisms and add Mint Qi Tokens Mechanism\n",
      "No python implementation for Mint Quai Tokens Mechanism. To fix this, go to Implementations/Python/Mechanisms and add Mint Quai Tokens Mechanism\n",
      "No python implementation for Burn Qi Tokens Mechanism. To fix this, go to Implementations/Python/Mechanisms and add Burn Qi Tokens Mechanism\n",
      "No python implementation for Burn Quai Tokens Mechanism. To fix this, go to Implementations/Python/Mechanisms and add Burn Quai Tokens Mechanism\n",
      "No python implementation for Update Prices Mechanism. To fix this, go to Implementations/Python/Mechanisms and add Update Prices Mechanism\n",
      "No python implementation for Set K Mechanism. To fix this, go to Implementations/Python/Mechanisms and add Set K Mechanism\n",
      "No python implementation for Conversion Rate Metric. To fix this, go to Implementations/Python/Metrics and add Conversion Rate Metric\n",
      "The following wirings were not loading: ['Mining Mechanisms', 'Controller Update Wiring', 'Price Movements Wiring', 'Conversions Mechanisms Wiring', 'Mine Block Wiring', 'Conversions Wiring', 'Simulation Wiring']\n",
      "\n",
      "\n",
      "[{'Amount': 100, 'Token': 'Quai'}]\n",
      "\n",
      "\n",
      "\n",
      "[{'Qi': 415888.3083359671},\n",
      " {'Quai': 0},\n",
      " {'Qi': 0},\n",
      " {'Quai': 100},\n",
      " None,\n",
      " {'Qi': 415888.3083359671, 'Quai': -100, 'Time': None}]\n",
      "\n",
      "\n",
      "\n"
     ]
    }
   ],
   "source": [
    "params_base_i = deepcopy(params_base)\n",
    "params_base_i[\"FP Conversions Boundary Action\"] = \"TEST Quai Conversion\"\n",
    "msi = ms.build_implementation(params_base_i)\n",
    "state, params = msi.prepare_state_and_params(state_base, params_base_i,\n",
    "                                             state_preperation_functions=[],\n",
    "                                             parameter_preperation_functions=[])\n",
    "\n",
    "print()\n",
    "print()\n",
    "spaces = msi.boundary_actions[\"Conversions Boundary Action\"](state, params, [])\n",
    "pprint(spaces)\n",
    "print()\n",
    "print()\n",
    "print()\n",
    "spaces = msi.policies[\"Conversions Policy\"](state, params, spaces)\n",
    "pprint(spaces)\n",
    "print()\n",
    "print()\n",
    "print()"
   ]
  },
  {
   "cell_type": "code",
   "execution_count": 3,
   "metadata": {},
   "outputs": [
    {
     "data": {
      "text/plain": [
       "{'Qi Supply': 10000,\n",
       " 'Quai Supply': 10000,\n",
       " 'Block Number': None,\n",
       " 'Block Difficulty': 6000,\n",
       " 'Number of Regions': 2,\n",
       " 'Zones per Region': 2,\n",
       " 'Historical Converted Qi': None,\n",
       " 'Historical Converted Quai': None,\n",
       " 'Historical Mined Ratio': None,\n",
       " 'Historical Qi Hash': None,\n",
       " 'Historical Quai Hash': None,\n",
       " 'K Qi': 1,\n",
       " 'K Quai': 1,\n",
       " 'Quai Price': 1,\n",
       " 'Qi Price': 1,\n",
       " 'Simulation History Log': None,\n",
       " 'Dummy': None,\n",
       " 'Time': None,\n",
       " 'Stateful Metrics': {},\n",
       " 'Metrics': {'Qi to Hash Metric': <function src.Implementations.Python.Metrics.Reward.qi_to_hash_metric(state, params, spaces)>,\n",
       "  'Quai to Hash Metric': <function src.Implementations.Python.Metrics.Reward.quai_to_hash_metric(state, params, spaces)>,\n",
       "  'Hash to Qi Metric': <function src.Implementations.Python.Metrics.Reward.hash_to_qi_metric(state, params, spaces)>,\n",
       "  'Hash to Quai Metric': <function src.Implementations.Python.Metrics.Reward.hash_to_quai_metric(state, params, spaces)>,\n",
       "  'Current Block Reward Ratio Metric': <function src.Implementations.Python.Metrics.Conversions.current_block_reward_ratio_metric(state, params, spaces)>}}"
      ]
     },
     "execution_count": 3,
     "metadata": {},
     "output_type": "execute_result"
    }
   ],
   "source": [
    "state"
   ]
  },
  {
   "cell_type": "code",
   "execution_count": 4,
   "metadata": {},
   "outputs": [
    {
     "name": "stdout",
     "output_type": "stream",
     "text": [
      "Placeholder has no control action options\n",
      "Controller Update Control Action has no control action options\n",
      "Price Movements Boundary Action has no boundary action options\n",
      "Price Movements Policy has no policy options\n",
      "No python implementation for Controller Update Policy / Linear Controller Policy. To fix this, go to Implementations/Python/Policies and add Linear Controller Policy\n",
      "No python implementation for Increment Block Number Mechanism. To fix this, go to Implementations/Python/Mechanisms and add Increment Block Number Mechanism\n",
      "No python implementation for Update Historical Mined Ratio Mechanism. To fix this, go to Implementations/Python/Mechanisms and add Update Historical Mined Ratio Mechanism\n",
      "No python implementation for Update Historical Qi Hash Mechanism. To fix this, go to Implementations/Python/Mechanisms and add Update Historical Qi Hash Mechanism\n",
      "No python implementation for Update Historical Quai Hash Mechanism. To fix this, go to Implementations/Python/Mechanisms and add Update Historical Quai Hash Mechanism\n",
      "No python implementation for Update Historical Converted Qi Mechanism. To fix this, go to Implementations/Python/Mechanisms and add Update Historical Converted Qi Mechanism\n",
      "No python implementation for Update Historical Converted Quai Mechanism. To fix this, go to Implementations/Python/Mechanisms and add Update Historical Converted Quai Mechanism\n",
      "No python implementation for Log Simulation Data Mechanism. To fix this, go to Implementations/Python/Mechanisms and add Log Simulation Data Mechanism\n",
      "No python implementation for Mint Qi Tokens Mechanism. To fix this, go to Implementations/Python/Mechanisms and add Mint Qi Tokens Mechanism\n",
      "No python implementation for Mint Quai Tokens Mechanism. To fix this, go to Implementations/Python/Mechanisms and add Mint Quai Tokens Mechanism\n",
      "No python implementation for Burn Qi Tokens Mechanism. To fix this, go to Implementations/Python/Mechanisms and add Burn Qi Tokens Mechanism\n",
      "No python implementation for Burn Quai Tokens Mechanism. To fix this, go to Implementations/Python/Mechanisms and add Burn Quai Tokens Mechanism\n",
      "No python implementation for Update Prices Mechanism. To fix this, go to Implementations/Python/Mechanisms and add Update Prices Mechanism\n",
      "No python implementation for Set K Mechanism. To fix this, go to Implementations/Python/Mechanisms and add Set K Mechanism\n",
      "No python implementation for Conversion Rate Metric. To fix this, go to Implementations/Python/Metrics and add Conversion Rate Metric\n",
      "The following wirings were not loading: ['Mining Mechanisms', 'Controller Update Wiring', 'Price Movements Wiring', 'Conversions Mechanisms Wiring', 'Mine Block Wiring', 'Conversions Wiring', 'Simulation Wiring']\n",
      "\n",
      "\n",
      "[{'Amount': 100, 'Token': 'Qi'}]\n",
      "\n",
      "\n",
      "\n",
      "[{'Qi': 0},\n",
      " {'Quai': 0.024044917348149394},\n",
      " {'Qi': 100},\n",
      " {'Quai': 0},\n",
      " {'Qi': -100, 'Quai': 0.024044917348149394, 'Time': None},\n",
      " None]\n",
      "\n",
      "\n",
      "\n"
     ]
    }
   ],
   "source": [
    "params_base_i = deepcopy(params_base)\n",
    "params_base_i[\"FP Conversions Boundary Action\"] = \"TEST Qi Conversion\"\n",
    "msi = ms.build_implementation(params_base_i)\n",
    "state, params = msi.prepare_state_and_params(state_base, params_base_i,\n",
    "                                             state_preperation_functions=[],\n",
    "                                             parameter_preperation_functions=[])\n",
    "\n",
    "print()\n",
    "print()\n",
    "spaces = msi.boundary_actions[\"Conversions Boundary Action\"](state, params, [])\n",
    "pprint(spaces)\n",
    "print()\n",
    "print()\n",
    "print()\n",
    "spaces = msi.policies[\"Conversions Policy\"](state, params, spaces)\n",
    "pprint(spaces)\n",
    "print()\n",
    "print()\n",
    "print()"
   ]
  }
 ],
 "metadata": {
  "kernelspec": {
   "display_name": "BlockScience",
   "language": "python",
   "name": "python3"
  },
  "language_info": {
   "codemirror_mode": {
    "name": "ipython",
    "version": 3
   },
   "file_extension": ".py",
   "mimetype": "text/x-python",
   "name": "python",
   "nbconvert_exporter": "python",
   "pygments_lexer": "ipython3",
   "version": "3.9.12"
  }
 },
 "nbformat": 4,
 "nbformat_minor": 2
}
