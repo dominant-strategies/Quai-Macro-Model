{
 "cells": [
  {
   "cell_type": "code",
   "execution_count": 1,
   "metadata": {},
   "outputs": [
    {
     "name": "stdout",
     "output_type": "stream",
     "text": [
      "Placeholder has no control action options\n",
      "Controller Update Control Action has no control action options\n",
      "Conversions Boundary Action has no boundary action options\n",
      "Price Movements Boundary Action has no boundary action options\n",
      "No python implementation for Conversions Policy / Block Reward Ratio Conversion Policy. To fix this, go to Implementations/Python/Policies and add Block Reward Ratio Conversion Policy\n",
      "Price Movements Policy has no policy options\n",
      "No python implementation for Controller Update Policy / Linear Controller Policy. To fix this, go to Implementations/Python/Policies and add Linear Controller Policy\n",
      "No python implementation for Increment Block Number Mechanism. To fix this, go to Implementations/Python/Mechanisms and add Increment Block Number Mechanism\n",
      "No python implementation for Update Historical Mined Ratio Mechanism. To fix this, go to Implementations/Python/Mechanisms and add Update Historical Mined Ratio Mechanism\n",
      "No python implementation for Update Historical Qi Hash Mechanism. To fix this, go to Implementations/Python/Mechanisms and add Update Historical Qi Hash Mechanism\n",
      "No python implementation for Update Historical Quai Hash Mechanism. To fix this, go to Implementations/Python/Mechanisms and add Update Historical Quai Hash Mechanism\n",
      "No python implementation for Update Historical Converted Qi Mechanism. To fix this, go to Implementations/Python/Mechanisms and add Update Historical Converted Qi Mechanism\n",
      "No python implementation for Update Historical Converted Quai Mechanism. To fix this, go to Implementations/Python/Mechanisms and add Update Historical Converted Quai Mechanism\n",
      "No python implementation for Log Simulation Data Mechanism. To fix this, go to Implementations/Python/Mechanisms and add Log Simulation Data Mechanism\n",
      "No python implementation for Mint Qi Tokens Mechanism. To fix this, go to Implementations/Python/Mechanisms and add Mint Qi Tokens Mechanism\n",
      "No python implementation for Mint Quai Tokens Mechanism. To fix this, go to Implementations/Python/Mechanisms and add Mint Quai Tokens Mechanism\n",
      "No python implementation for Burn Qi Tokens Mechanism. To fix this, go to Implementations/Python/Mechanisms and add Burn Qi Tokens Mechanism\n",
      "No python implementation for Burn Quai Tokens Mechanism. To fix this, go to Implementations/Python/Mechanisms and add Burn Quai Tokens Mechanism\n",
      "No python implementation for Update Prices Mechanism. To fix this, go to Implementations/Python/Mechanisms and add Update Prices Mechanism\n",
      "No python implementation for Set K Mechanism. To fix this, go to Implementations/Python/Mechanisms and add Set K Mechanism\n",
      "The following wirings were not loading: ['Mining Mechanisms', 'Controller Update Wiring', 'Price Movements Wiring', 'Conversions Mechanisms Wiring', 'Mine Block Wiring', 'Conversions Wiring', 'Simulation Wiring']\n"
     ]
    }
   ],
   "source": [
    "import os \n",
    "os.chdir(\"../..\")\n",
    "from MSML.src.math_spec_mapping import (load_from_json, create_action_chains_graph, write_out_boundary_actions,\n",
    "                      write_out_policies, write_out_mechanisms, load_svg_graphviz, write_basic_report_full,\n",
    "                      write_action_chain_reports, write_spec_tree, create_parameter_impact_table,\n",
    "                     write_entity_reports, write_wiring_report, write_entity_markdown_report,\n",
    "                     write_all_markdown_reports)\n",
    "os.chdir(\"Quai-Macro-Model/Spec\")\n",
    "\n",
    "from IPython.display import display, display_html\n",
    "from copy import deepcopy\n",
    "from src import math_spec_json\n",
    "import numpy as np\n",
    "from pprint import pprint\n",
    "\n",
    "ms = load_from_json(deepcopy(math_spec_json))\n",
    "\n",
    "state_base = {'Qi Supply': None,\n",
    " 'Quai Supply': None,\n",
    " 'Block Number': None,\n",
    " 'Block Difficulty': 6000,\n",
    " \"Number of Regions\":2,\n",
    "\"Zones per Region\":2,\n",
    " 'Historical Converted Qi': None,\n",
    " 'Historical Converted Quai': None,\n",
    " 'Historical Mined Ratio': None,\n",
    " 'Historical Qi Hash': None,\n",
    " 'Historical Quai Hash': None,\n",
    " 'K Qi': 1,\n",
    " 'K Quai': 1,\n",
    " 'Quai Price': 1,\n",
    " 'Qi Price': 1,\n",
    " 'Simulation History Log': None,\n",
    " 'Dummy': None}\n",
    "params_base = {'Minimum Quai Conversion Amount': None,\n",
    " 'Minimum Qi Conversion Amount': None,\n",
    " 'Asset Return Parameterization': None,\n",
    " 'PID Parameterization': None,\n",
    " 'Initial Block Difficulty': None,\n",
    " \"FP Controller Update Policy\": 'Linear Controller Policy',\n",
    " \"Block Difficulty Multiples\": {\"Prime\": 1,\n",
    "                                         \"Region\": .5,\n",
    "                                         \"Zone\": .25},\n",
    "'Target Mining Time': 2,\n",
    "\"Quai Reward Base Parameter\": 2}\n",
    "msi = ms.build_implementation(params_base)\n",
    "state, params = msi.prepare_state_and_params(state_base, params_base, state_preperation_functions=[], parameter_preperation_functions=[])"
   ]
  },
  {
   "cell_type": "code",
   "execution_count": 2,
   "metadata": {},
   "outputs": [
    {
     "name": "stdout",
     "output_type": "stream",
     "text": [
      "6.643856189774725 100.0\n"
     ]
    }
   ],
   "source": [
    "a = ms.metrics['Hash to Quai Metric'].implementations['python'](state, params, [{\"Hash\": 100}])\n",
    "b = ms.metrics['Hash to Qi Metric'].implementations['python'](state, params, [{\"Hash\": 100}])\n",
    "\n",
    "\n",
    "print(a, b)"
   ]
  },
  {
   "cell_type": "code",
   "execution_count": 3,
   "metadata": {},
   "outputs": [
    {
     "name": "stdout",
     "output_type": "stream",
     "text": [
      "100.00000000000004 100.00000000000004\n"
     ]
    }
   ],
   "source": [
    "b = ms.metrics['Quai to Hash Metric'].implementations['python'](state, params, [{\"Quai\": a}])\n",
    "a = ms.metrics['Qi to Hash Metric'].implementations['python'](state, params, [{\"Qi\": b}])\n",
    "\n",
    "print(a, b)"
   ]
  }
 ],
 "metadata": {
  "kernelspec": {
   "display_name": "BlockScience",
   "language": "python",
   "name": "python3"
  },
  "language_info": {
   "codemirror_mode": {
    "name": "ipython",
    "version": 3
   },
   "file_extension": ".py",
   "mimetype": "text/x-python",
   "name": "python",
   "nbconvert_exporter": "python",
   "pygments_lexer": "ipython3",
   "version": "3.9.12"
  }
 },
 "nbformat": 4,
 "nbformat_minor": 2
}
