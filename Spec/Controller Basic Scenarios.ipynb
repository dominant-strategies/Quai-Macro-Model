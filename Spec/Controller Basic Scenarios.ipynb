{
 "cells": [
  {
   "cell_type": "code",
   "execution_count": 1,
   "metadata": {},
   "outputs": [],
   "source": [
    "import os \n",
    "os.chdir(\"../..\")\n",
    "from MSML.src.math_spec_mapping import (load_from_json, create_action_chains_graph, write_out_boundary_actions,\n",
    "                      write_out_policies, write_out_mechanisms, load_svg_graphviz, write_basic_report_full,\n",
    "                      write_action_chain_reports, write_spec_tree, create_parameter_impact_table,\n",
    "                     write_entity_reports, write_wiring_report, write_entity_markdown_report,\n",
    "                     write_all_markdown_reports)\n",
    "os.chdir(\"Quai-Macro-Model/Spec\")\n",
    "\n",
    "from IPython.display import display, display_html\n",
    "from copy import deepcopy\n",
    "from src import math_spec_json\n",
    "import numpy as np\n",
    "from pprint import pprint\n",
    "from simulation import state_base, params_base, vesting_schedule_translate, build_logistic_classifier, plot_betas\n",
    "import pandas as pd\n",
    "\n",
    "ms = load_from_json(deepcopy(math_spec_json))\n",
    "\n"
   ]
  },
  {
   "cell_type": "markdown",
   "metadata": {},
   "source": [
    "## Sanity Check Scenario\n",
    "\n",
    "Premise: Ensure the simulation framework is operating as intended, without complications from the controller.\n",
    "\n",
    "Condition(s): Fix the values of:\n",
    "- $\\mathbf u$, the controller update parameters ($k_{qi}, k_{quai}$); and\n",
    "- $\\pmb{\\beta}$, the _miner decision population parameter vector_, i.e. the parameter vector for the miner's probabilistic decision on which token to receive as block reward.\n",
    "\n",
    "Method: MC runs (across realizations of other stochastic variables), generating time series for e.g. miner decisions and proposed block rewards. "
   ]
  },
  {
   "cell_type": "code",
   "execution_count": 2,
   "metadata": {},
   "outputs": [
    {
     "name": "stdout",
     "output_type": "stream",
     "text": [
      "Placeholder has no control action options\n"
     ]
    },
    {
     "data": {
      "image/png": "[encoded data removed]",
      "text/plain": [
       "<Figure size 432x288 with 1 Axes>"
      ]
     },
     "metadata": {
      "needs_background": "light"
     },
     "output_type": "display_data"
    },
    {
     "data": {
      "image/png": "[encoded data removed]",
      "text/plain": [
       "<Figure size 432x288 with 1 Axes>"
      ]
     },
     "metadata": {
      "needs_background": "light"
     },
     "output_type": "display_data"
    }
   ],
   "source": [
    "params_base[\"FP Mine Block Boundary Action\"] = \"TEST Mine Block Boundary Action\"\n",
    "msi = ms.build_implementation(params_base)\n",
    "state, params = msi.prepare_state_and_params(state_base, params_base, state_preperation_functions=[vesting_schedule_translate,\n",
    "                                                                                                   build_logistic_classifier], parameter_preperation_functions=[])\n",
    "\n",
    "\n",
    "for _ in range(10000):\n",
    "    # Set fixed values\n",
    "    state[\"K Qi\"] = 1\n",
    "    state[\"K Quai\"] = 500\n",
    "    state[\"Population Mining Beta Vector\"] = np.array([0, .001])\n",
    "\n",
    "\n",
    "    msi.wiring[\"Mine Block Wiring\"](state, params, [])\n",
    "    msi.mechanisms[\"Log Simulation Data Mechanism\"](state, params, [])\n",
    "\n",
    "df = pd.DataFrame(state[\"Simulation History Log\"])\n",
    "plot_betas(df)"
   ]
  },
  {
   "cell_type": "code",
   "execution_count": 3,
   "metadata": {},
   "outputs": [
    {
     "data": {
      "text/html": [
       "<div>\n",
       "<style scoped>\n",
       "    .dataframe tbody tr th:only-of-type {\n",
       "        vertical-align: middle;\n",
       "    }\n",
       "\n",
       "    .dataframe tbody tr th {\n",
       "        vertical-align: top;\n",
       "    }\n",
       "\n",
       "    .dataframe thead th {\n",
       "        text-align: right;\n",
       "    }\n",
       "</style>\n",
       "<table border=\"1\" class=\"dataframe\">\n",
       "  <thead>\n",
       "    <tr style=\"text-align: right;\">\n",
       "      <th></th>\n",
       "      <th>Estimate Beta0</th>\n",
       "      <th>Estimate Beta1</th>\n",
       "      <th>Population Beta0</th>\n",
       "      <th>Population Beta1</th>\n",
       "      <th>Block Number</th>\n",
       "    </tr>\n",
       "  </thead>\n",
       "  <tbody>\n",
       "    <tr>\n",
       "      <th>0</th>\n",
       "      <td>4.950778</td>\n",
       "      <td>2366.764993</td>\n",
       "      <td>0.0</td>\n",
       "      <td>0.001</td>\n",
       "      <td>1</td>\n",
       "    </tr>\n",
       "    <tr>\n",
       "      <th>1</th>\n",
       "      <td>-4.825196</td>\n",
       "      <td>-2306.729194</td>\n",
       "      <td>0.0</td>\n",
       "      <td>0.001</td>\n",
       "      <td>2</td>\n",
       "    </tr>\n",
       "    <tr>\n",
       "      <th>2</th>\n",
       "      <td>-4.751263</td>\n",
       "      <td>-2271.385009</td>\n",
       "      <td>0.0</td>\n",
       "      <td>0.001</td>\n",
       "      <td>3</td>\n",
       "    </tr>\n",
       "    <tr>\n",
       "      <th>3</th>\n",
       "      <td>4.709780</td>\n",
       "      <td>2251.553449</td>\n",
       "      <td>0.0</td>\n",
       "      <td>0.001</td>\n",
       "      <td>4</td>\n",
       "    </tr>\n",
       "    <tr>\n",
       "      <th>4</th>\n",
       "      <td>4.648920</td>\n",
       "      <td>2222.458996</td>\n",
       "      <td>0.0</td>\n",
       "      <td>0.001</td>\n",
       "      <td>5</td>\n",
       "    </tr>\n",
       "    <tr>\n",
       "      <th>...</th>\n",
       "      <td>...</td>\n",
       "      <td>...</td>\n",
       "      <td>...</td>\n",
       "      <td>...</td>\n",
       "      <td>...</td>\n",
       "    </tr>\n",
       "    <tr>\n",
       "      <th>9995</th>\n",
       "      <td>0.000056</td>\n",
       "      <td>0.026669</td>\n",
       "      <td>0.0</td>\n",
       "      <td>0.001</td>\n",
       "      <td>9996</td>\n",
       "    </tr>\n",
       "    <tr>\n",
       "      <th>9996</th>\n",
       "      <td>0.000056</td>\n",
       "      <td>0.026891</td>\n",
       "      <td>0.0</td>\n",
       "      <td>0.001</td>\n",
       "      <td>9997</td>\n",
       "    </tr>\n",
       "    <tr>\n",
       "      <th>9997</th>\n",
       "      <td>-0.062070</td>\n",
       "      <td>-29.672977</td>\n",
       "      <td>0.0</td>\n",
       "      <td>0.001</td>\n",
       "      <td>9998</td>\n",
       "    </tr>\n",
       "    <tr>\n",
       "      <th>9998</th>\n",
       "      <td>0.000054</td>\n",
       "      <td>0.025726</td>\n",
       "      <td>0.0</td>\n",
       "      <td>0.001</td>\n",
       "      <td>9999</td>\n",
       "    </tr>\n",
       "    <tr>\n",
       "      <th>9999</th>\n",
       "      <td>0.000053</td>\n",
       "      <td>0.025418</td>\n",
       "      <td>0.0</td>\n",
       "      <td>0.001</td>\n",
       "      <td>10000</td>\n",
       "    </tr>\n",
       "  </tbody>\n",
       "</table>\n",
       "<p>10000 rows × 5 columns</p>\n",
       "</div>"
      ],
      "text/plain": [
       "      Estimate Beta0  Estimate Beta1  Population Beta0  Population Beta1  \\\n",
       "0           4.950778     2366.764993               0.0             0.001   \n",
       "1          -4.825196    -2306.729194               0.0             0.001   \n",
       "2          -4.751263    -2271.385009               0.0             0.001   \n",
       "3           4.709780     2251.553449               0.0             0.001   \n",
       "4           4.648920     2222.458996               0.0             0.001   \n",
       "...              ...             ...               ...               ...   \n",
       "9995        0.000056        0.026669               0.0             0.001   \n",
       "9996        0.000056        0.026891               0.0             0.001   \n",
       "9997       -0.062070      -29.672977               0.0             0.001   \n",
       "9998        0.000054        0.025726               0.0             0.001   \n",
       "9999        0.000053        0.025418               0.0             0.001   \n",
       "\n",
       "      Block Number  \n",
       "0                1  \n",
       "1                2  \n",
       "2                3  \n",
       "3                4  \n",
       "4                5  \n",
       "...            ...  \n",
       "9995          9996  \n",
       "9996          9997  \n",
       "9997          9998  \n",
       "9998          9999  \n",
       "9999         10000  \n",
       "\n",
       "[10000 rows x 5 columns]"
      ]
     },
     "execution_count": 3,
     "metadata": {},
     "output_type": "execute_result"
    }
   ],
   "source": [
    "df"
   ]
  },
  {
   "cell_type": "markdown",
   "metadata": {},
   "source": [
    "## Sanity Check B\n",
    "\n",
    "Above sanity check but with changing difficulties"
   ]
  },
  {
   "cell_type": "code",
   "execution_count": 4,
   "metadata": {},
   "outputs": [
    {
     "name": "stdout",
     "output_type": "stream",
     "text": [
      "Placeholder has no control action options\n"
     ]
    },
    {
     "data": {
      "image/png": "[encoded data removed]",
      "text/plain": [
       "<Figure size 432x288 with 1 Axes>"
      ]
     },
     "metadata": {
      "needs_background": "light"
     },
     "output_type": "display_data"
    },
    {
     "data": {
      "image/png": "[encoded data removed]",
      "text/plain": [
       "<Figure size 432x288 with 1 Axes>"
      ]
     },
     "metadata": {
      "needs_background": "light"
     },
     "output_type": "display_data"
    }
   ],
   "source": [
    "params_base[\"FP Mine Block Boundary Action\"] = \"TEST Mine Block Boundary Action\"\n",
    "msi = ms.build_implementation(params_base)\n",
    "state, params = msi.prepare_state_and_params(state_base, params_base, state_preperation_functions=[vesting_schedule_translate,\n",
    "                                                                                                   build_logistic_classifier], parameter_preperation_functions=[])\n",
    "\n",
    "for _ in range(10000):\n",
    "    # Set fixed values\n",
    "    state[\"K Qi\"] = 1\n",
    "    state[\"K Quai\"] = 500\n",
    "    state[\"Population Mining Beta Vector\"] = np.array([0, 0.001])\n",
    "    state[\"Block Difficulty\"] = max(np.random.normal(6000, 1000), 100)\n",
    "\n",
    "\n",
    "    msi.wiring[\"Mine Block Wiring\"](state, params, [])\n",
    "    msi.mechanisms[\"Log Simulation Data Mechanism\"](state, params, [])\n",
    "df = pd.DataFrame(state[\"Simulation History Log\"])\n",
    "plot_betas(df)"
   ]
  },
  {
   "cell_type": "code",
   "execution_count": 5,
   "metadata": {},
   "outputs": [
    {
     "data": {
      "text/html": [
       "<div>\n",
       "<style scoped>\n",
       "    .dataframe tbody tr th:only-of-type {\n",
       "        vertical-align: middle;\n",
       "    }\n",
       "\n",
       "    .dataframe tbody tr th {\n",
       "        vertical-align: top;\n",
       "    }\n",
       "\n",
       "    .dataframe thead th {\n",
       "        text-align: right;\n",
       "    }\n",
       "</style>\n",
       "<table border=\"1\" class=\"dataframe\">\n",
       "  <thead>\n",
       "    <tr style=\"text-align: right;\">\n",
       "      <th></th>\n",
       "      <th>Estimate Beta0</th>\n",
       "      <th>Estimate Beta1</th>\n",
       "      <th>Population Beta0</th>\n",
       "      <th>Population Beta1</th>\n",
       "      <th>Block Number</th>\n",
       "    </tr>\n",
       "  </thead>\n",
       "  <tbody>\n",
       "    <tr>\n",
       "      <th>0</th>\n",
       "      <td>4.970755</td>\n",
       "      <td>2330.584718</td>\n",
       "      <td>0.0</td>\n",
       "      <td>0.001</td>\n",
       "      <td>1</td>\n",
       "    </tr>\n",
       "    <tr>\n",
       "      <th>1</th>\n",
       "      <td>-4.804770</td>\n",
       "      <td>-2041.424767</td>\n",
       "      <td>0.0</td>\n",
       "      <td>0.001</td>\n",
       "      <td>2</td>\n",
       "    </tr>\n",
       "    <tr>\n",
       "      <th>2</th>\n",
       "      <td>-4.739985</td>\n",
       "      <td>-2017.287530</td>\n",
       "      <td>0.0</td>\n",
       "      <td>0.001</td>\n",
       "      <td>3</td>\n",
       "    </tr>\n",
       "    <tr>\n",
       "      <th>3</th>\n",
       "      <td>-4.640922</td>\n",
       "      <td>-1961.903978</td>\n",
       "      <td>0.0</td>\n",
       "      <td>0.001</td>\n",
       "      <td>4</td>\n",
       "    </tr>\n",
       "    <tr>\n",
       "      <th>4</th>\n",
       "      <td>4.731394</td>\n",
       "      <td>2494.015066</td>\n",
       "      <td>0.0</td>\n",
       "      <td>0.001</td>\n",
       "      <td>5</td>\n",
       "    </tr>\n",
       "    <tr>\n",
       "      <th>...</th>\n",
       "      <td>...</td>\n",
       "      <td>...</td>\n",
       "      <td>...</td>\n",
       "      <td>...</td>\n",
       "      <td>...</td>\n",
       "    </tr>\n",
       "    <tr>\n",
       "      <th>9995</th>\n",
       "      <td>-7.208320</td>\n",
       "      <td>-22.171707</td>\n",
       "      <td>0.0</td>\n",
       "      <td>0.001</td>\n",
       "      <td>9996</td>\n",
       "    </tr>\n",
       "    <tr>\n",
       "      <th>9996</th>\n",
       "      <td>-7.208317</td>\n",
       "      <td>-22.170236</td>\n",
       "      <td>0.0</td>\n",
       "      <td>0.001</td>\n",
       "      <td>9997</td>\n",
       "    </tr>\n",
       "    <tr>\n",
       "      <th>9997</th>\n",
       "      <td>-7.208313</td>\n",
       "      <td>-22.168378</td>\n",
       "      <td>0.0</td>\n",
       "      <td>0.001</td>\n",
       "      <td>9998</td>\n",
       "    </tr>\n",
       "    <tr>\n",
       "      <th>9998</th>\n",
       "      <td>-7.146190</td>\n",
       "      <td>7.666007</td>\n",
       "      <td>0.0</td>\n",
       "      <td>0.001</td>\n",
       "      <td>9999</td>\n",
       "    </tr>\n",
       "    <tr>\n",
       "      <th>9999</th>\n",
       "      <td>-7.146192</td>\n",
       "      <td>7.665258</td>\n",
       "      <td>0.0</td>\n",
       "      <td>0.001</td>\n",
       "      <td>10000</td>\n",
       "    </tr>\n",
       "  </tbody>\n",
       "</table>\n",
       "<p>10000 rows × 5 columns</p>\n",
       "</div>"
      ],
      "text/plain": [
       "      Estimate Beta0  Estimate Beta1  Population Beta0  Population Beta1  \\\n",
       "0           4.970755     2330.584718               0.0             0.001   \n",
       "1          -4.804770    -2041.424767               0.0             0.001   \n",
       "2          -4.739985    -2017.287530               0.0             0.001   \n",
       "3          -4.640922    -1961.903978               0.0             0.001   \n",
       "4           4.731394     2494.015066               0.0             0.001   \n",
       "...              ...             ...               ...               ...   \n",
       "9995       -7.208320      -22.171707               0.0             0.001   \n",
       "9996       -7.208317      -22.170236               0.0             0.001   \n",
       "9997       -7.208313      -22.168378               0.0             0.001   \n",
       "9998       -7.146190        7.666007               0.0             0.001   \n",
       "9999       -7.146192        7.665258               0.0             0.001   \n",
       "\n",
       "      Block Number  \n",
       "0                1  \n",
       "1                2  \n",
       "2                3  \n",
       "3                4  \n",
       "4                5  \n",
       "...            ...  \n",
       "9995          9996  \n",
       "9996          9997  \n",
       "9997          9998  \n",
       "9998          9999  \n",
       "9999         10000  \n",
       "\n",
       "[10000 rows x 5 columns]"
      ]
     },
     "execution_count": 5,
     "metadata": {},
     "output_type": "execute_result"
    }
   ],
   "source": [
    "df"
   ]
  },
  {
   "cell_type": "markdown",
   "metadata": {},
   "source": [
    "## Sanity Check C\n",
    "\n",
    "Same difficulty but add in variations of difficulty in epochs"
   ]
  },
  {
   "cell_type": "code",
   "execution_count": 6,
   "metadata": {},
   "outputs": [
    {
     "name": "stdout",
     "output_type": "stream",
     "text": [
      "Placeholder has no control action options\n"
     ]
    },
    {
     "data": {
      "image/png": "[encoded data removed]",
      "text/plain": [
       "<Figure size 432x288 with 1 Axes>"
      ]
     },
     "metadata": {
      "needs_background": "light"
     },
     "output_type": "display_data"
    },
    {
     "data": {
      "image/png": "[encoded data removed]",
      "text/plain": [
       "<Figure size 432x288 with 1 Axes>"
      ]
     },
     "metadata": {
      "needs_background": "light"
     },
     "output_type": "display_data"
    }
   ],
   "source": [
    "params_base[\"FP Mine Block Boundary Action\"] = \"Mine Block Boundary Action V3\"\n",
    "msi = ms.build_implementation(params_base)\n",
    "state, params = msi.prepare_state_and_params(state_base, params_base, state_preperation_functions=[vesting_schedule_translate,\n",
    "                                                                                                   build_logistic_classifier], parameter_preperation_functions=[])\n",
    "\n",
    "for _ in range(10000):\n",
    "    # Set fixed values\n",
    "    state[\"K Qi\"] = 1\n",
    "    state[\"K Quai\"] = 500\n",
    "    state[\"Population Mining Beta Vector\"] = np.array([0, 0.001])\n",
    "    state[\"Block Difficulty\"] = 6000\n",
    "\n",
    "\n",
    "    msi.wiring[\"Mine Block Wiring\"](state, params, [])\n",
    "    msi.mechanisms[\"Log Simulation Data Mechanism\"](state, params, [])\n",
    "df = pd.DataFrame(state[\"Simulation History Log\"])\n",
    "plot_betas(df)"
   ]
  },
  {
   "cell_type": "code",
   "execution_count": 7,
   "metadata": {},
   "outputs": [
    {
     "data": {
      "text/html": [
       "<div>\n",
       "<style scoped>\n",
       "    .dataframe tbody tr th:only-of-type {\n",
       "        vertical-align: middle;\n",
       "    }\n",
       "\n",
       "    .dataframe tbody tr th {\n",
       "        vertical-align: top;\n",
       "    }\n",
       "\n",
       "    .dataframe thead th {\n",
       "        text-align: right;\n",
       "    }\n",
       "</style>\n",
       "<table border=\"1\" class=\"dataframe\">\n",
       "  <thead>\n",
       "    <tr style=\"text-align: right;\">\n",
       "      <th></th>\n",
       "      <th>Estimate Beta0</th>\n",
       "      <th>Estimate Beta1</th>\n",
       "      <th>Population Beta0</th>\n",
       "      <th>Population Beta1</th>\n",
       "      <th>Block Number</th>\n",
       "    </tr>\n",
       "  </thead>\n",
       "  <tbody>\n",
       "    <tr>\n",
       "      <th>0</th>\n",
       "      <td>-4.911135</td>\n",
       "      <td>-2622.526593</td>\n",
       "      <td>0.0</td>\n",
       "      <td>0.001</td>\n",
       "      <td>1</td>\n",
       "    </tr>\n",
       "    <tr>\n",
       "      <th>1</th>\n",
       "      <td>4.874234</td>\n",
       "      <td>2057.725991</td>\n",
       "      <td>0.0</td>\n",
       "      <td>0.001</td>\n",
       "      <td>2</td>\n",
       "    </tr>\n",
       "    <tr>\n",
       "      <th>2</th>\n",
       "      <td>-4.713636</td>\n",
       "      <td>-2454.081799</td>\n",
       "      <td>0.0</td>\n",
       "      <td>0.001</td>\n",
       "      <td>3</td>\n",
       "    </tr>\n",
       "    <tr>\n",
       "      <th>3</th>\n",
       "      <td>4.774644</td>\n",
       "      <td>2868.044430</td>\n",
       "      <td>0.0</td>\n",
       "      <td>0.001</td>\n",
       "      <td>4</td>\n",
       "    </tr>\n",
       "    <tr>\n",
       "      <th>4</th>\n",
       "      <td>-4.528168</td>\n",
       "      <td>-1080.215266</td>\n",
       "      <td>0.0</td>\n",
       "      <td>0.001</td>\n",
       "      <td>5</td>\n",
       "    </tr>\n",
       "    <tr>\n",
       "      <th>...</th>\n",
       "      <td>...</td>\n",
       "      <td>...</td>\n",
       "      <td>...</td>\n",
       "      <td>...</td>\n",
       "      <td>...</td>\n",
       "    </tr>\n",
       "    <tr>\n",
       "      <th>9995</th>\n",
       "      <td>-3.803768</td>\n",
       "      <td>2.548835</td>\n",
       "      <td>0.0</td>\n",
       "      <td>0.001</td>\n",
       "      <td>9996</td>\n",
       "    </tr>\n",
       "    <tr>\n",
       "      <th>9996</th>\n",
       "      <td>-3.803770</td>\n",
       "      <td>3.886029</td>\n",
       "      <td>0.0</td>\n",
       "      <td>0.001</td>\n",
       "      <td>9997</td>\n",
       "    </tr>\n",
       "    <tr>\n",
       "      <th>9997</th>\n",
       "      <td>-3.803773</td>\n",
       "      <td>10.774331</td>\n",
       "      <td>0.0</td>\n",
       "      <td>0.001</td>\n",
       "      <td>9998</td>\n",
       "    </tr>\n",
       "    <tr>\n",
       "      <th>9998</th>\n",
       "      <td>-3.803774</td>\n",
       "      <td>14.799477</td>\n",
       "      <td>0.0</td>\n",
       "      <td>0.001</td>\n",
       "      <td>9999</td>\n",
       "    </tr>\n",
       "    <tr>\n",
       "      <th>9999</th>\n",
       "      <td>-3.865890</td>\n",
       "      <td>-15.552489</td>\n",
       "      <td>0.0</td>\n",
       "      <td>0.001</td>\n",
       "      <td>10000</td>\n",
       "    </tr>\n",
       "  </tbody>\n",
       "</table>\n",
       "<p>10000 rows × 5 columns</p>\n",
       "</div>"
      ],
      "text/plain": [
       "      Estimate Beta0  Estimate Beta1  Population Beta0  Population Beta1  \\\n",
       "0          -4.911135    -2622.526593               0.0             0.001   \n",
       "1           4.874234     2057.725991               0.0             0.001   \n",
       "2          -4.713636    -2454.081799               0.0             0.001   \n",
       "3           4.774644     2868.044430               0.0             0.001   \n",
       "4          -4.528168    -1080.215266               0.0             0.001   \n",
       "...              ...             ...               ...               ...   \n",
       "9995       -3.803768        2.548835               0.0             0.001   \n",
       "9996       -3.803770        3.886029               0.0             0.001   \n",
       "9997       -3.803773       10.774331               0.0             0.001   \n",
       "9998       -3.803774       14.799477               0.0             0.001   \n",
       "9999       -3.865890      -15.552489               0.0             0.001   \n",
       "\n",
       "      Block Number  \n",
       "0                1  \n",
       "1                2  \n",
       "2                3  \n",
       "3                4  \n",
       "4                5  \n",
       "...            ...  \n",
       "9995          9996  \n",
       "9996          9997  \n",
       "9997          9998  \n",
       "9998          9999  \n",
       "9999         10000  \n",
       "\n",
       "[10000 rows x 5 columns]"
      ]
     },
     "execution_count": 7,
     "metadata": {},
     "output_type": "execute_result"
    }
   ],
   "source": [
    "df"
   ]
  },
  {
   "cell_type": "code",
   "execution_count": 8,
   "metadata": {},
   "outputs": [
    {
     "name": "stdout",
     "output_type": "stream",
     "text": [
      "0.3919467350190697\n"
     ]
    }
   ],
   "source": [
    "print(sum([x['Ratio'] for x in state[\"Historical Mined Ratio\"]]) / len(state[\"Historical Mined Ratio\"]))"
   ]
  },
  {
   "cell_type": "markdown",
   "metadata": {},
   "source": [
    "## Sanity Check D\n",
    "\n",
    "Changing difficulty and V3 mining boundary action"
   ]
  },
  {
   "cell_type": "code",
   "execution_count": 9,
   "metadata": {},
   "outputs": [
    {
     "name": "stdout",
     "output_type": "stream",
     "text": [
      "Placeholder has no control action options\n"
     ]
    },
    {
     "data": {
      "image/png": "[encoded data removed]",
      "text/plain": [
       "<Figure size 432x288 with 1 Axes>"
      ]
     },
     "metadata": {
      "needs_background": "light"
     },
     "output_type": "display_data"
    },
    {
     "data": {
      "image/png": "[encoded data removed]",
      "text/plain": [
       "<Figure size 432x288 with 1 Axes>"
      ]
     },
     "metadata": {
      "needs_background": "light"
     },
     "output_type": "display_data"
    }
   ],
   "source": [
    "params_base[\"FP Mine Block Boundary Action\"] = \"Mine Block Boundary Action V3\"\n",
    "msi = ms.build_implementation(params_base)\n",
    "state, params = msi.prepare_state_and_params(state_base, params_base, state_preperation_functions=[vesting_schedule_translate,\n",
    "                                                                                                   build_logistic_classifier], parameter_preperation_functions=[])\n",
    "\n",
    "for _ in range(10000):\n",
    "    # Set fixed values\n",
    "    state[\"K Qi\"] = 1\n",
    "    state[\"K Quai\"] = 500\n",
    "    state[\"Population Mining Beta Vector\"] = np.array([0, 0.001])\n",
    "    state[\"Block Difficulty\"] = max(np.random.normal(6000, 1000), 100)\n",
    "\n",
    "\n",
    "    msi.wiring[\"Mine Block Wiring\"](state, params, [])\n",
    "    msi.mechanisms[\"Log Simulation Data Mechanism\"](state, params, [])\n",
    "df = pd.DataFrame(state[\"Simulation History Log\"])\n",
    "plot_betas(df)"
   ]
  },
  {
   "cell_type": "code",
   "execution_count": 10,
   "metadata": {},
   "outputs": [
    {
     "data": {
      "text/html": [
       "<div>\n",
       "<style scoped>\n",
       "    .dataframe tbody tr th:only-of-type {\n",
       "        vertical-align: middle;\n",
       "    }\n",
       "\n",
       "    .dataframe tbody tr th {\n",
       "        vertical-align: top;\n",
       "    }\n",
       "\n",
       "    .dataframe thead th {\n",
       "        text-align: right;\n",
       "    }\n",
       "</style>\n",
       "<table border=\"1\" class=\"dataframe\">\n",
       "  <thead>\n",
       "    <tr style=\"text-align: right;\">\n",
       "      <th></th>\n",
       "      <th>Estimate Beta0</th>\n",
       "      <th>Estimate Beta1</th>\n",
       "      <th>Population Beta0</th>\n",
       "      <th>Population Beta1</th>\n",
       "      <th>Block Number</th>\n",
       "    </tr>\n",
       "  </thead>\n",
       "  <tbody>\n",
       "    <tr>\n",
       "      <th>0</th>\n",
       "      <td>-4.901575</td>\n",
       "      <td>-1776.717200</td>\n",
       "      <td>0.0</td>\n",
       "      <td>0.001</td>\n",
       "      <td>1</td>\n",
       "    </tr>\n",
       "    <tr>\n",
       "      <th>1</th>\n",
       "      <td>4.874119</td>\n",
       "      <td>4353.866039</td>\n",
       "      <td>0.0</td>\n",
       "      <td>0.001</td>\n",
       "      <td>2</td>\n",
       "    </tr>\n",
       "    <tr>\n",
       "      <th>2</th>\n",
       "      <td>-14.357362</td>\n",
       "      <td>-4270.813821</td>\n",
       "      <td>0.0</td>\n",
       "      <td>0.001</td>\n",
       "      <td>3</td>\n",
       "    </tr>\n",
       "    <tr>\n",
       "      <th>3</th>\n",
       "      <td>-4.788417</td>\n",
       "      <td>46.734629</td>\n",
       "      <td>0.0</td>\n",
       "      <td>0.001</td>\n",
       "      <td>4</td>\n",
       "    </tr>\n",
       "    <tr>\n",
       "      <th>4</th>\n",
       "      <td>-4.788854</td>\n",
       "      <td>-63.015695</td>\n",
       "      <td>0.0</td>\n",
       "      <td>0.001</td>\n",
       "      <td>5</td>\n",
       "    </tr>\n",
       "    <tr>\n",
       "      <th>...</th>\n",
       "      <td>...</td>\n",
       "      <td>...</td>\n",
       "      <td>...</td>\n",
       "      <td>...</td>\n",
       "      <td>...</td>\n",
       "    </tr>\n",
       "    <tr>\n",
       "      <th>9995</th>\n",
       "      <td>-16.752310</td>\n",
       "      <td>-7.765334</td>\n",
       "      <td>0.0</td>\n",
       "      <td>0.001</td>\n",
       "      <td>9996</td>\n",
       "    </tr>\n",
       "    <tr>\n",
       "      <th>9996</th>\n",
       "      <td>-16.690178</td>\n",
       "      <td>20.968900</td>\n",
       "      <td>0.0</td>\n",
       "      <td>0.001</td>\n",
       "      <td>9997</td>\n",
       "    </tr>\n",
       "    <tr>\n",
       "      <th>9997</th>\n",
       "      <td>-16.752305</td>\n",
       "      <td>-18.649413</td>\n",
       "      <td>0.0</td>\n",
       "      <td>0.001</td>\n",
       "      <td>9998</td>\n",
       "    </tr>\n",
       "    <tr>\n",
       "      <th>9998</th>\n",
       "      <td>-16.752301</td>\n",
       "      <td>-15.043853</td>\n",
       "      <td>0.0</td>\n",
       "      <td>0.001</td>\n",
       "      <td>9999</td>\n",
       "    </tr>\n",
       "    <tr>\n",
       "      <th>9999</th>\n",
       "      <td>-16.690185</td>\n",
       "      <td>16.564289</td>\n",
       "      <td>0.0</td>\n",
       "      <td>0.001</td>\n",
       "      <td>10000</td>\n",
       "    </tr>\n",
       "  </tbody>\n",
       "</table>\n",
       "<p>10000 rows × 5 columns</p>\n",
       "</div>"
      ],
      "text/plain": [
       "      Estimate Beta0  Estimate Beta1  Population Beta0  Population Beta1  \\\n",
       "0          -4.901575    -1776.717200               0.0             0.001   \n",
       "1           4.874119     4353.866039               0.0             0.001   \n",
       "2         -14.357362    -4270.813821               0.0             0.001   \n",
       "3          -4.788417       46.734629               0.0             0.001   \n",
       "4          -4.788854      -63.015695               0.0             0.001   \n",
       "...              ...             ...               ...               ...   \n",
       "9995      -16.752310       -7.765334               0.0             0.001   \n",
       "9996      -16.690178       20.968900               0.0             0.001   \n",
       "9997      -16.752305      -18.649413               0.0             0.001   \n",
       "9998      -16.752301      -15.043853               0.0             0.001   \n",
       "9999      -16.690185       16.564289               0.0             0.001   \n",
       "\n",
       "      Block Number  \n",
       "0                1  \n",
       "1                2  \n",
       "2                3  \n",
       "3                4  \n",
       "4                5  \n",
       "...            ...  \n",
       "9995          9996  \n",
       "9996          9997  \n",
       "9997          9998  \n",
       "9998          9999  \n",
       "9999         10000  \n",
       "\n",
       "[10000 rows x 5 columns]"
      ]
     },
     "execution_count": 10,
     "metadata": {},
     "output_type": "execute_result"
    }
   ],
   "source": [
    "df"
   ]
  },
  {
   "cell_type": "markdown",
   "metadata": {},
   "source": [
    "## Sanity Check E"
   ]
  },
  {
   "cell_type": "code",
   "execution_count": 11,
   "metadata": {},
   "outputs": [
    {
     "name": "stdout",
     "output_type": "stream",
     "text": [
      "Placeholder has no control action options\n"
     ]
    },
    {
     "data": {
      "image/png": "[encoded data removed]",
      "text/plain": [
       "<Figure size 432x288 with 1 Axes>"
      ]
     },
     "metadata": {
      "needs_background": "light"
     },
     "output_type": "display_data"
    },
    {
     "data": {
      "image/png": "[encoded data removed]",
      "text/plain": [
       "<Figure size 432x288 with 1 Axes>"
      ]
     },
     "metadata": {
      "needs_background": "light"
     },
     "output_type": "display_data"
    },
    {
     "name": "stdout",
     "output_type": "stream",
     "text": [
      "      Estimate Beta0  Estimate Beta1  Population Beta0  Population Beta1  \\\n",
      "0          14.940630     4006.476677               0.0             0.001   \n",
      "1          14.892953     6112.320249               0.0             0.001   \n",
      "2          -4.402794      202.975583               0.0             0.001   \n",
      "3         -13.881758      601.831608               0.0             0.001   \n",
      "4         -23.184343      719.356744               0.0             0.001   \n",
      "...              ...             ...               ...               ...   \n",
      "9995     -405.248900       40.523566               0.0             0.001   \n",
      "9996     -405.373171       -7.678014               0.0             0.001   \n",
      "9997     -405.373172        5.639304               0.0             0.001   \n",
      "9998     -405.373176       15.332504               0.0             0.001   \n",
      "9999     -405.373177       19.237219               0.0             0.001   \n",
      "\n",
      "      Block Number  \n",
      "0                1  \n",
      "1                2  \n",
      "2                3  \n",
      "3                4  \n",
      "4                5  \n",
      "...            ...  \n",
      "9995          9996  \n",
      "9996          9997  \n",
      "9997          9998  \n",
      "9998          9999  \n",
      "9999         10000  \n",
      "\n",
      "[10000 rows x 5 columns]\n"
     ]
    }
   ],
   "source": [
    "params_base[\"FP Mine Block Boundary Action\"] = \"Mine Block Boundary Action V3\"\n",
    "msi = ms.build_implementation(params_base)\n",
    "state, params = msi.prepare_state_and_params(state_base, params_base, state_preperation_functions=[vesting_schedule_translate,\n",
    "                                                                                                   build_logistic_classifier], parameter_preperation_functions=[])\n",
    "params[\"Difficulty Randomness Sigma\"] = .25\n",
    "for _ in range(10000):\n",
    "    # Set fixed values\n",
    "    state[\"K Qi\"] = 1\n",
    "    state[\"K Quai\"] = 500\n",
    "    state[\"Population Mining Beta Vector\"] = np.array([0, 0.001])\n",
    "    state[\"Block Difficulty\"] = max(np.random.normal(8000, 2000), 100)\n",
    "\n",
    "\n",
    "    msi.wiring[\"Mine Block Wiring\"](state, params, [])\n",
    "    msi.mechanisms[\"Log Simulation Data Mechanism\"](state, params, [])\n",
    "df = pd.DataFrame(state[\"Simulation History Log\"])\n",
    "plot_betas(df)\n",
    "print(df)"
   ]
  },
  {
   "cell_type": "code",
   "execution_count": null,
   "metadata": {},
   "outputs": [],
   "source": []
  }
 ],
 "metadata": {
  "kernelspec": {
   "display_name": "BlockScience",
   "language": "python",
   "name": "python3"
  },
  "language_info": {
   "codemirror_mode": {
    "name": "ipython",
    "version": 3
   },
   "file_extension": ".py",
   "mimetype": "text/x-python",
   "name": "python",
   "nbconvert_exporter": "python",
   "pygments_lexer": "ipython3",
   "version": "3.9.12"
  }
 },
 "nbformat": 4,
 "nbformat_minor": 2
}
