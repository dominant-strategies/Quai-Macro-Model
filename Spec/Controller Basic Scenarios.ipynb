{
 "cells": [
  {
   "cell_type": "code",
   "execution_count": 1,
   "metadata": {},
   "outputs": [],
   "source": [
    "import os \n",
    "os.chdir(\"../..\")\n",
    "from MSML.src.math_spec_mapping import (load_from_json, create_action_chains_graph, write_out_boundary_actions,\n",
    "                      write_out_policies, write_out_mechanisms, load_svg_graphviz, write_basic_report_full,\n",
    "                      write_action_chain_reports, write_spec_tree, create_parameter_impact_table,\n",
    "                     write_entity_reports, write_wiring_report, write_entity_markdown_report,\n",
    "                     write_all_markdown_reports)\n",
    "os.chdir(\"Quai-Macro-Model/Spec\")\n",
    "\n",
    "from IPython.display import display, display_html\n",
    "from copy import deepcopy\n",
    "from src import math_spec_json\n",
    "import numpy as np\n",
    "from pprint import pprint\n",
    "from simulation import state_base, params_base, vesting_schedule_translate, build_logistic_classifier, plot_betas\n",
    "import pandas as pd\n",
    "\n",
    "ms = load_from_json(deepcopy(math_spec_json))\n",
    "\n"
   ]
  },
  {
   "cell_type": "markdown",
   "metadata": {},
   "source": [
    "## Sanity Check Scenario\n",
    "\n",
    "Premise: Ensure the simulation framework is operating as intended, without complications from the controller.\n",
    "\n",
    "Condition(s): Fix the values of:\n",
    "- $\\mathbf u$, the controller update parameters ($k_{qi}, k_{quai}$); and\n",
    "- $\\pmb{\\beta}$, the _miner decision population parameter vector_, i.e. the parameter vector for the miner's probabilistic decision on which token to receive as block reward.\n",
    "\n",
    "Method: MC runs (across realizations of other stochastic variables), generating time series for e.g. miner decisions and proposed block rewards. "
   ]
  },
  {
   "cell_type": "code",
   "execution_count": 2,
   "metadata": {},
   "outputs": [
    {
     "name": "stdout",
     "output_type": "stream",
     "text": [
      "Placeholder has no control action options\n"
     ]
    },
    {
     "data": {
      "image/png": "[encoded data removed]",
      "text/plain": [
       "<Figure size 432x288 with 1 Axes>"
      ]
     },
     "metadata": {
      "needs_background": "light"
     },
     "output_type": "display_data"
    },
    {
     "data": {
      "image/png": "[encoded data removed]",
      "text/plain": [
       "<Figure size 432x288 with 1 Axes>"
      ]
     },
     "metadata": {
      "needs_background": "light"
     },
     "output_type": "display_data"
    }
   ],
   "source": [
    "params_base[\"FP Mine Block Boundary Action\"] = \"TEST Mine Block Boundary Action\"\n",
    "msi = ms.build_implementation(params_base)\n",
    "state, params = msi.prepare_state_and_params(state_base, params_base, state_preperation_functions=[vesting_schedule_translate,\n",
    "                                                                                                   build_logistic_classifier], parameter_preperation_functions=[])\n",
    "\n",
    "\n",
    "for _ in range(10000):\n",
    "    # Set fixed values\n",
    "    state[\"K Qi\"] = 1\n",
    "    state[\"K Quai\"] = 500\n",
    "    state[\"Population Mining Beta Vector\"] = np.array([0, .001])\n",
    "\n",
    "\n",
    "    msi.wiring[\"Mine Block Wiring\"](state, params, [])\n",
    "    msi.mechanisms[\"Log Simulation Data Mechanism\"](state, params, [])\n",
    "\n",
    "df = pd.DataFrame(state[\"Simulation History Log\"])\n",
    "plot_betas(df)"
   ]
  },
  {
   "cell_type": "code",
   "execution_count": 3,
   "metadata": {},
   "outputs": [
    {
     "data": {
      "text/html": [
       "<div>\n",
       "<style scoped>\n",
       "    .dataframe tbody tr th:only-of-type {\n",
       "        vertical-align: middle;\n",
       "    }\n",
       "\n",
       "    .dataframe tbody tr th {\n",
       "        vertical-align: top;\n",
       "    }\n",
       "\n",
       "    .dataframe thead th {\n",
       "        text-align: right;\n",
       "    }\n",
       "</style>\n",
       "<table border=\"1\" class=\"dataframe\">\n",
       "  <thead>\n",
       "    <tr style=\"text-align: right;\">\n",
       "      <th></th>\n",
       "      <th>Estimate Beta0</th>\n",
       "      <th>Estimate Beta1</th>\n",
       "      <th>Population Beta0</th>\n",
       "      <th>Population Beta1</th>\n",
       "      <th>Block Number</th>\n",
       "    </tr>\n",
       "  </thead>\n",
       "  <tbody>\n",
       "    <tr>\n",
       "      <th>0</th>\n",
       "      <td>-4.911311</td>\n",
       "      <td>-2347.897386</td>\n",
       "      <td>0.0</td>\n",
       "      <td>0.001</td>\n",
       "      <td>1</td>\n",
       "    </tr>\n",
       "    <tr>\n",
       "      <th>1</th>\n",
       "      <td>4.873892</td>\n",
       "      <td>2330.008890</td>\n",
       "      <td>0.0</td>\n",
       "      <td>0.001</td>\n",
       "      <td>2</td>\n",
       "    </tr>\n",
       "    <tr>\n",
       "      <th>2</th>\n",
       "      <td>4.827617</td>\n",
       "      <td>2307.886614</td>\n",
       "      <td>0.0</td>\n",
       "      <td>0.001</td>\n",
       "      <td>3</td>\n",
       "    </tr>\n",
       "    <tr>\n",
       "      <th>3</th>\n",
       "      <td>4.791949</td>\n",
       "      <td>2290.835557</td>\n",
       "      <td>0.0</td>\n",
       "      <td>0.001</td>\n",
       "      <td>4</td>\n",
       "    </tr>\n",
       "    <tr>\n",
       "      <th>4</th>\n",
       "      <td>-4.511026</td>\n",
       "      <td>-2156.537388</td>\n",
       "      <td>0.0</td>\n",
       "      <td>0.001</td>\n",
       "      <td>5</td>\n",
       "    </tr>\n",
       "    <tr>\n",
       "      <th>...</th>\n",
       "      <td>...</td>\n",
       "      <td>...</td>\n",
       "      <td>...</td>\n",
       "      <td>...</td>\n",
       "      <td>...</td>\n",
       "    </tr>\n",
       "    <tr>\n",
       "      <th>9995</th>\n",
       "      <td>0.000119</td>\n",
       "      <td>0.056852</td>\n",
       "      <td>0.0</td>\n",
       "      <td>0.001</td>\n",
       "      <td>9996</td>\n",
       "    </tr>\n",
       "    <tr>\n",
       "      <th>9996</th>\n",
       "      <td>0.000117</td>\n",
       "      <td>0.055929</td>\n",
       "      <td>0.0</td>\n",
       "      <td>0.001</td>\n",
       "      <td>9997</td>\n",
       "    </tr>\n",
       "    <tr>\n",
       "      <th>9997</th>\n",
       "      <td>-0.062010</td>\n",
       "      <td>-29.644384</td>\n",
       "      <td>0.0</td>\n",
       "      <td>0.001</td>\n",
       "      <td>9998</td>\n",
       "    </tr>\n",
       "    <tr>\n",
       "      <th>9998</th>\n",
       "      <td>-0.062006</td>\n",
       "      <td>-29.642539</td>\n",
       "      <td>0.0</td>\n",
       "      <td>0.001</td>\n",
       "      <td>9999</td>\n",
       "    </tr>\n",
       "    <tr>\n",
       "      <th>9999</th>\n",
       "      <td>-0.062002</td>\n",
       "      <td>-29.640694</td>\n",
       "      <td>0.0</td>\n",
       "      <td>0.001</td>\n",
       "      <td>10000</td>\n",
       "    </tr>\n",
       "  </tbody>\n",
       "</table>\n",
       "<p>10000 rows × 5 columns</p>\n",
       "</div>"
      ],
      "text/plain": [
       "      Estimate Beta0  Estimate Beta1  Population Beta0  Population Beta1  \\\n",
       "0          -4.911311    -2347.897386               0.0             0.001   \n",
       "1           4.873892     2330.008890               0.0             0.001   \n",
       "2           4.827617     2307.886614               0.0             0.001   \n",
       "3           4.791949     2290.835557               0.0             0.001   \n",
       "4          -4.511026    -2156.537388               0.0             0.001   \n",
       "...              ...             ...               ...               ...   \n",
       "9995        0.000119        0.056852               0.0             0.001   \n",
       "9996        0.000117        0.055929               0.0             0.001   \n",
       "9997       -0.062010      -29.644384               0.0             0.001   \n",
       "9998       -0.062006      -29.642539               0.0             0.001   \n",
       "9999       -0.062002      -29.640694               0.0             0.001   \n",
       "\n",
       "      Block Number  \n",
       "0                1  \n",
       "1                2  \n",
       "2                3  \n",
       "3                4  \n",
       "4                5  \n",
       "...            ...  \n",
       "9995          9996  \n",
       "9996          9997  \n",
       "9997          9998  \n",
       "9998          9999  \n",
       "9999         10000  \n",
       "\n",
       "[10000 rows x 5 columns]"
      ]
     },
     "execution_count": 3,
     "metadata": {},
     "output_type": "execute_result"
    }
   ],
   "source": [
    "df"
   ]
  },
  {
   "cell_type": "markdown",
   "metadata": {},
   "source": [
    "## Sanity Check B\n",
    "\n",
    "Above sanity check but with changing difficulties"
   ]
  },
  {
   "cell_type": "code",
   "execution_count": 4,
   "metadata": {},
   "outputs": [
    {
     "name": "stdout",
     "output_type": "stream",
     "text": [
      "Placeholder has no control action options\n"
     ]
    },
    {
     "data": {
      "image/png": "[encoded data removed]",
      "text/plain": [
       "<Figure size 432x288 with 1 Axes>"
      ]
     },
     "metadata": {
      "needs_background": "light"
     },
     "output_type": "display_data"
    },
    {
     "data": {
      "image/png": "[encoded data removed]",
      "text/plain": [
       "<Figure size 432x288 with 1 Axes>"
      ]
     },
     "metadata": {
      "needs_background": "light"
     },
     "output_type": "display_data"
    }
   ],
   "source": [
    "params_base[\"FP Mine Block Boundary Action\"] = \"TEST Mine Block Boundary Action\"\n",
    "msi = ms.build_implementation(params_base)\n",
    "state, params = msi.prepare_state_and_params(state_base, params_base, state_preperation_functions=[vesting_schedule_translate,\n",
    "                                                                                                   build_logistic_classifier], parameter_preperation_functions=[])\n",
    "\n",
    "for _ in range(10000):\n",
    "    # Set fixed values\n",
    "    state[\"K Qi\"] = 1\n",
    "    state[\"K Quai\"] = 500\n",
    "    state[\"Population Mining Beta Vector\"] = np.array([0, 0.001])\n",
    "    state[\"Block Difficulty\"] = max(np.random.normal(6000, 1000), 100)\n",
    "\n",
    "\n",
    "    msi.wiring[\"Mine Block Wiring\"](state, params, [])\n",
    "    msi.mechanisms[\"Log Simulation Data Mechanism\"](state, params, [])\n",
    "df = pd.DataFrame(state[\"Simulation History Log\"])\n",
    "plot_betas(df)"
   ]
  },
  {
   "cell_type": "code",
   "execution_count": 5,
   "metadata": {},
   "outputs": [
    {
     "data": {
      "text/html": [
       "<div>\n",
       "<style scoped>\n",
       "    .dataframe tbody tr th:only-of-type {\n",
       "        vertical-align: middle;\n",
       "    }\n",
       "\n",
       "    .dataframe tbody tr th {\n",
       "        vertical-align: top;\n",
       "    }\n",
       "\n",
       "    .dataframe thead th {\n",
       "        text-align: right;\n",
       "    }\n",
       "</style>\n",
       "<table border=\"1\" class=\"dataframe\">\n",
       "  <thead>\n",
       "    <tr style=\"text-align: right;\">\n",
       "      <th></th>\n",
       "      <th>Estimate Beta0</th>\n",
       "      <th>Estimate Beta1</th>\n",
       "      <th>Population Beta0</th>\n",
       "      <th>Population Beta1</th>\n",
       "      <th>Block Number</th>\n",
       "    </tr>\n",
       "  </thead>\n",
       "  <tbody>\n",
       "    <tr>\n",
       "      <th>0</th>\n",
       "      <td>4.930800</td>\n",
       "      <td>1943.576749</td>\n",
       "      <td>0.0</td>\n",
       "      <td>0.001</td>\n",
       "      <td>1</td>\n",
       "    </tr>\n",
       "    <tr>\n",
       "      <th>1</th>\n",
       "      <td>4.882974</td>\n",
       "      <td>1917.090989</td>\n",
       "      <td>0.0</td>\n",
       "      <td>0.001</td>\n",
       "      <td>2</td>\n",
       "    </tr>\n",
       "    <tr>\n",
       "      <th>2</th>\n",
       "      <td>-4.705108</td>\n",
       "      <td>-2648.375178</td>\n",
       "      <td>0.0</td>\n",
       "      <td>0.001</td>\n",
       "      <td>3</td>\n",
       "    </tr>\n",
       "    <tr>\n",
       "      <th>3</th>\n",
       "      <td>-4.588278</td>\n",
       "      <td>-2604.177246</td>\n",
       "      <td>0.0</td>\n",
       "      <td>0.001</td>\n",
       "      <td>4</td>\n",
       "    </tr>\n",
       "    <tr>\n",
       "      <th>4</th>\n",
       "      <td>4.775457</td>\n",
       "      <td>1961.544538</td>\n",
       "      <td>0.0</td>\n",
       "      <td>0.001</td>\n",
       "      <td>5</td>\n",
       "    </tr>\n",
       "    <tr>\n",
       "      <th>...</th>\n",
       "      <td>...</td>\n",
       "      <td>...</td>\n",
       "      <td>...</td>\n",
       "      <td>...</td>\n",
       "      <td>...</td>\n",
       "    </tr>\n",
       "    <tr>\n",
       "      <th>9995</th>\n",
       "      <td>-4.335003</td>\n",
       "      <td>29.214160</td>\n",
       "      <td>0.0</td>\n",
       "      <td>0.001</td>\n",
       "      <td>9996</td>\n",
       "    </tr>\n",
       "    <tr>\n",
       "      <th>9996</th>\n",
       "      <td>-4.397140</td>\n",
       "      <td>1.086923</td>\n",
       "      <td>0.0</td>\n",
       "      <td>0.001</td>\n",
       "      <td>9997</td>\n",
       "    </tr>\n",
       "    <tr>\n",
       "      <th>9997</th>\n",
       "      <td>-4.459268</td>\n",
       "      <td>-29.466719</td>\n",
       "      <td>0.0</td>\n",
       "      <td>0.001</td>\n",
       "      <td>9998</td>\n",
       "    </tr>\n",
       "    <tr>\n",
       "      <th>9998</th>\n",
       "      <td>-4.335022</td>\n",
       "      <td>26.281665</td>\n",
       "      <td>0.0</td>\n",
       "      <td>0.001</td>\n",
       "      <td>9999</td>\n",
       "    </tr>\n",
       "    <tr>\n",
       "      <th>9999</th>\n",
       "      <td>-4.335024</td>\n",
       "      <td>26.280702</td>\n",
       "      <td>0.0</td>\n",
       "      <td>0.001</td>\n",
       "      <td>10000</td>\n",
       "    </tr>\n",
       "  </tbody>\n",
       "</table>\n",
       "<p>10000 rows × 5 columns</p>\n",
       "</div>"
      ],
      "text/plain": [
       "      Estimate Beta0  Estimate Beta1  Population Beta0  Population Beta1  \\\n",
       "0           4.930800     1943.576749               0.0             0.001   \n",
       "1           4.882974     1917.090989               0.0             0.001   \n",
       "2          -4.705108    -2648.375178               0.0             0.001   \n",
       "3          -4.588278    -2604.177246               0.0             0.001   \n",
       "4           4.775457     1961.544538               0.0             0.001   \n",
       "...              ...             ...               ...               ...   \n",
       "9995       -4.335003       29.214160               0.0             0.001   \n",
       "9996       -4.397140        1.086923               0.0             0.001   \n",
       "9997       -4.459268      -29.466719               0.0             0.001   \n",
       "9998       -4.335022       26.281665               0.0             0.001   \n",
       "9999       -4.335024       26.280702               0.0             0.001   \n",
       "\n",
       "      Block Number  \n",
       "0                1  \n",
       "1                2  \n",
       "2                3  \n",
       "3                4  \n",
       "4                5  \n",
       "...            ...  \n",
       "9995          9996  \n",
       "9996          9997  \n",
       "9997          9998  \n",
       "9998          9999  \n",
       "9999         10000  \n",
       "\n",
       "[10000 rows x 5 columns]"
      ]
     },
     "execution_count": 5,
     "metadata": {},
     "output_type": "execute_result"
    }
   ],
   "source": [
    "df"
   ]
  },
  {
   "cell_type": "markdown",
   "metadata": {},
   "source": [
    "## Sanity Check C\n",
    "\n",
    "Same difficulty but add in variations of difficulty in epochs"
   ]
  },
  {
   "cell_type": "code",
   "execution_count": 6,
   "metadata": {},
   "outputs": [
    {
     "name": "stdout",
     "output_type": "stream",
     "text": [
      "Placeholder has no control action options\n"
     ]
    },
    {
     "data": {
      "image/png": "[encoded data removed]",
      "text/plain": [
       "<Figure size 432x288 with 1 Axes>"
      ]
     },
     "metadata": {
      "needs_background": "light"
     },
     "output_type": "display_data"
    },
    {
     "data": {
      "image/png": "[encoded data removed]",
      "text/plain": [
       "<Figure size 432x288 with 1 Axes>"
      ]
     },
     "metadata": {
      "needs_background": "light"
     },
     "output_type": "display_data"
    }
   ],
   "source": [
    "params_base[\"FP Mine Block Boundary Action\"] = \"Mine Block Boundary Action V3\"\n",
    "msi = ms.build_implementation(params_base)\n",
    "state, params = msi.prepare_state_and_params(state_base, params_base, state_preperation_functions=[vesting_schedule_translate,\n",
    "                                                                                                   build_logistic_classifier], parameter_preperation_functions=[])\n",
    "\n",
    "for _ in range(10000):\n",
    "    # Set fixed values\n",
    "    state[\"K Qi\"] = 1\n",
    "    state[\"K Quai\"] = 500\n",
    "    state[\"Population Mining Beta Vector\"] = np.array([0, 0.001])\n",
    "    state[\"Block Difficulty\"] = 6000\n",
    "\n",
    "\n",
    "    msi.wiring[\"Mine Block Wiring\"](state, params, [])\n",
    "    msi.mechanisms[\"Log Simulation Data Mechanism\"](state, params, [])\n",
    "df = pd.DataFrame(state[\"Simulation History Log\"])\n",
    "plot_betas(df)"
   ]
  },
  {
   "cell_type": "code",
   "execution_count": 7,
   "metadata": {},
   "outputs": [
    {
     "data": {
      "text/html": [
       "<div>\n",
       "<style scoped>\n",
       "    .dataframe tbody tr th:only-of-type {\n",
       "        vertical-align: middle;\n",
       "    }\n",
       "\n",
       "    .dataframe tbody tr th {\n",
       "        vertical-align: top;\n",
       "    }\n",
       "\n",
       "    .dataframe thead th {\n",
       "        text-align: right;\n",
       "    }\n",
       "</style>\n",
       "<table border=\"1\" class=\"dataframe\">\n",
       "  <thead>\n",
       "    <tr style=\"text-align: right;\">\n",
       "      <th></th>\n",
       "      <th>Estimate Beta0</th>\n",
       "      <th>Estimate Beta1</th>\n",
       "      <th>Population Beta0</th>\n",
       "      <th>Population Beta1</th>\n",
       "      <th>Block Number</th>\n",
       "    </tr>\n",
       "  </thead>\n",
       "  <tbody>\n",
       "    <tr>\n",
       "      <th>0</th>\n",
       "      <td>4.921064</td>\n",
       "      <td>3102.881518</td>\n",
       "      <td>0.0</td>\n",
       "      <td>0.001</td>\n",
       "      <td>1</td>\n",
       "    </tr>\n",
       "    <tr>\n",
       "      <th>1</th>\n",
       "      <td>-4.845232</td>\n",
       "      <td>-1131.061416</td>\n",
       "      <td>0.0</td>\n",
       "      <td>0.001</td>\n",
       "      <td>2</td>\n",
       "    </tr>\n",
       "    <tr>\n",
       "      <th>2</th>\n",
       "      <td>4.826305</td>\n",
       "      <td>3557.743551</td>\n",
       "      <td>0.0</td>\n",
       "      <td>0.001</td>\n",
       "      <td>3</td>\n",
       "    </tr>\n",
       "    <tr>\n",
       "      <th>3</th>\n",
       "      <td>4.790348</td>\n",
       "      <td>3257.929640</td>\n",
       "      <td>0.0</td>\n",
       "      <td>0.001</td>\n",
       "      <td>4</td>\n",
       "    </tr>\n",
       "    <tr>\n",
       "      <th>4</th>\n",
       "      <td>4.738265</td>\n",
       "      <td>3925.563626</td>\n",
       "      <td>0.0</td>\n",
       "      <td>0.001</td>\n",
       "      <td>5</td>\n",
       "    </tr>\n",
       "    <tr>\n",
       "      <th>...</th>\n",
       "      <td>...</td>\n",
       "      <td>...</td>\n",
       "      <td>...</td>\n",
       "      <td>...</td>\n",
       "      <td>...</td>\n",
       "    </tr>\n",
       "    <tr>\n",
       "      <th>9995</th>\n",
       "      <td>-14.592619</td>\n",
       "      <td>16.775203</td>\n",
       "      <td>0.0</td>\n",
       "      <td>0.001</td>\n",
       "      <td>9996</td>\n",
       "    </tr>\n",
       "    <tr>\n",
       "      <th>9996</th>\n",
       "      <td>-14.592622</td>\n",
       "      <td>25.849773</td>\n",
       "      <td>0.0</td>\n",
       "      <td>0.001</td>\n",
       "      <td>9997</td>\n",
       "    </tr>\n",
       "    <tr>\n",
       "      <th>9997</th>\n",
       "      <td>-14.654749</td>\n",
       "      <td>-5.846619</td>\n",
       "      <td>0.0</td>\n",
       "      <td>0.001</td>\n",
       "      <td>9998</td>\n",
       "    </tr>\n",
       "    <tr>\n",
       "      <th>9998</th>\n",
       "      <td>-14.592627</td>\n",
       "      <td>26.807701</td>\n",
       "      <td>0.0</td>\n",
       "      <td>0.001</td>\n",
       "      <td>9999</td>\n",
       "    </tr>\n",
       "    <tr>\n",
       "      <th>9999</th>\n",
       "      <td>-14.716855</td>\n",
       "      <td>-27.546176</td>\n",
       "      <td>0.0</td>\n",
       "      <td>0.001</td>\n",
       "      <td>10000</td>\n",
       "    </tr>\n",
       "  </tbody>\n",
       "</table>\n",
       "<p>10000 rows × 5 columns</p>\n",
       "</div>"
      ],
      "text/plain": [
       "      Estimate Beta0  Estimate Beta1  Population Beta0  Population Beta1  \\\n",
       "0           4.921064     3102.881518               0.0             0.001   \n",
       "1          -4.845232    -1131.061416               0.0             0.001   \n",
       "2           4.826305     3557.743551               0.0             0.001   \n",
       "3           4.790348     3257.929640               0.0             0.001   \n",
       "4           4.738265     3925.563626               0.0             0.001   \n",
       "...              ...             ...               ...               ...   \n",
       "9995      -14.592619       16.775203               0.0             0.001   \n",
       "9996      -14.592622       25.849773               0.0             0.001   \n",
       "9997      -14.654749       -5.846619               0.0             0.001   \n",
       "9998      -14.592627       26.807701               0.0             0.001   \n",
       "9999      -14.716855      -27.546176               0.0             0.001   \n",
       "\n",
       "      Block Number  \n",
       "0                1  \n",
       "1                2  \n",
       "2                3  \n",
       "3                4  \n",
       "4                5  \n",
       "...            ...  \n",
       "9995          9996  \n",
       "9996          9997  \n",
       "9997          9998  \n",
       "9998          9999  \n",
       "9999         10000  \n",
       "\n",
       "[10000 rows x 5 columns]"
      ]
     },
     "execution_count": 7,
     "metadata": {},
     "output_type": "execute_result"
    }
   ],
   "source": [
    "df"
   ]
  },
  {
   "cell_type": "code",
   "execution_count": 8,
   "metadata": {},
   "outputs": [
    {
     "name": "stdout",
     "output_type": "stream",
     "text": [
      "0.39343657154346706\n"
     ]
    }
   ],
   "source": [
    "print(sum([x['Ratio'] for x in state[\"Historical Mined Ratio\"]]) / len(state[\"Historical Mined Ratio\"]))"
   ]
  },
  {
   "cell_type": "markdown",
   "metadata": {},
   "source": [
    "## Sanity Check D\n",
    "\n",
    "Changing difficulty and V3 mining boundary action"
   ]
  },
  {
   "cell_type": "code",
   "execution_count": 9,
   "metadata": {},
   "outputs": [
    {
     "name": "stdout",
     "output_type": "stream",
     "text": [
      "Placeholder has no control action options\n"
     ]
    },
    {
     "data": {
      "image/png": "[encoded data removed]",
      "text/plain": [
       "<Figure size 432x288 with 1 Axes>"
      ]
     },
     "metadata": {
      "needs_background": "light"
     },
     "output_type": "display_data"
    },
    {
     "data": {
      "image/png": "[encoded data removed]",
      "text/plain": [
       "<Figure size 432x288 with 1 Axes>"
      ]
     },
     "metadata": {
      "needs_background": "light"
     },
     "output_type": "display_data"
    }
   ],
   "source": [
    "params_base[\"FP Mine Block Boundary Action\"] = \"Mine Block Boundary Action V3\"\n",
    "msi = ms.build_implementation(params_base)\n",
    "state, params = msi.prepare_state_and_params(state_base, params_base, state_preperation_functions=[vesting_schedule_translate,\n",
    "                                                                                                   build_logistic_classifier], parameter_preperation_functions=[])\n",
    "\n",
    "for _ in range(10000):\n",
    "    # Set fixed values\n",
    "    state[\"K Qi\"] = 1\n",
    "    state[\"K Quai\"] = 500\n",
    "    state[\"Population Mining Beta Vector\"] = np.array([0, 0.001])\n",
    "    state[\"Block Difficulty\"] = max(np.random.normal(6000, 1000), 100)\n",
    "\n",
    "\n",
    "    msi.wiring[\"Mine Block Wiring\"](state, params, [])\n",
    "    msi.mechanisms[\"Log Simulation Data Mechanism\"](state, params, [])\n",
    "df = pd.DataFrame(state[\"Simulation History Log\"])\n",
    "plot_betas(df)"
   ]
  },
  {
   "cell_type": "code",
   "execution_count": 10,
   "metadata": {},
   "outputs": [
    {
     "data": {
      "text/html": [
       "<div>\n",
       "<style scoped>\n",
       "    .dataframe tbody tr th:only-of-type {\n",
       "        vertical-align: middle;\n",
       "    }\n",
       "\n",
       "    .dataframe tbody tr th {\n",
       "        vertical-align: top;\n",
       "    }\n",
       "\n",
       "    .dataframe thead th {\n",
       "        text-align: right;\n",
       "    }\n",
       "</style>\n",
       "<table border=\"1\" class=\"dataframe\">\n",
       "  <thead>\n",
       "    <tr style=\"text-align: right;\">\n",
       "      <th></th>\n",
       "      <th>Estimate Beta0</th>\n",
       "      <th>Estimate Beta1</th>\n",
       "      <th>Population Beta0</th>\n",
       "      <th>Population Beta1</th>\n",
       "      <th>Block Number</th>\n",
       "    </tr>\n",
       "  </thead>\n",
       "  <tbody>\n",
       "    <tr>\n",
       "      <th>0</th>\n",
       "      <td>4.941004</td>\n",
       "      <td>3146.427876</td>\n",
       "      <td>0.0</td>\n",
       "      <td>0.001</td>\n",
       "      <td>1</td>\n",
       "    </tr>\n",
       "    <tr>\n",
       "      <th>1</th>\n",
       "      <td>4.883838</td>\n",
       "      <td>2950.186486</td>\n",
       "      <td>0.0</td>\n",
       "      <td>0.001</td>\n",
       "      <td>2</td>\n",
       "    </tr>\n",
       "    <tr>\n",
       "      <th>2</th>\n",
       "      <td>-4.695061</td>\n",
       "      <td>-2442.276163</td>\n",
       "      <td>0.0</td>\n",
       "      <td>0.001</td>\n",
       "      <td>3</td>\n",
       "    </tr>\n",
       "    <tr>\n",
       "      <th>3</th>\n",
       "      <td>-4.641200</td>\n",
       "      <td>-2343.102858</td>\n",
       "      <td>0.0</td>\n",
       "      <td>0.001</td>\n",
       "      <td>4</td>\n",
       "    </tr>\n",
       "    <tr>\n",
       "      <th>4</th>\n",
       "      <td>-4.545354</td>\n",
       "      <td>-1903.420045</td>\n",
       "      <td>0.0</td>\n",
       "      <td>0.001</td>\n",
       "      <td>5</td>\n",
       "    </tr>\n",
       "    <tr>\n",
       "      <th>...</th>\n",
       "      <td>...</td>\n",
       "      <td>...</td>\n",
       "      <td>...</td>\n",
       "      <td>...</td>\n",
       "      <td>...</td>\n",
       "    </tr>\n",
       "    <tr>\n",
       "      <th>9995</th>\n",
       "      <td>-36.805864</td>\n",
       "      <td>12.479824</td>\n",
       "      <td>0.0</td>\n",
       "      <td>0.001</td>\n",
       "      <td>9996</td>\n",
       "    </tr>\n",
       "    <tr>\n",
       "      <th>9996</th>\n",
       "      <td>-36.867998</td>\n",
       "      <td>-30.259420</td>\n",
       "      <td>0.0</td>\n",
       "      <td>0.001</td>\n",
       "      <td>9997</td>\n",
       "    </tr>\n",
       "    <tr>\n",
       "      <th>9997</th>\n",
       "      <td>-36.743743</td>\n",
       "      <td>29.847045</td>\n",
       "      <td>0.0</td>\n",
       "      <td>0.001</td>\n",
       "      <td>9998</td>\n",
       "    </tr>\n",
       "    <tr>\n",
       "      <th>9998</th>\n",
       "      <td>-36.805868</td>\n",
       "      <td>12.850258</td>\n",
       "      <td>0.0</td>\n",
       "      <td>0.001</td>\n",
       "      <td>9999</td>\n",
       "    </tr>\n",
       "    <tr>\n",
       "      <th>9999</th>\n",
       "      <td>-36.805871</td>\n",
       "      <td>15.173574</td>\n",
       "      <td>0.0</td>\n",
       "      <td>0.001</td>\n",
       "      <td>10000</td>\n",
       "    </tr>\n",
       "  </tbody>\n",
       "</table>\n",
       "<p>10000 rows × 5 columns</p>\n",
       "</div>"
      ],
      "text/plain": [
       "      Estimate Beta0  Estimate Beta1  Population Beta0  Population Beta1  \\\n",
       "0           4.941004     3146.427876               0.0             0.001   \n",
       "1           4.883838     2950.186486               0.0             0.001   \n",
       "2          -4.695061    -2442.276163               0.0             0.001   \n",
       "3          -4.641200    -2343.102858               0.0             0.001   \n",
       "4          -4.545354    -1903.420045               0.0             0.001   \n",
       "...              ...             ...               ...               ...   \n",
       "9995      -36.805864       12.479824               0.0             0.001   \n",
       "9996      -36.867998      -30.259420               0.0             0.001   \n",
       "9997      -36.743743       29.847045               0.0             0.001   \n",
       "9998      -36.805868       12.850258               0.0             0.001   \n",
       "9999      -36.805871       15.173574               0.0             0.001   \n",
       "\n",
       "      Block Number  \n",
       "0                1  \n",
       "1                2  \n",
       "2                3  \n",
       "3                4  \n",
       "4                5  \n",
       "...            ...  \n",
       "9995          9996  \n",
       "9996          9997  \n",
       "9997          9998  \n",
       "9998          9999  \n",
       "9999         10000  \n",
       "\n",
       "[10000 rows x 5 columns]"
      ]
     },
     "execution_count": 10,
     "metadata": {},
     "output_type": "execute_result"
    }
   ],
   "source": [
    "df"
   ]
  },
  {
   "cell_type": "markdown",
   "metadata": {},
   "source": [
    "## Sanity Check E"
   ]
  },
  {
   "cell_type": "code",
   "execution_count": 11,
   "metadata": {},
   "outputs": [
    {
     "name": "stdout",
     "output_type": "stream",
     "text": [
      "Placeholder has no control action options\n"
     ]
    },
    {
     "data": {
      "image/png": "[encoded data removed]",
      "text/plain": [
       "<Figure size 432x288 with 1 Axes>"
      ]
     },
     "metadata": {
      "needs_background": "light"
     },
     "output_type": "display_data"
    },
    {
     "data": {
      "image/png": "[encoded data removed]",
      "text/plain": [
       "<Figure size 432x288 with 1 Axes>"
      ]
     },
     "metadata": {
      "needs_background": "light"
     },
     "output_type": "display_data"
    },
    {
     "name": "stdout",
     "output_type": "stream",
     "text": [
      "      Estimate Beta0  Estimate Beta1  Population Beta0  Population Beta1  \\\n",
      "0           4.892289     3427.558912               0.0             0.001   \n",
      "1           4.873253     2681.449928               0.0             0.001   \n",
      "2          -4.733552    -4358.275816               0.0             0.001   \n",
      "3          14.197818     5067.316210               0.0             0.001   \n",
      "4          -4.468420    -2113.318564               0.0             0.001   \n",
      "...              ...             ...               ...               ...   \n",
      "9995     -404.354103        9.039279               0.0             0.001   \n",
      "9996     -404.354103        4.649312               0.0             0.001   \n",
      "9997     -404.354106       -8.169163               0.0             0.001   \n",
      "9998     -404.229863       14.035379               0.0             0.001   \n",
      "9999     -404.167752       36.137814               0.0             0.001   \n",
      "\n",
      "      Block Number  \n",
      "0                1  \n",
      "1                2  \n",
      "2                3  \n",
      "3                4  \n",
      "4                5  \n",
      "...            ...  \n",
      "9995          9996  \n",
      "9996          9997  \n",
      "9997          9998  \n",
      "9998          9999  \n",
      "9999         10000  \n",
      "\n",
      "[10000 rows x 5 columns]\n"
     ]
    }
   ],
   "source": [
    "params_base[\"FP Mine Block Boundary Action\"] = \"Mine Block Boundary Action V3\"\n",
    "msi = ms.build_implementation(params_base)\n",
    "state, params = msi.prepare_state_and_params(state_base, params_base, state_preperation_functions=[vesting_schedule_translate,\n",
    "                                                                                                   build_logistic_classifier], parameter_preperation_functions=[])\n",
    "params[\"Difficulty Randomness Sigma\"] = .25\n",
    "for _ in range(10000):\n",
    "    # Set fixed values\n",
    "    state[\"K Qi\"] = 1\n",
    "    state[\"K Quai\"] = 500\n",
    "    state[\"Population Mining Beta Vector\"] = np.array([0, 0.001])\n",
    "    state[\"Block Difficulty\"] = max(np.random.normal(8000, 2000), 100)\n",
    "\n",
    "\n",
    "    msi.wiring[\"Mine Block Wiring\"](state, params, [])\n",
    "    msi.mechanisms[\"Log Simulation Data Mechanism\"](state, params, [])\n",
    "df = pd.DataFrame(state[\"Simulation History Log\"])\n",
    "plot_betas(df)\n",
    "print(df)"
   ]
  },
  {
   "cell_type": "code",
   "execution_count": null,
   "metadata": {},
   "outputs": [],
   "source": []
  }
 ],
 "metadata": {
  "kernelspec": {
   "display_name": "BlockScience",
   "language": "python",
   "name": "python3"
  },
  "language_info": {
   "codemirror_mode": {
    "name": "ipython",
    "version": 3
   },
   "file_extension": ".py",
   "mimetype": "text/x-python",
   "name": "python",
   "nbconvert_exporter": "python",
   "pygments_lexer": "ipython3",
   "version": "3.9.12"
  }
 },
 "nbformat": 4,
 "nbformat_minor": 2
}
