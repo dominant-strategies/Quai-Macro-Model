{
 "cells": [
  {
   "cell_type": "code",
   "execution_count": 1,
   "metadata": {},
   "outputs": [],
   "source": [
    "import os \n",
    "os.chdir(\"../..\")\n",
    "from MSML.src.math_spec_mapping import (load_from_json, create_action_chains_graph, write_out_boundary_actions,\n",
    "                      write_out_policies, write_out_mechanisms, load_svg_graphviz, write_basic_report_full,\n",
    "                      write_action_chain_reports, write_spec_tree, create_parameter_impact_table,\n",
    "                     write_entity_reports, write_wiring_report, write_entity_markdown_report,\n",
    "                     write_all_markdown_reports)\n",
    "os.chdir(\"Quai-Macro-Model/Spec\")\n",
    "\n",
    "from IPython.display import display, display_html\n",
    "from copy import deepcopy\n",
    "from src import math_spec_json\n",
    "import numpy as np\n",
    "from pprint import pprint\n",
    "from simulation import state_base, params_base, vesting_schedule_translate, build_logistic_classifier, plot_betas\n",
    "import pandas as pd\n",
    "\n",
    "ms = load_from_json(deepcopy(math_spec_json))\n",
    "\n"
   ]
  },
  {
   "cell_type": "markdown",
   "metadata": {},
   "source": [
    "## Sanity Check Scenario\n",
    "\n",
    "Premise: Ensure the simulation framework is operating as intended, without complications from the controller.\n",
    "\n",
    "Condition(s): Fix the values of:\n",
    "- $\\mathbf u$, the controller update parameters ($k_{qi}, k_{quai}$); and\n",
    "- $\\pmb{\\beta}$, the _miner decision population parameter vector_, i.e. the parameter vector for the miner's probabilistic decision on which token to receive as block reward.\n",
    "\n",
    "Method: MC runs (across realizations of other stochastic variables), generating time series for e.g. miner decisions and proposed block rewards. "
   ]
  },
  {
   "cell_type": "code",
   "execution_count": 2,
   "metadata": {},
   "outputs": [
    {
     "name": "stdout",
     "output_type": "stream",
     "text": [
      "Placeholder has no control action options\n"
     ]
    },
    {
     "data": {
      "image/png": "[encoded data removed]",
      "text/plain": [
       "<Figure size 432x288 with 1 Axes>"
      ]
     },
     "metadata": {
      "needs_background": "light"
     },
     "output_type": "display_data"
    },
    {
     "data": {
      "image/png": "[encoded data removed]",
      "text/plain": [
       "<Figure size 432x288 with 1 Axes>"
      ]
     },
     "metadata": {
      "needs_background": "light"
     },
     "output_type": "display_data"
    }
   ],
   "source": [
    "params_base[\"FP Mine Block Boundary Action\"] = \"TEST Mine Block Boundary Action\"\n",
    "msi = ms.build_implementation(params_base)\n",
    "state, params = msi.prepare_state_and_params(state_base, params_base, state_preperation_functions=[vesting_schedule_translate,\n",
    "                                                                                                   build_logistic_classifier], parameter_preperation_functions=[])\n",
    "\n",
    "\n",
    "for _ in range(10000):\n",
    "    # Set fixed values\n",
    "    state[\"K Qi\"] = 1\n",
    "    state[\"K Quai\"] = 500\n",
    "    state[\"Population Mining Beta Vector\"] = np.array([0, .001])\n",
    "\n",
    "\n",
    "    msi.wiring[\"Mine Block Wiring\"](state, params, [])\n",
    "    msi.mechanisms[\"Log Simulation Data Mechanism\"](state, params, [])\n",
    "\n",
    "df = pd.DataFrame(state[\"Simulation History Log\"])\n",
    "plot_betas(df)"
   ]
  },
  {
   "cell_type": "code",
   "execution_count": 3,
   "metadata": {},
   "outputs": [
    {
     "data": {
      "text/html": [
       "<div>\n",
       "<style scoped>\n",
       "    .dataframe tbody tr th:only-of-type {\n",
       "        vertical-align: middle;\n",
       "    }\n",
       "\n",
       "    .dataframe tbody tr th {\n",
       "        vertical-align: top;\n",
       "    }\n",
       "\n",
       "    .dataframe thead th {\n",
       "        text-align: right;\n",
       "    }\n",
       "</style>\n",
       "<table border=\"1\" class=\"dataframe\">\n",
       "  <thead>\n",
       "    <tr style=\"text-align: right;\">\n",
       "      <th></th>\n",
       "      <th>Estimate Beta0</th>\n",
       "      <th>Estimate Beta1</th>\n",
       "      <th>Population Beta0</th>\n",
       "      <th>Population Beta1</th>\n",
       "      <th>Block Number</th>\n",
       "    </tr>\n",
       "  </thead>\n",
       "  <tbody>\n",
       "    <tr>\n",
       "      <th>0</th>\n",
       "      <td>-4.926108</td>\n",
       "      <td>-2354.971441</td>\n",
       "      <td>0.0</td>\n",
       "      <td>0.001</td>\n",
       "      <td>1</td>\n",
       "    </tr>\n",
       "    <tr>\n",
       "      <th>1</th>\n",
       "      <td>-4.849661</td>\n",
       "      <td>-2318.424843</td>\n",
       "      <td>0.0</td>\n",
       "      <td>0.001</td>\n",
       "      <td>2</td>\n",
       "    </tr>\n",
       "    <tr>\n",
       "      <th>2</th>\n",
       "      <td>4.775549</td>\n",
       "      <td>2282.995237</td>\n",
       "      <td>0.0</td>\n",
       "      <td>0.001</td>\n",
       "      <td>3</td>\n",
       "    </tr>\n",
       "    <tr>\n",
       "      <th>3</th>\n",
       "      <td>4.703669</td>\n",
       "      <td>2248.632185</td>\n",
       "      <td>0.0</td>\n",
       "      <td>0.001</td>\n",
       "      <td>4</td>\n",
       "    </tr>\n",
       "    <tr>\n",
       "      <th>4</th>\n",
       "      <td>-4.633920</td>\n",
       "      <td>-2215.288242</td>\n",
       "      <td>0.0</td>\n",
       "      <td>0.001</td>\n",
       "      <td>5</td>\n",
       "    </tr>\n",
       "    <tr>\n",
       "      <th>...</th>\n",
       "      <td>...</td>\n",
       "      <td>...</td>\n",
       "      <td>...</td>\n",
       "      <td>...</td>\n",
       "      <td>...</td>\n",
       "    </tr>\n",
       "    <tr>\n",
       "      <th>9995</th>\n",
       "      <td>-0.031068</td>\n",
       "      <td>-14.852555</td>\n",
       "      <td>0.0</td>\n",
       "      <td>0.001</td>\n",
       "      <td>9996</td>\n",
       "    </tr>\n",
       "    <tr>\n",
       "      <th>9996</th>\n",
       "      <td>0.031065</td>\n",
       "      <td>14.851079</td>\n",
       "      <td>0.0</td>\n",
       "      <td>0.001</td>\n",
       "      <td>9997</td>\n",
       "    </tr>\n",
       "    <tr>\n",
       "      <th>9997</th>\n",
       "      <td>-0.031062</td>\n",
       "      <td>-14.849603</td>\n",
       "      <td>0.0</td>\n",
       "      <td>0.001</td>\n",
       "      <td>9998</td>\n",
       "    </tr>\n",
       "    <tr>\n",
       "      <th>9998</th>\n",
       "      <td>0.031059</td>\n",
       "      <td>14.848127</td>\n",
       "      <td>0.0</td>\n",
       "      <td>0.001</td>\n",
       "      <td>9999</td>\n",
       "    </tr>\n",
       "    <tr>\n",
       "      <th>9999</th>\n",
       "      <td>-0.031056</td>\n",
       "      <td>-14.846651</td>\n",
       "      <td>0.0</td>\n",
       "      <td>0.001</td>\n",
       "      <td>10000</td>\n",
       "    </tr>\n",
       "  </tbody>\n",
       "</table>\n",
       "<p>10000 rows × 5 columns</p>\n",
       "</div>"
      ],
      "text/plain": [
       "      Estimate Beta0  Estimate Beta1  Population Beta0  Population Beta1  \\\n",
       "0          -4.926108    -2354.971441               0.0             0.001   \n",
       "1          -4.849661    -2318.424843               0.0             0.001   \n",
       "2           4.775549     2282.995237               0.0             0.001   \n",
       "3           4.703669     2248.632185               0.0             0.001   \n",
       "4          -4.633920    -2215.288242               0.0             0.001   \n",
       "...              ...             ...               ...               ...   \n",
       "9995       -0.031068      -14.852555               0.0             0.001   \n",
       "9996        0.031065       14.851079               0.0             0.001   \n",
       "9997       -0.031062      -14.849603               0.0             0.001   \n",
       "9998        0.031059       14.848127               0.0             0.001   \n",
       "9999       -0.031056      -14.846651               0.0             0.001   \n",
       "\n",
       "      Block Number  \n",
       "0                1  \n",
       "1                2  \n",
       "2                3  \n",
       "3                4  \n",
       "4                5  \n",
       "...            ...  \n",
       "9995          9996  \n",
       "9996          9997  \n",
       "9997          9998  \n",
       "9998          9999  \n",
       "9999         10000  \n",
       "\n",
       "[10000 rows x 5 columns]"
      ]
     },
     "execution_count": 3,
     "metadata": {},
     "output_type": "execute_result"
    }
   ],
   "source": [
    "df"
   ]
  },
  {
   "cell_type": "markdown",
   "metadata": {},
   "source": [
    "## Sanity Check B\n",
    "\n",
    "Above sanity check but with changing difficulties"
   ]
  },
  {
   "cell_type": "code",
   "execution_count": 4,
   "metadata": {},
   "outputs": [
    {
     "name": "stdout",
     "output_type": "stream",
     "text": [
      "Placeholder has no control action options\n"
     ]
    },
    {
     "data": {
      "image/png": "[encoded data removed]",
      "text/plain": [
       "<Figure size 432x288 with 1 Axes>"
      ]
     },
     "metadata": {
      "needs_background": "light"
     },
     "output_type": "display_data"
    },
    {
     "data": {
      "image/png": "[encoded data removed]",
      "text/plain": [
       "<Figure size 432x288 with 1 Axes>"
      ]
     },
     "metadata": {
      "needs_background": "light"
     },
     "output_type": "display_data"
    }
   ],
   "source": [
    "params_base[\"FP Mine Block Boundary Action\"] = \"TEST Mine Block Boundary Action\"\n",
    "msi = ms.build_implementation(params_base)\n",
    "state, params = msi.prepare_state_and_params(state_base, params_base, state_preperation_functions=[vesting_schedule_translate,\n",
    "                                                                                                   build_logistic_classifier], parameter_preperation_functions=[])\n",
    "\n",
    "for _ in range(10000):\n",
    "    # Set fixed values\n",
    "    state[\"K Qi\"] = 1\n",
    "    state[\"K Quai\"] = 500\n",
    "    state[\"Population Mining Beta Vector\"] = np.array([0, 0.001])\n",
    "    state[\"Block Difficulty\"] = max(np.random.normal(6000, 1000), 100)\n",
    "\n",
    "\n",
    "    msi.wiring[\"Mine Block Wiring\"](state, params, [])\n",
    "    msi.mechanisms[\"Log Simulation Data Mechanism\"](state, params, [])\n",
    "df = pd.DataFrame(state[\"Simulation History Log\"])\n",
    "plot_betas(df)"
   ]
  },
  {
   "cell_type": "code",
   "execution_count": 5,
   "metadata": {},
   "outputs": [
    {
     "data": {
      "text/html": [
       "<div>\n",
       "<style scoped>\n",
       "    .dataframe tbody tr th:only-of-type {\n",
       "        vertical-align: middle;\n",
       "    }\n",
       "\n",
       "    .dataframe tbody tr th {\n",
       "        vertical-align: top;\n",
       "    }\n",
       "\n",
       "    .dataframe thead th {\n",
       "        text-align: right;\n",
       "    }\n",
       "</style>\n",
       "<table border=\"1\" class=\"dataframe\">\n",
       "  <thead>\n",
       "    <tr style=\"text-align: right;\">\n",
       "      <th></th>\n",
       "      <th>Estimate Beta0</th>\n",
       "      <th>Estimate Beta1</th>\n",
       "      <th>Population Beta0</th>\n",
       "      <th>Population Beta1</th>\n",
       "      <th>Block Number</th>\n",
       "    </tr>\n",
       "  </thead>\n",
       "  <tbody>\n",
       "    <tr>\n",
       "      <th>0</th>\n",
       "      <td>4.926108</td>\n",
       "      <td>2361.067433</td>\n",
       "      <td>0.0</td>\n",
       "      <td>0.001</td>\n",
       "      <td>1</td>\n",
       "    </tr>\n",
       "    <tr>\n",
       "      <th>1</th>\n",
       "      <td>4.849661</td>\n",
       "      <td>2324.426231</td>\n",
       "      <td>0.0</td>\n",
       "      <td>0.001</td>\n",
       "      <td>2</td>\n",
       "    </tr>\n",
       "    <tr>\n",
       "      <th>2</th>\n",
       "      <td>4.775549</td>\n",
       "      <td>2288.904913</td>\n",
       "      <td>0.0</td>\n",
       "      <td>0.001</td>\n",
       "      <td>3</td>\n",
       "    </tr>\n",
       "    <tr>\n",
       "      <th>3</th>\n",
       "      <td>-4.703669</td>\n",
       "      <td>-2621.750706</td>\n",
       "      <td>0.0</td>\n",
       "      <td>0.001</td>\n",
       "      <td>4</td>\n",
       "    </tr>\n",
       "    <tr>\n",
       "      <th>4</th>\n",
       "      <td>4.633920</td>\n",
       "      <td>819.503823</td>\n",
       "      <td>0.0</td>\n",
       "      <td>0.001</td>\n",
       "      <td>5</td>\n",
       "    </tr>\n",
       "    <tr>\n",
       "      <th>...</th>\n",
       "      <td>...</td>\n",
       "      <td>...</td>\n",
       "      <td>...</td>\n",
       "      <td>...</td>\n",
       "      <td>...</td>\n",
       "    </tr>\n",
       "    <tr>\n",
       "      <th>9995</th>\n",
       "      <td>-2.703205</td>\n",
       "      <td>33.424006</td>\n",
       "      <td>0.0</td>\n",
       "      <td>0.001</td>\n",
       "      <td>9996</td>\n",
       "    </tr>\n",
       "    <tr>\n",
       "      <th>9996</th>\n",
       "      <td>-2.765067</td>\n",
       "      <td>1.119966</td>\n",
       "      <td>0.0</td>\n",
       "      <td>0.001</td>\n",
       "      <td>9997</td>\n",
       "    </tr>\n",
       "    <tr>\n",
       "      <th>9997</th>\n",
       "      <td>-2.764792</td>\n",
       "      <td>1.119854</td>\n",
       "      <td>0.0</td>\n",
       "      <td>0.001</td>\n",
       "      <td>9998</td>\n",
       "    </tr>\n",
       "    <tr>\n",
       "      <th>9998</th>\n",
       "      <td>-2.764518</td>\n",
       "      <td>1.119743</td>\n",
       "      <td>0.0</td>\n",
       "      <td>0.001</td>\n",
       "      <td>9999</td>\n",
       "    </tr>\n",
       "    <tr>\n",
       "      <th>9999</th>\n",
       "      <td>-2.764243</td>\n",
       "      <td>1.119632</td>\n",
       "      <td>0.0</td>\n",
       "      <td>0.001</td>\n",
       "      <td>10000</td>\n",
       "    </tr>\n",
       "  </tbody>\n",
       "</table>\n",
       "<p>10000 rows × 5 columns</p>\n",
       "</div>"
      ],
      "text/plain": [
       "      Estimate Beta0  Estimate Beta1  Population Beta0  Population Beta1  \\\n",
       "0           4.926108     2361.067433               0.0             0.001   \n",
       "1           4.849661     2324.426231               0.0             0.001   \n",
       "2           4.775549     2288.904913               0.0             0.001   \n",
       "3          -4.703669    -2621.750706               0.0             0.001   \n",
       "4           4.633920      819.503823               0.0             0.001   \n",
       "...              ...             ...               ...               ...   \n",
       "9995       -2.703205       33.424006               0.0             0.001   \n",
       "9996       -2.765067        1.119966               0.0             0.001   \n",
       "9997       -2.764792        1.119854               0.0             0.001   \n",
       "9998       -2.764518        1.119743               0.0             0.001   \n",
       "9999       -2.764243        1.119632               0.0             0.001   \n",
       "\n",
       "      Block Number  \n",
       "0                1  \n",
       "1                2  \n",
       "2                3  \n",
       "3                4  \n",
       "4                5  \n",
       "...            ...  \n",
       "9995          9996  \n",
       "9996          9997  \n",
       "9997          9998  \n",
       "9998          9999  \n",
       "9999         10000  \n",
       "\n",
       "[10000 rows x 5 columns]"
      ]
     },
     "execution_count": 5,
     "metadata": {},
     "output_type": "execute_result"
    }
   ],
   "source": [
    "df"
   ]
  },
  {
   "cell_type": "markdown",
   "metadata": {},
   "source": [
    "## Sanity Check C\n",
    "\n",
    "Same difficulty but add in variations of difficulty in epochs"
   ]
  },
  {
   "cell_type": "code",
   "execution_count": 6,
   "metadata": {},
   "outputs": [
    {
     "name": "stdout",
     "output_type": "stream",
     "text": [
      "Placeholder has no control action options\n"
     ]
    },
    {
     "data": {
      "image/png": "[encoded data removed]",
      "text/plain": [
       "<Figure size 432x288 with 1 Axes>"
      ]
     },
     "metadata": {
      "needs_background": "light"
     },
     "output_type": "display_data"
    },
    {
     "data": {
      "image/png": "[encoded data removed]",
      "text/plain": [
       "<Figure size 432x288 with 1 Axes>"
      ]
     },
     "metadata": {
      "needs_background": "light"
     },
     "output_type": "display_data"
    }
   ],
   "source": [
    "params_base[\"FP Mine Block Boundary Action\"] = \"Mine Block Boundary Action V3\"\n",
    "msi = ms.build_implementation(params_base)\n",
    "state, params = msi.prepare_state_and_params(state_base, params_base, state_preperation_functions=[vesting_schedule_translate,\n",
    "                                                                                                   build_logistic_classifier], parameter_preperation_functions=[])\n",
    "\n",
    "for _ in range(10000):\n",
    "    # Set fixed values\n",
    "    state[\"K Qi\"] = 1\n",
    "    state[\"K Quai\"] = 500\n",
    "    state[\"Population Mining Beta Vector\"] = np.array([0, 0.001])\n",
    "    state[\"Block Difficulty\"] = 6000\n",
    "\n",
    "\n",
    "    msi.wiring[\"Mine Block Wiring\"](state, params, [])\n",
    "    msi.mechanisms[\"Log Simulation Data Mechanism\"](state, params, [])\n",
    "df = pd.DataFrame(state[\"Simulation History Log\"])\n",
    "plot_betas(df)"
   ]
  },
  {
   "cell_type": "code",
   "execution_count": 7,
   "metadata": {},
   "outputs": [
    {
     "data": {
      "text/html": [
       "<div>\n",
       "<style scoped>\n",
       "    .dataframe tbody tr th:only-of-type {\n",
       "        vertical-align: middle;\n",
       "    }\n",
       "\n",
       "    .dataframe tbody tr th {\n",
       "        vertical-align: top;\n",
       "    }\n",
       "\n",
       "    .dataframe thead th {\n",
       "        text-align: right;\n",
       "    }\n",
       "</style>\n",
       "<table border=\"1\" class=\"dataframe\">\n",
       "  <thead>\n",
       "    <tr style=\"text-align: right;\">\n",
       "      <th></th>\n",
       "      <th>Estimate Beta0</th>\n",
       "      <th>Estimate Beta1</th>\n",
       "      <th>Population Beta0</th>\n",
       "      <th>Population Beta1</th>\n",
       "      <th>Block Number</th>\n",
       "    </tr>\n",
       "  </thead>\n",
       "  <tbody>\n",
       "    <tr>\n",
       "      <th>0</th>\n",
       "      <td>4.926108</td>\n",
       "      <td>2241.521676</td>\n",
       "      <td>0.0</td>\n",
       "      <td>0.001</td>\n",
       "      <td>1</td>\n",
       "    </tr>\n",
       "    <tr>\n",
       "      <th>1</th>\n",
       "      <td>-4.849661</td>\n",
       "      <td>-2700.430030</td>\n",
       "      <td>0.0</td>\n",
       "      <td>0.001</td>\n",
       "      <td>2</td>\n",
       "    </tr>\n",
       "    <tr>\n",
       "      <th>2</th>\n",
       "      <td>4.775549</td>\n",
       "      <td>1565.309420</td>\n",
       "      <td>0.0</td>\n",
       "      <td>0.001</td>\n",
       "      <td>3</td>\n",
       "    </tr>\n",
       "    <tr>\n",
       "      <th>3</th>\n",
       "      <td>-4.703669</td>\n",
       "      <td>-3073.771069</td>\n",
       "      <td>0.0</td>\n",
       "      <td>0.001</td>\n",
       "      <td>4</td>\n",
       "    </tr>\n",
       "    <tr>\n",
       "      <th>4</th>\n",
       "      <td>4.633920</td>\n",
       "      <td>1487.385782</td>\n",
       "      <td>0.0</td>\n",
       "      <td>0.001</td>\n",
       "      <td>5</td>\n",
       "    </tr>\n",
       "    <tr>\n",
       "      <th>...</th>\n",
       "      <td>...</td>\n",
       "      <td>...</td>\n",
       "      <td>...</td>\n",
       "      <td>...</td>\n",
       "      <td>...</td>\n",
       "    </tr>\n",
       "    <tr>\n",
       "      <th>9995</th>\n",
       "      <td>-3.781517</td>\n",
       "      <td>-3.813845</td>\n",
       "      <td>0.0</td>\n",
       "      <td>0.001</td>\n",
       "      <td>9996</td>\n",
       "    </tr>\n",
       "    <tr>\n",
       "      <th>9996</th>\n",
       "      <td>-3.781142</td>\n",
       "      <td>-6.108829</td>\n",
       "      <td>0.0</td>\n",
       "      <td>0.001</td>\n",
       "      <td>9997</td>\n",
       "    </tr>\n",
       "    <tr>\n",
       "      <th>9997</th>\n",
       "      <td>-3.780766</td>\n",
       "      <td>-6.965908</td>\n",
       "      <td>0.0</td>\n",
       "      <td>0.001</td>\n",
       "      <td>9998</td>\n",
       "    </tr>\n",
       "    <tr>\n",
       "      <th>9998</th>\n",
       "      <td>-3.718272</td>\n",
       "      <td>23.394715</td>\n",
       "      <td>0.0</td>\n",
       "      <td>0.001</td>\n",
       "      <td>9999</td>\n",
       "    </tr>\n",
       "    <tr>\n",
       "      <th>9999</th>\n",
       "      <td>-3.717902</td>\n",
       "      <td>18.894706</td>\n",
       "      <td>0.0</td>\n",
       "      <td>0.001</td>\n",
       "      <td>10000</td>\n",
       "    </tr>\n",
       "  </tbody>\n",
       "</table>\n",
       "<p>10000 rows × 5 columns</p>\n",
       "</div>"
      ],
      "text/plain": [
       "      Estimate Beta0  Estimate Beta1  Population Beta0  Population Beta1  \\\n",
       "0           4.926108     2241.521676               0.0             0.001   \n",
       "1          -4.849661    -2700.430030               0.0             0.001   \n",
       "2           4.775549     1565.309420               0.0             0.001   \n",
       "3          -4.703669    -3073.771069               0.0             0.001   \n",
       "4           4.633920     1487.385782               0.0             0.001   \n",
       "...              ...             ...               ...               ...   \n",
       "9995       -3.781517       -3.813845               0.0             0.001   \n",
       "9996       -3.781142       -6.108829               0.0             0.001   \n",
       "9997       -3.780766       -6.965908               0.0             0.001   \n",
       "9998       -3.718272       23.394715               0.0             0.001   \n",
       "9999       -3.717902       18.894706               0.0             0.001   \n",
       "\n",
       "      Block Number  \n",
       "0                1  \n",
       "1                2  \n",
       "2                3  \n",
       "3                4  \n",
       "4                5  \n",
       "...            ...  \n",
       "9995          9996  \n",
       "9996          9997  \n",
       "9997          9998  \n",
       "9998          9999  \n",
       "9999         10000  \n",
       "\n",
       "[10000 rows x 5 columns]"
      ]
     },
     "execution_count": 7,
     "metadata": {},
     "output_type": "execute_result"
    }
   ],
   "source": [
    "df"
   ]
  },
  {
   "cell_type": "code",
   "execution_count": 8,
   "metadata": {},
   "outputs": [
    {
     "name": "stdout",
     "output_type": "stream",
     "text": [
      "0.39367227635272667\n"
     ]
    }
   ],
   "source": [
    "print(sum([x['Ratio'] for x in state[\"Historical Mined Ratio\"]]) / len(state[\"Historical Mined Ratio\"]))"
   ]
  },
  {
   "cell_type": "markdown",
   "metadata": {},
   "source": [
    "## Sanity Check D\n",
    "\n",
    "Changing difficulty and V3 mining boundary action"
   ]
  },
  {
   "cell_type": "code",
   "execution_count": 9,
   "metadata": {},
   "outputs": [
    {
     "name": "stdout",
     "output_type": "stream",
     "text": [
      "Placeholder has no control action options\n"
     ]
    },
    {
     "data": {
      "image/png": "[encoded data removed]",
      "text/plain": [
       "<Figure size 432x288 with 1 Axes>"
      ]
     },
     "metadata": {
      "needs_background": "light"
     },
     "output_type": "display_data"
    },
    {
     "data": {
      "image/png": "[encoded data removed]",
      "text/plain": [
       "<Figure size 432x288 with 1 Axes>"
      ]
     },
     "metadata": {
      "needs_background": "light"
     },
     "output_type": "display_data"
    }
   ],
   "source": [
    "params_base[\"FP Mine Block Boundary Action\"] = \"Mine Block Boundary Action V3\"\n",
    "msi = ms.build_implementation(params_base)\n",
    "state, params = msi.prepare_state_and_params(state_base, params_base, state_preperation_functions=[vesting_schedule_translate,\n",
    "                                                                                                   build_logistic_classifier], parameter_preperation_functions=[])\n",
    "\n",
    "for _ in range(10000):\n",
    "    # Set fixed values\n",
    "    state[\"K Qi\"] = 1\n",
    "    state[\"K Quai\"] = 500\n",
    "    state[\"Population Mining Beta Vector\"] = np.array([0, 0.001])\n",
    "    state[\"Block Difficulty\"] = max(np.random.normal(6000, 1000), 100)\n",
    "\n",
    "\n",
    "    msi.wiring[\"Mine Block Wiring\"](state, params, [])\n",
    "    msi.mechanisms[\"Log Simulation Data Mechanism\"](state, params, [])\n",
    "df = pd.DataFrame(state[\"Simulation History Log\"])\n",
    "plot_betas(df)"
   ]
  },
  {
   "cell_type": "code",
   "execution_count": 10,
   "metadata": {},
   "outputs": [
    {
     "data": {
      "text/html": [
       "<div>\n",
       "<style scoped>\n",
       "    .dataframe tbody tr th:only-of-type {\n",
       "        vertical-align: middle;\n",
       "    }\n",
       "\n",
       "    .dataframe tbody tr th {\n",
       "        vertical-align: top;\n",
       "    }\n",
       "\n",
       "    .dataframe thead th {\n",
       "        text-align: right;\n",
       "    }\n",
       "</style>\n",
       "<table border=\"1\" class=\"dataframe\">\n",
       "  <thead>\n",
       "    <tr style=\"text-align: right;\">\n",
       "      <th></th>\n",
       "      <th>Estimate Beta0</th>\n",
       "      <th>Estimate Beta1</th>\n",
       "      <th>Population Beta0</th>\n",
       "      <th>Population Beta1</th>\n",
       "      <th>Block Number</th>\n",
       "    </tr>\n",
       "  </thead>\n",
       "  <tbody>\n",
       "    <tr>\n",
       "      <th>0</th>\n",
       "      <td>4.926108</td>\n",
       "      <td>2777.451539</td>\n",
       "      <td>0.0</td>\n",
       "      <td>0.001</td>\n",
       "      <td>1</td>\n",
       "    </tr>\n",
       "    <tr>\n",
       "      <th>1</th>\n",
       "      <td>4.849661</td>\n",
       "      <td>3372.820637</td>\n",
       "      <td>0.0</td>\n",
       "      <td>0.001</td>\n",
       "      <td>2</td>\n",
       "    </tr>\n",
       "    <tr>\n",
       "      <th>2</th>\n",
       "      <td>4.775549</td>\n",
       "      <td>3667.007811</td>\n",
       "      <td>0.0</td>\n",
       "      <td>0.001</td>\n",
       "      <td>3</td>\n",
       "    </tr>\n",
       "    <tr>\n",
       "      <th>3</th>\n",
       "      <td>4.703669</td>\n",
       "      <td>3988.554665</td>\n",
       "      <td>0.0</td>\n",
       "      <td>0.001</td>\n",
       "      <td>4</td>\n",
       "    </tr>\n",
       "    <tr>\n",
       "      <th>4</th>\n",
       "      <td>-4.633920</td>\n",
       "      <td>-1776.536700</td>\n",
       "      <td>0.0</td>\n",
       "      <td>0.001</td>\n",
       "      <td>5</td>\n",
       "    </tr>\n",
       "    <tr>\n",
       "      <th>...</th>\n",
       "      <td>...</td>\n",
       "      <td>...</td>\n",
       "      <td>...</td>\n",
       "      <td>...</td>\n",
       "      <td>...</td>\n",
       "    </tr>\n",
       "    <tr>\n",
       "      <th>9995</th>\n",
       "      <td>-5.228856</td>\n",
       "      <td>6.884207</td>\n",
       "      <td>0.0</td>\n",
       "      <td>0.001</td>\n",
       "      <td>9996</td>\n",
       "    </tr>\n",
       "    <tr>\n",
       "      <th>9996</th>\n",
       "      <td>-5.290467</td>\n",
       "      <td>-21.363348</td>\n",
       "      <td>0.0</td>\n",
       "      <td>0.001</td>\n",
       "      <td>9997</td>\n",
       "    </tr>\n",
       "    <tr>\n",
       "      <th>9997</th>\n",
       "      <td>-5.227816</td>\n",
       "      <td>12.936569</td>\n",
       "      <td>0.0</td>\n",
       "      <td>0.001</td>\n",
       "      <td>9998</td>\n",
       "    </tr>\n",
       "    <tr>\n",
       "      <th>9998</th>\n",
       "      <td>-5.289415</td>\n",
       "      <td>-21.877214</td>\n",
       "      <td>0.0</td>\n",
       "      <td>0.001</td>\n",
       "      <td>9999</td>\n",
       "    </tr>\n",
       "    <tr>\n",
       "      <th>9999</th>\n",
       "      <td>-5.288890</td>\n",
       "      <td>-23.210419</td>\n",
       "      <td>0.0</td>\n",
       "      <td>0.001</td>\n",
       "      <td>10000</td>\n",
       "    </tr>\n",
       "  </tbody>\n",
       "</table>\n",
       "<p>10000 rows × 5 columns</p>\n",
       "</div>"
      ],
      "text/plain": [
       "      Estimate Beta0  Estimate Beta1  Population Beta0  Population Beta1  \\\n",
       "0           4.926108     2777.451539               0.0             0.001   \n",
       "1           4.849661     3372.820637               0.0             0.001   \n",
       "2           4.775549     3667.007811               0.0             0.001   \n",
       "3           4.703669     3988.554665               0.0             0.001   \n",
       "4          -4.633920    -1776.536700               0.0             0.001   \n",
       "...              ...             ...               ...               ...   \n",
       "9995       -5.228856        6.884207               0.0             0.001   \n",
       "9996       -5.290467      -21.363348               0.0             0.001   \n",
       "9997       -5.227816       12.936569               0.0             0.001   \n",
       "9998       -5.289415      -21.877214               0.0             0.001   \n",
       "9999       -5.288890      -23.210419               0.0             0.001   \n",
       "\n",
       "      Block Number  \n",
       "0                1  \n",
       "1                2  \n",
       "2                3  \n",
       "3                4  \n",
       "4                5  \n",
       "...            ...  \n",
       "9995          9996  \n",
       "9996          9997  \n",
       "9997          9998  \n",
       "9998          9999  \n",
       "9999         10000  \n",
       "\n",
       "[10000 rows x 5 columns]"
      ]
     },
     "execution_count": 10,
     "metadata": {},
     "output_type": "execute_result"
    }
   ],
   "source": [
    "df"
   ]
  },
  {
   "cell_type": "markdown",
   "metadata": {},
   "source": [
    "## Sanity Check E"
   ]
  },
  {
   "cell_type": "code",
   "execution_count": 11,
   "metadata": {},
   "outputs": [
    {
     "name": "stdout",
     "output_type": "stream",
     "text": [
      "Placeholder has no control action options\n"
     ]
    },
    {
     "data": {
      "image/png": "[encoded data removed]",
      "text/plain": [
       "<Figure size 432x288 with 1 Axes>"
      ]
     },
     "metadata": {
      "needs_background": "light"
     },
     "output_type": "display_data"
    },
    {
     "data": {
      "image/png": "[encoded data removed]",
      "text/plain": [
       "<Figure size 432x288 with 1 Axes>"
      ]
     },
     "metadata": {
      "needs_background": "light"
     },
     "output_type": "display_data"
    },
    {
     "name": "stdout",
     "output_type": "stream",
     "text": [
      "      Estimate Beta0  Estimate Beta1  Population Beta0  Population Beta1  \\\n",
      "0           4.926108    -1408.660498               0.0             0.001   \n",
      "1          14.548982      881.667977               0.0             0.001   \n",
      "2          14.326648    -4647.022645               0.0             0.001   \n",
      "3          23.518344     3131.008040               0.0             0.001   \n",
      "4          13.901761     5798.742657               0.0             0.001   \n",
      "...              ...             ...               ...               ...   \n",
      "9995      -77.190464       32.412892               0.0             0.001   \n",
      "9996      -77.244921      -10.244931               0.0             0.001   \n",
      "9997      -77.175118      -18.462401               0.0             0.001   \n",
      "9998      -77.043211       -6.943271               0.0             0.001   \n",
      "9999      -77.035555       -9.444450               0.0             0.001   \n",
      "\n",
      "      Block Number  \n",
      "0                1  \n",
      "1                2  \n",
      "2                3  \n",
      "3                4  \n",
      "4                5  \n",
      "...            ...  \n",
      "9995          9996  \n",
      "9996          9997  \n",
      "9997          9998  \n",
      "9998          9999  \n",
      "9999         10000  \n",
      "\n",
      "[10000 rows x 5 columns]\n"
     ]
    }
   ],
   "source": [
    "params_base[\"FP Mine Block Boundary Action\"] = \"Mine Block Boundary Action V3\"\n",
    "msi = ms.build_implementation(params_base)\n",
    "state, params = msi.prepare_state_and_params(state_base, params_base, state_preperation_functions=[vesting_schedule_translate,\n",
    "                                                                                                   build_logistic_classifier], parameter_preperation_functions=[])\n",
    "params[\"Difficulty Randomness Sigma\"] = .25\n",
    "for _ in range(10000):\n",
    "    # Set fixed values\n",
    "    state[\"K Qi\"] = 1\n",
    "    state[\"K Quai\"] = 500\n",
    "    state[\"Population Mining Beta Vector\"] = np.array([0, 0.001])\n",
    "    state[\"Block Difficulty\"] = max(np.random.normal(8000, 2000), 100)\n",
    "\n",
    "\n",
    "    msi.wiring[\"Mine Block Wiring\"](state, params, [])\n",
    "    msi.mechanisms[\"Log Simulation Data Mechanism\"](state, params, [])\n",
    "df = pd.DataFrame(state[\"Simulation History Log\"])\n",
    "plot_betas(df)\n",
    "print(df)"
   ]
  },
  {
   "cell_type": "code",
   "execution_count": null,
   "metadata": {},
   "outputs": [],
   "source": []
  }
 ],
 "metadata": {
  "kernelspec": {
   "display_name": "BlockScience",
   "language": "python",
   "name": "python3"
  },
  "language_info": {
   "codemirror_mode": {
    "name": "ipython",
    "version": 3
   },
   "file_extension": ".py",
   "mimetype": "text/x-python",
   "name": "python",
   "nbconvert_exporter": "python",
   "pygments_lexer": "ipython3",
   "version": "3.9.12"
  }
 },
 "nbformat": 4,
 "nbformat_minor": 2
}
