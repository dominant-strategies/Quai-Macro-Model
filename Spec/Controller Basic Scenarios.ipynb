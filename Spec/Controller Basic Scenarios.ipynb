{
 "cells": [
  {
   "cell_type": "code",
   "execution_count": 7,
   "metadata": {},
   "outputs": [],
   "source": [
    "import os \n",
    "os.chdir(\"../..\")\n",
    "from MSML.src.math_spec_mapping import (load_from_json, create_action_chains_graph, write_out_boundary_actions,\n",
    "                      write_out_policies, write_out_mechanisms, load_svg_graphviz, write_basic_report_full,\n",
    "                      write_action_chain_reports, write_spec_tree, create_parameter_impact_table,\n",
    "                     write_entity_reports, write_wiring_report, write_entity_markdown_report,\n",
    "                     write_all_markdown_reports)\n",
    "os.chdir(\"Quai-Macro-Model/Spec\")\n",
    "\n",
    "from IPython.display import display, display_html\n",
    "from copy import deepcopy\n",
    "from src import math_spec_json\n",
    "import numpy as np\n",
    "from pprint import pprint\n",
    "from simulation import state_base, params_base, vesting_schedule_translate, build_logistic_classifier, plot_betas\n",
    "import pandas as pd\n",
    "\n",
    "ms = load_from_json(deepcopy(math_spec_json))\n",
    "\n"
   ]
  },
  {
   "cell_type": "markdown",
   "metadata": {},
   "source": [
    "## Sanity Check Scenario\n",
    "\n",
    "Premise: Ensure the simulation framework is operating as intended, without complications from the controller.\n",
    "\n",
    "Condition(s): Fix the values of:\n",
    "- $\\mathbf u$, the controller update parameters ($k_{qi}, k_{quai}$); and\n",
    "- $\\pmb{\\beta}$, the _miner decision population parameter vector_, i.e. the parameter vector for the miner's probabilistic decision on which token to receive as block reward.\n",
    "\n",
    "Method: MC runs (across realizations of other stochastic variables), generating time series for e.g. miner decisions and proposed block rewards. "
   ]
  },
  {
   "cell_type": "code",
   "execution_count": 8,
   "metadata": {},
   "outputs": [
    {
     "name": "stdout",
     "output_type": "stream",
     "text": [
      "Placeholder has no control action options\n"
     ]
    },
    {
     "data": {
      "image/png": "[encoded data removed]",
      "text/plain": [
       "<Figure size 432x288 with 1 Axes>"
      ]
     },
     "metadata": {
      "needs_background": "light"
     },
     "output_type": "display_data"
    },
    {
     "data": {
      "image/png": "[encoded data removed]",
      "text/plain": [
       "<Figure size 432x288 with 1 Axes>"
      ]
     },
     "metadata": {
      "needs_background": "light"
     },
     "output_type": "display_data"
    }
   ],
   "source": [
    "params_base[\"FP Mine Block Boundary Action\"] = \"TEST Mine Block Boundary Action\"\n",
    "msi = ms.build_implementation(params_base)\n",
    "state, params = msi.prepare_state_and_params(state_base, params_base, state_preperation_functions=[vesting_schedule_translate,\n",
    "                                                                                                   build_logistic_classifier], parameter_preperation_functions=[])\n",
    "\n",
    "\n",
    "for _ in range(10000):\n",
    "    # Set fixed values\n",
    "    state[\"K Qi\"] = 1\n",
    "    state[\"K Quai\"] = 500\n",
    "    state[\"Population Mining Beta Vector\"] = np.array([0, .001])\n",
    "\n",
    "\n",
    "    msi.wiring[\"Mine Block Wiring\"](state, params, [])\n",
    "    msi.mechanisms[\"Log Simulation Data Mechanism\"](state, params, [])\n",
    "\n",
    "df = pd.DataFrame(state[\"Simulation History Log\"])\n",
    "plot_betas(df)"
   ]
  },
  {
   "cell_type": "code",
   "execution_count": 9,
   "metadata": {},
   "outputs": [
    {
     "data": {
      "text/html": [
       "<div>\n",
       "<style scoped>\n",
       "    .dataframe tbody tr th:only-of-type {\n",
       "        vertical-align: middle;\n",
       "    }\n",
       "\n",
       "    .dataframe tbody tr th {\n",
       "        vertical-align: top;\n",
       "    }\n",
       "\n",
       "    .dataframe thead th {\n",
       "        text-align: right;\n",
       "    }\n",
       "</style>\n",
       "<table border=\"1\" class=\"dataframe\">\n",
       "  <thead>\n",
       "    <tr style=\"text-align: right;\">\n",
       "      <th></th>\n",
       "      <th>Estimate Beta0</th>\n",
       "      <th>Estimate Beta1</th>\n",
       "      <th>Population Beta0</th>\n",
       "      <th>Population Beta1</th>\n",
       "      <th>Block Number</th>\n",
       "    </tr>\n",
       "  </thead>\n",
       "  <tbody>\n",
       "    <tr>\n",
       "      <th>0</th>\n",
       "      <td>-4.926108</td>\n",
       "      <td>-2354.971441</td>\n",
       "      <td>0.0</td>\n",
       "      <td>0.001</td>\n",
       "      <td>1</td>\n",
       "    </tr>\n",
       "    <tr>\n",
       "      <th>1</th>\n",
       "      <td>-4.849661</td>\n",
       "      <td>-2318.424843</td>\n",
       "      <td>0.0</td>\n",
       "      <td>0.001</td>\n",
       "      <td>2</td>\n",
       "    </tr>\n",
       "    <tr>\n",
       "      <th>2</th>\n",
       "      <td>4.775549</td>\n",
       "      <td>2282.995237</td>\n",
       "      <td>0.0</td>\n",
       "      <td>0.001</td>\n",
       "      <td>3</td>\n",
       "    </tr>\n",
       "    <tr>\n",
       "      <th>3</th>\n",
       "      <td>4.703669</td>\n",
       "      <td>2248.632185</td>\n",
       "      <td>0.0</td>\n",
       "      <td>0.001</td>\n",
       "      <td>4</td>\n",
       "    </tr>\n",
       "    <tr>\n",
       "      <th>4</th>\n",
       "      <td>4.633920</td>\n",
       "      <td>2215.288242</td>\n",
       "      <td>0.0</td>\n",
       "      <td>0.001</td>\n",
       "      <td>5</td>\n",
       "    </tr>\n",
       "    <tr>\n",
       "      <th>...</th>\n",
       "      <td>...</td>\n",
       "      <td>...</td>\n",
       "      <td>...</td>\n",
       "      <td>...</td>\n",
       "      <td>...</td>\n",
       "    </tr>\n",
       "    <tr>\n",
       "      <th>9995</th>\n",
       "      <td>0.031068</td>\n",
       "      <td>14.852555</td>\n",
       "      <td>0.0</td>\n",
       "      <td>0.001</td>\n",
       "      <td>9996</td>\n",
       "    </tr>\n",
       "    <tr>\n",
       "      <th>9996</th>\n",
       "      <td>0.031065</td>\n",
       "      <td>14.851079</td>\n",
       "      <td>0.0</td>\n",
       "      <td>0.001</td>\n",
       "      <td>9997</td>\n",
       "    </tr>\n",
       "    <tr>\n",
       "      <th>9997</th>\n",
       "      <td>0.031062</td>\n",
       "      <td>14.849603</td>\n",
       "      <td>0.0</td>\n",
       "      <td>0.001</td>\n",
       "      <td>9998</td>\n",
       "    </tr>\n",
       "    <tr>\n",
       "      <th>9998</th>\n",
       "      <td>-0.031059</td>\n",
       "      <td>-14.848127</td>\n",
       "      <td>0.0</td>\n",
       "      <td>0.001</td>\n",
       "      <td>9999</td>\n",
       "    </tr>\n",
       "    <tr>\n",
       "      <th>9999</th>\n",
       "      <td>0.031056</td>\n",
       "      <td>14.846651</td>\n",
       "      <td>0.0</td>\n",
       "      <td>0.001</td>\n",
       "      <td>10000</td>\n",
       "    </tr>\n",
       "  </tbody>\n",
       "</table>\n",
       "<p>10000 rows × 5 columns</p>\n",
       "</div>"
      ],
      "text/plain": [
       "      Estimate Beta0  Estimate Beta1  Population Beta0  Population Beta1  \\\n",
       "0          -4.926108    -2354.971441               0.0             0.001   \n",
       "1          -4.849661    -2318.424843               0.0             0.001   \n",
       "2           4.775549     2282.995237               0.0             0.001   \n",
       "3           4.703669     2248.632185               0.0             0.001   \n",
       "4           4.633920     2215.288242               0.0             0.001   \n",
       "...              ...             ...               ...               ...   \n",
       "9995        0.031068       14.852555               0.0             0.001   \n",
       "9996        0.031065       14.851079               0.0             0.001   \n",
       "9997        0.031062       14.849603               0.0             0.001   \n",
       "9998       -0.031059      -14.848127               0.0             0.001   \n",
       "9999        0.031056       14.846651               0.0             0.001   \n",
       "\n",
       "      Block Number  \n",
       "0                1  \n",
       "1                2  \n",
       "2                3  \n",
       "3                4  \n",
       "4                5  \n",
       "...            ...  \n",
       "9995          9996  \n",
       "9996          9997  \n",
       "9997          9998  \n",
       "9998          9999  \n",
       "9999         10000  \n",
       "\n",
       "[10000 rows x 5 columns]"
      ]
     },
     "execution_count": 9,
     "metadata": {},
     "output_type": "execute_result"
    }
   ],
   "source": [
    "df"
   ]
  },
  {
   "cell_type": "markdown",
   "metadata": {},
   "source": [
    "## Sanity Check B\n",
    "\n",
    "Above sanity check but with changing difficulties"
   ]
  },
  {
   "cell_type": "code",
   "execution_count": 10,
   "metadata": {},
   "outputs": [
    {
     "name": "stdout",
     "output_type": "stream",
     "text": [
      "Placeholder has no control action options\n"
     ]
    },
    {
     "data": {
      "image/png": "[encoded data removed]",
      "text/plain": [
       "<Figure size 432x288 with 1 Axes>"
      ]
     },
     "metadata": {
      "needs_background": "light"
     },
     "output_type": "display_data"
    },
    {
     "data": {
      "image/png": "[encoded data removed]",
      "text/plain": [
       "<Figure size 432x288 with 1 Axes>"
      ]
     },
     "metadata": {
      "needs_background": "light"
     },
     "output_type": "display_data"
    }
   ],
   "source": [
    "params_base[\"FP Mine Block Boundary Action\"] = \"TEST Mine Block Boundary Action\"\n",
    "msi = ms.build_implementation(params_base)\n",
    "state, params = msi.prepare_state_and_params(state_base, params_base, state_preperation_functions=[vesting_schedule_translate,\n",
    "                                                                                                   build_logistic_classifier], parameter_preperation_functions=[])\n",
    "\n",
    "for _ in range(10000):\n",
    "    # Set fixed values\n",
    "    state[\"K Qi\"] = 1\n",
    "    state[\"K Quai\"] = 500\n",
    "    state[\"Population Mining Beta Vector\"] = np.array([0, 0.001])\n",
    "    state[\"Block Difficulty\"] = max(np.random.normal(6000, 1000), 100)\n",
    "\n",
    "\n",
    "    msi.wiring[\"Mine Block Wiring\"](state, params, [])\n",
    "    msi.mechanisms[\"Log Simulation Data Mechanism\"](state, params, [])\n",
    "df = pd.DataFrame(state[\"Simulation History Log\"])\n",
    "plot_betas(df)"
   ]
  },
  {
   "cell_type": "code",
   "execution_count": 11,
   "metadata": {},
   "outputs": [
    {
     "data": {
      "text/html": [
       "<div>\n",
       "<style scoped>\n",
       "    .dataframe tbody tr th:only-of-type {\n",
       "        vertical-align: middle;\n",
       "    }\n",
       "\n",
       "    .dataframe tbody tr th {\n",
       "        vertical-align: top;\n",
       "    }\n",
       "\n",
       "    .dataframe thead th {\n",
       "        text-align: right;\n",
       "    }\n",
       "</style>\n",
       "<table border=\"1\" class=\"dataframe\">\n",
       "  <thead>\n",
       "    <tr style=\"text-align: right;\">\n",
       "      <th></th>\n",
       "      <th>Estimate Beta0</th>\n",
       "      <th>Estimate Beta1</th>\n",
       "      <th>Population Beta0</th>\n",
       "      <th>Population Beta1</th>\n",
       "      <th>Block Number</th>\n",
       "    </tr>\n",
       "  </thead>\n",
       "  <tbody>\n",
       "    <tr>\n",
       "      <th>0</th>\n",
       "      <td>4.926108</td>\n",
       "      <td>2635.838359</td>\n",
       "      <td>0.0</td>\n",
       "      <td>0.001</td>\n",
       "      <td>1</td>\n",
       "    </tr>\n",
       "    <tr>\n",
       "      <th>1</th>\n",
       "      <td>-4.849661</td>\n",
       "      <td>-2664.517706</td>\n",
       "      <td>0.0</td>\n",
       "      <td>0.001</td>\n",
       "      <td>2</td>\n",
       "    </tr>\n",
       "    <tr>\n",
       "      <th>2</th>\n",
       "      <td>-4.775549</td>\n",
       "      <td>-2623.799193</td>\n",
       "      <td>0.0</td>\n",
       "      <td>0.001</td>\n",
       "      <td>3</td>\n",
       "    </tr>\n",
       "    <tr>\n",
       "      <th>3</th>\n",
       "      <td>-4.703669</td>\n",
       "      <td>-2584.306449</td>\n",
       "      <td>0.0</td>\n",
       "      <td>0.001</td>\n",
       "      <td>4</td>\n",
       "    </tr>\n",
       "    <tr>\n",
       "      <th>4</th>\n",
       "      <td>4.633920</td>\n",
       "      <td>1893.336083</td>\n",
       "      <td>0.0</td>\n",
       "      <td>0.001</td>\n",
       "      <td>5</td>\n",
       "    </tr>\n",
       "    <tr>\n",
       "      <th>...</th>\n",
       "      <td>...</td>\n",
       "      <td>...</td>\n",
       "      <td>...</td>\n",
       "      <td>...</td>\n",
       "      <td>...</td>\n",
       "    </tr>\n",
       "    <tr>\n",
       "      <th>9995</th>\n",
       "      <td>-1.688718</td>\n",
       "      <td>-4.129473</td>\n",
       "      <td>0.0</td>\n",
       "      <td>0.001</td>\n",
       "      <td>9996</td>\n",
       "    </tr>\n",
       "    <tr>\n",
       "      <th>9996</th>\n",
       "      <td>-1.626419</td>\n",
       "      <td>26.383519</td>\n",
       "      <td>0.0</td>\n",
       "      <td>0.001</td>\n",
       "      <td>9997</td>\n",
       "    </tr>\n",
       "    <tr>\n",
       "      <th>9997</th>\n",
       "      <td>-1.688382</td>\n",
       "      <td>-8.127041</td>\n",
       "      <td>0.0</td>\n",
       "      <td>0.001</td>\n",
       "      <td>9998</td>\n",
       "    </tr>\n",
       "    <tr>\n",
       "      <th>9998</th>\n",
       "      <td>-1.688214</td>\n",
       "      <td>-8.126233</td>\n",
       "      <td>0.0</td>\n",
       "      <td>0.001</td>\n",
       "      <td>9999</td>\n",
       "    </tr>\n",
       "    <tr>\n",
       "      <th>9999</th>\n",
       "      <td>-1.625934</td>\n",
       "      <td>20.746673</td>\n",
       "      <td>0.0</td>\n",
       "      <td>0.001</td>\n",
       "      <td>10000</td>\n",
       "    </tr>\n",
       "  </tbody>\n",
       "</table>\n",
       "<p>10000 rows × 5 columns</p>\n",
       "</div>"
      ],
      "text/plain": [
       "      Estimate Beta0  Estimate Beta1  Population Beta0  Population Beta1  \\\n",
       "0           4.926108     2635.838359               0.0             0.001   \n",
       "1          -4.849661    -2664.517706               0.0             0.001   \n",
       "2          -4.775549    -2623.799193               0.0             0.001   \n",
       "3          -4.703669    -2584.306449               0.0             0.001   \n",
       "4           4.633920     1893.336083               0.0             0.001   \n",
       "...              ...             ...               ...               ...   \n",
       "9995       -1.688718       -4.129473               0.0             0.001   \n",
       "9996       -1.626419       26.383519               0.0             0.001   \n",
       "9997       -1.688382       -8.127041               0.0             0.001   \n",
       "9998       -1.688214       -8.126233               0.0             0.001   \n",
       "9999       -1.625934       20.746673               0.0             0.001   \n",
       "\n",
       "      Block Number  \n",
       "0                1  \n",
       "1                2  \n",
       "2                3  \n",
       "3                4  \n",
       "4                5  \n",
       "...            ...  \n",
       "9995          9996  \n",
       "9996          9997  \n",
       "9997          9998  \n",
       "9998          9999  \n",
       "9999         10000  \n",
       "\n",
       "[10000 rows x 5 columns]"
      ]
     },
     "execution_count": 11,
     "metadata": {},
     "output_type": "execute_result"
    }
   ],
   "source": [
    "df"
   ]
  },
  {
   "cell_type": "markdown",
   "metadata": {},
   "source": [
    "## Sanity Check C\n",
    "\n",
    "Same difficulty but add in variations of difficulty in epochs"
   ]
  },
  {
   "cell_type": "code",
   "execution_count": 6,
   "metadata": {},
   "outputs": [
    {
     "name": "stdout",
     "output_type": "stream",
     "text": [
      "Placeholder has no control action options\n"
     ]
    },
    {
     "ename": "KeyError",
     "evalue": "'Mine Block Boundary Action V3'",
     "output_type": "error",
     "traceback": [
      "\u001b[0;31m---------------------------------------------------------------------------\u001b[0m",
      "\u001b[0;31mKeyError\u001b[0m                                  Traceback (most recent call last)",
      "\u001b[0;32m/var/folders/y0/fwkpk2ps087b_2qxvhjstrfr0000gn/T/ipykernel_23033/3823945967.py\u001b[0m in \u001b[0;36m<module>\u001b[0;34m\u001b[0m\n\u001b[1;32m      1\u001b[0m \u001b[0mparams_base\u001b[0m\u001b[0;34m[\u001b[0m\u001b[0;34m\"FP Mine Block Boundary Action\"\u001b[0m\u001b[0;34m]\u001b[0m \u001b[0;34m=\u001b[0m \u001b[0;34m\"Mine Block Boundary Action V3\"\u001b[0m\u001b[0;34m\u001b[0m\u001b[0;34m\u001b[0m\u001b[0m\n\u001b[0;32m----> 2\u001b[0;31m \u001b[0mmsi\u001b[0m \u001b[0;34m=\u001b[0m \u001b[0mms\u001b[0m\u001b[0;34m.\u001b[0m\u001b[0mbuild_implementation\u001b[0m\u001b[0;34m(\u001b[0m\u001b[0mparams_base\u001b[0m\u001b[0;34m)\u001b[0m\u001b[0;34m\u001b[0m\u001b[0;34m\u001b[0m\u001b[0m\n\u001b[0m\u001b[1;32m      3\u001b[0m state, params = msi.prepare_state_and_params(state_base, params_base, state_preperation_functions=[vesting_schedule_translate,\n\u001b[1;32m      4\u001b[0m                                                                                                    build_logistic_classifier], parameter_preperation_functions=[])\n\u001b[1;32m      5\u001b[0m \u001b[0;34m\u001b[0m\u001b[0m\n",
      "\u001b[0;32m~/Dropbox/BlockScience/MSML/src/math_spec_mapping/Classes/MathSpec.py\u001b[0m in \u001b[0;36mbuild_implementation\u001b[0;34m(self, params)\u001b[0m\n\u001b[1;32m    766\u001b[0m \u001b[0;34m\u001b[0m\u001b[0m\n\u001b[1;32m    767\u001b[0m     \u001b[0;32mdef\u001b[0m \u001b[0mbuild_implementation\u001b[0m\u001b[0;34m(\u001b[0m\u001b[0mself\u001b[0m\u001b[0;34m,\u001b[0m \u001b[0mparams\u001b[0m\u001b[0;34m)\u001b[0m\u001b[0;34m:\u001b[0m\u001b[0;34m\u001b[0m\u001b[0;34m\u001b[0m\u001b[0m\n\u001b[0;32m--> 768\u001b[0;31m         \u001b[0;32mreturn\u001b[0m \u001b[0mMathSpecImplementation\u001b[0m\u001b[0;34m(\u001b[0m\u001b[0mself\u001b[0m\u001b[0;34m,\u001b[0m \u001b[0mparams\u001b[0m\u001b[0;34m)\u001b[0m\u001b[0;34m\u001b[0m\u001b[0;34m\u001b[0m\u001b[0m\n\u001b[0m\u001b[1;32m    769\u001b[0m \u001b[0;34m\u001b[0m\u001b[0m\n\u001b[1;32m    770\u001b[0m     \u001b[0;32mdef\u001b[0m \u001b[0m_set_source_code\u001b[0m\u001b[0;34m(\u001b[0m\u001b[0mself\u001b[0m\u001b[0;34m)\u001b[0m\u001b[0;34m:\u001b[0m\u001b[0;34m\u001b[0m\u001b[0;34m\u001b[0m\u001b[0m\n",
      "\u001b[0;32m~/Dropbox/BlockScience/MSML/src/math_spec_mapping/Classes/MathSpec.py\u001b[0m in \u001b[0;36m__init__\u001b[0;34m(self, ms, params)\u001b[0m\n\u001b[1;32m    783\u001b[0m         \u001b[0mself\u001b[0m\u001b[0;34m.\u001b[0m\u001b[0mparams\u001b[0m \u001b[0;34m=\u001b[0m \u001b[0mparams\u001b[0m\u001b[0;34m\u001b[0m\u001b[0;34m\u001b[0m\u001b[0m\n\u001b[1;32m    784\u001b[0m         \u001b[0mself\u001b[0m\u001b[0;34m.\u001b[0m\u001b[0mcontrol_actions\u001b[0m \u001b[0;34m=\u001b[0m \u001b[0mself\u001b[0m\u001b[0;34m.\u001b[0m\u001b[0mload_control_actions\u001b[0m\u001b[0;34m(\u001b[0m\u001b[0;34m)\u001b[0m\u001b[0;34m\u001b[0m\u001b[0;34m\u001b[0m\u001b[0m\n\u001b[0;32m--> 785\u001b[0;31m         \u001b[0mself\u001b[0m\u001b[0;34m.\u001b[0m\u001b[0mboundary_actions\u001b[0m \u001b[0;34m=\u001b[0m \u001b[0mself\u001b[0m\u001b[0;34m.\u001b[0m\u001b[0mload_boundary_actions\u001b[0m\u001b[0;34m(\u001b[0m\u001b[0;34m)\u001b[0m\u001b[0;34m\u001b[0m\u001b[0;34m\u001b[0m\u001b[0m\n\u001b[0m\u001b[1;32m    786\u001b[0m         \u001b[0mself\u001b[0m\u001b[0;34m.\u001b[0m\u001b[0mpolicies\u001b[0m \u001b[0;34m=\u001b[0m \u001b[0mself\u001b[0m\u001b[0;34m.\u001b[0m\u001b[0mload_policies\u001b[0m\u001b[0;34m(\u001b[0m\u001b[0;34m)\u001b[0m\u001b[0;34m\u001b[0m\u001b[0;34m\u001b[0m\u001b[0m\n\u001b[1;32m    787\u001b[0m         \u001b[0mself\u001b[0m\u001b[0;34m.\u001b[0m\u001b[0mmechanisms\u001b[0m \u001b[0;34m=\u001b[0m \u001b[0mself\u001b[0m\u001b[0;34m.\u001b[0m\u001b[0mload_mechanisms\u001b[0m\u001b[0;34m(\u001b[0m\u001b[0;34m)\u001b[0m\u001b[0;34m\u001b[0m\u001b[0;34m\u001b[0m\u001b[0m\n",
      "\u001b[0;32m~/Dropbox/BlockScience/MSML/src/math_spec_mapping/Classes/MathSpec.py\u001b[0m in \u001b[0;36mload_boundary_actions\u001b[0;34m(self)\u001b[0m\n\u001b[1;32m    839\u001b[0m                     )\n\u001b[1;32m    840\u001b[0m \u001b[0;34m\u001b[0m\u001b[0m\n\u001b[0;32m--> 841\u001b[0;31m                     opt = self.ms.functional_parameters[\"FP {}\".format(ba.name)][\n\u001b[0m\u001b[1;32m    842\u001b[0m                         \u001b[0mself\u001b[0m\u001b[0;34m.\u001b[0m\u001b[0mparams\u001b[0m\u001b[0;34m[\u001b[0m\u001b[0;34m\"FP {}\"\u001b[0m\u001b[0;34m.\u001b[0m\u001b[0mformat\u001b[0m\u001b[0;34m(\u001b[0m\u001b[0mba\u001b[0m\u001b[0;34m.\u001b[0m\u001b[0mname\u001b[0m\u001b[0;34m)\u001b[0m\u001b[0;34m]\u001b[0m\u001b[0;34m\u001b[0m\u001b[0;34m\u001b[0m\u001b[0m\n\u001b[1;32m    843\u001b[0m                     ]\n",
      "\u001b[0;31mKeyError\u001b[0m: 'Mine Block Boundary Action V3'"
     ]
    }
   ],
   "source": [
    "params_base[\"FP Mine Block Boundary Action\"] = \"Mine Block Boundary Action V3\"\n",
    "msi = ms.build_implementation(params_base)\n",
    "state, params = msi.prepare_state_and_params(state_base, params_base, state_preperation_functions=[vesting_schedule_translate,\n",
    "                                                                                                   build_logistic_classifier], parameter_preperation_functions=[])\n",
    "\n",
    "for _ in range(10000):\n",
    "    # Set fixed values\n",
    "    state[\"K Qi\"] = 1\n",
    "    state[\"K Quai\"] = 500\n",
    "    state[\"Population Mining Beta Vector\"] = np.array([0, 0.001])\n",
    "    state[\"Block Difficulty\"] = max(np.random.normal(6000, 1000), 100)\n",
    "\n",
    "\n",
    "    msi.wiring[\"Mine Block Wiring\"](state, params, [])\n",
    "    msi.mechanisms[\"Log Simulation Data Mechanism\"](state, params, [])\n",
    "df = pd.DataFrame(state[\"Simulation History Log\"])\n",
    "plot_betas(df)"
   ]
  },
  {
   "cell_type": "code",
   "execution_count": 4,
   "metadata": {},
   "outputs": [
    {
     "name": "stdout",
     "output_type": "stream",
     "text": [
      "0.6056900421308241\n"
     ]
    }
   ],
   "source": [
    "print(sum([x['Ratio'] for x in state[\"Historical Mined Ratio\"]]) / len(state[\"Historical Mined Ratio\"]))"
   ]
  },
  {
   "cell_type": "code",
   "execution_count": null,
   "metadata": {},
   "outputs": [],
   "source": []
  },
  {
   "cell_type": "code",
   "execution_count": null,
   "metadata": {},
   "outputs": [],
   "source": []
  },
  {
   "cell_type": "code",
   "execution_count": null,
   "metadata": {},
   "outputs": [],
   "source": []
  }
 ],
 "metadata": {
  "kernelspec": {
   "display_name": "BlockScience",
   "language": "python",
   "name": "python3"
  },
  "language_info": {
   "codemirror_mode": {
    "name": "ipython",
    "version": 3
   },
   "file_extension": ".py",
   "mimetype": "text/x-python",
   "name": "python",
   "nbconvert_exporter": "python",
   "pygments_lexer": "ipython3",
   "version": "3.9.12"
  }
 },
 "nbformat": 4,
 "nbformat_minor": 2
}
