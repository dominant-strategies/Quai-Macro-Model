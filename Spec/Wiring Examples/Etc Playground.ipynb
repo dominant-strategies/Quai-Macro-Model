{
 "cells": [
  {
   "cell_type": "code",
   "execution_count": 1,
   "metadata": {},
   "outputs": [
    {
     "name": "stdout",
     "output_type": "stream",
     "text": [
      "Placeholder has no control action options\n"
     ]
    }
   ],
   "source": [
    "import os \n",
    "os.chdir(\"../../..\")\n",
    "from MSML.src.math_spec_mapping import (load_from_json, create_action_chains_graph, write_out_boundary_actions,\n",
    "                      write_out_policies, write_out_mechanisms, load_svg_graphviz, write_basic_report_full,\n",
    "                      write_action_chain_reports, write_spec_tree, create_parameter_impact_table,\n",
    "                     write_entity_reports, write_wiring_report, write_entity_markdown_report,\n",
    "                     write_all_markdown_reports)\n",
    "os.chdir(\"Quai-Macro-Model/Spec\")\n",
    "\n",
    "from IPython.display import display, display_html\n",
    "from copy import deepcopy\n",
    "from src import math_spec_json\n",
    "import numpy as np\n",
    "from pprint import pprint\n",
    "from simulation import state_base, params_base, vesting_schedule_translate\n",
    "\n",
    "ms = load_from_json(deepcopy(math_spec_json))\n",
    "msi = ms.build_implementation(params_base)"
   ]
  },
  {
   "cell_type": "code",
   "execution_count": 2,
   "metadata": {},
   "outputs": [
    {
     "data": {
      "image/png": "[encoded data removed]",
      "text/plain": [
       "<Figure size 432x288 with 1 Axes>"
      ]
     },
     "metadata": {
      "needs_background": "light"
     },
     "output_type": "display_data"
    }
   ],
   "source": [
    "import matplotlib.pyplot as plt\n",
    "\n",
    "state, params = msi.prepare_state_and_params(state_base, params_base, state_preperation_functions=[vesting_schedule_translate], parameter_preperation_functions=[])\n",
    "block = list(range(1001))\n",
    "hashpower = []\n",
    "\n",
    "for x in block:\n",
    "    state[\"Block Number\"] = x\n",
    "    hashpower.append(msi.blocks[\"Mine Block Boundary Action\"](state, params, [])[0][\"Aggregate Hashpower\"])\n",
    "\n",
    "\n",
    "plt.plot(block, hashpower)\n",
    "plt.xlabel(\"Block Number\")\n",
    "plt.ylabel(\"Block Number\")\n",
    "plt.title(\"Comparison of Hashpower vs. Block Number\")\n",
    "plt.show()"
   ]
  },
  {
   "cell_type": "code",
   "execution_count": 3,
   "metadata": {},
   "outputs": [
    {
     "name": "stdout",
     "output_type": "stream",
     "text": [
      "995000035.0\n"
     ]
    }
   ],
   "source": [
    "msi.blocks[\"Update Block Difficulty Mechanism\"](state, params, [{\"Block Difficulty\": 7000}])\n",
    "print(state[\"Block Difficulty\"])"
   ]
  },
  {
   "cell_type": "code",
   "execution_count": 4,
   "metadata": {},
   "outputs": [
    {
     "name": "stdout",
     "output_type": "stream",
     "text": [
      "{0.038461538461538464: 1, 0.25: 1.035, 0.5: 1.1, 1: 1.25}\n",
      "{0.038461538461538464: 1, 0.25: 1.0175, 0.5: 1.05, 1: 1.15}\n",
      "{0.038461538461538464: 1, 0.25: 1.00875, 0.5: 1.025, 1: 1.0625}\n",
      "{0.038461538461538464: 1, 0.25: 1.004375, 0.5: 1.0125, 1: 1.03125}\n",
      "{0.038461538461538464: 1, 0.25: 1.002188, 0.5: 1.00625, 1: 1.015625}\n",
      "{0.038461538461538464: 1, 0.25: 1.002188, 0.5: 1.00625, 1: 1.015625}\n",
      "{0.038461538461538464: 1, 0.25: 1.002188, 0.5: 1.00625, 1: 1.015625}\n",
      "{0.038461538461538464: 1, 0.25: 1.002188, 0.5: 1.00625, 1: 1.015625}\n"
     ]
    }
   ],
   "source": [
    "state[\"Time\"] = 0\n",
    "print(state[\"Stateful Metrics\"][\"Current Lockup Options\"](state, params))\n",
    "\n",
    "state[\"Time\"] = 365\n",
    "print(state[\"Stateful Metrics\"][\"Current Lockup Options\"](state, params))\n",
    "\n",
    "state[\"Time\"] = 365 * 2\n",
    "print(state[\"Stateful Metrics\"][\"Current Lockup Options\"](state, params))\n",
    "\n",
    "state[\"Time\"] = 365 * 3\n",
    "print(state[\"Stateful Metrics\"][\"Current Lockup Options\"](state, params))\n",
    "\n",
    "state[\"Time\"] = 365 * 4\n",
    "print(state[\"Stateful Metrics\"][\"Current Lockup Options\"](state, params))\n",
    "\n",
    "state[\"Time\"] = 365 * 5\n",
    "print(state[\"Stateful Metrics\"][\"Current Lockup Options\"](state, params))\n",
    "\n",
    "state[\"Time\"] = 365 * 6\n",
    "print(state[\"Stateful Metrics\"][\"Current Lockup Options\"](state, params))\n",
    "\n",
    "state[\"Time\"] = 365 * 7\n",
    "print(state[\"Stateful Metrics\"][\"Current Lockup Options\"](state, params))"
   ]
  },
  {
   "cell_type": "code",
   "execution_count": null,
   "metadata": {},
   "outputs": [],
   "source": []
  }
 ],
 "metadata": {
  "kernelspec": {
   "display_name": "BlockScience",
   "language": "python",
   "name": "python3"
  },
  "language_info": {
   "codemirror_mode": {
    "name": "ipython",
    "version": 3
   },
   "file_extension": ".py",
   "mimetype": "text/x-python",
   "name": "python",
   "nbconvert_exporter": "python",
   "pygments_lexer": "ipython3",
   "version": "3.9.12"
  }
 },
 "nbformat": 4,
 "nbformat_minor": 2
}
