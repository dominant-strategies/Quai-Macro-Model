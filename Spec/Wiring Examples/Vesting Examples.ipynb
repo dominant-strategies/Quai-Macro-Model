{
 "cells": [
  {
   "cell_type": "code",
   "execution_count": 1,
   "metadata": {},
   "outputs": [
    {
     "name": "stdout",
     "output_type": "stream",
     "text": [
      "Placeholder has no control action options\n"
     ]
    }
   ],
   "source": [
    "import os\n",
    "os.chdir(\"../../..\")\n",
    "from MSML.src.math_spec_mapping import (load_from_json, create_action_chains_graph, write_out_boundary_actions,\n",
    "                      write_out_policies, write_out_mechanisms, load_svg_graphviz, write_basic_report_full,\n",
    "                      write_action_chain_reports, write_spec_tree, create_parameter_impact_table,\n",
    "                     write_entity_reports, write_wiring_report, write_entity_markdown_report,\n",
    "                     write_all_markdown_reports)\n",
    "os.chdir(\"Quai-Macro-Model/Spec\")\n",
    "\n",
    "from simulation import state_base, params_base, vesting_schedule_translate\n",
    "\n",
    "from IPython.display import display\n",
    "from copy import deepcopy\n",
    "from src import math_spec_json\n",
    "import numpy as np\n",
    "from pprint import pprint\n",
    "\n",
    "ms = load_from_json(deepcopy(math_spec_json))\n",
    "msi = ms.build_implementation(params_base)"
   ]
  },
  {
   "cell_type": "markdown",
   "metadata": {},
   "source": [
    "## All Source Code for Used Components"
   ]
  },
  {
   "cell_type": "code",
   "execution_count": 2,
   "metadata": {},
   "outputs": [
    {
     "name": "stdout",
     "output_type": "stream",
     "text": [
      "--------------------Unlock Tokens Policy--------------------\n",
      "def unlock_tokens_policy_v1(state, params, spaces):\n",
      "    current_time = state[\"Time\"]\n",
      "    unlocked_qi = 0\n",
      "    unlocked_quai = 0\n",
      "    unlock_schedule_quai = state[\"Quai Unlock Schedule\"]\n",
      "    unlock_schedule_qi = state[\"Qi Unlock Schedule\"]\n",
      "\n",
      "    while len(unlock_schedule_quai) > 0:\n",
      "        if unlock_schedule_quai[0][\"time\"] <= current_time:\n",
      "            unlocked_quai += unlock_schedule_quai.pop(0)[\"amount\"]\n",
      "        else:\n",
      "            break\n",
      "\n",
      "    while len(unlock_schedule_qi) > 0:\n",
      "        if unlock_schedule_qi[0][\"time\"] <= current_time:\n",
      "            unlocked_qi += unlock_schedule_qi.pop(0)[\"amount\"]\n",
      "        else:\n",
      "            break\n",
      "\n",
      "    space = {\n",
      "        \"Qi Tokens\": unlocked_qi,\n",
      "        \"Quai Tokens\": unlocked_quai,\n",
      "        \"Quai Unlock Schedule\": unlock_schedule_quai,\n",
      "        \"Qi Unlock Schedule\": unlock_schedule_qi,\n",
      "    }\n",
      "\n",
      "    return [space]\n",
      "\n",
      "\n",
      "\n",
      "\n",
      "\n",
      "--------------------Unlock Tokens Mechanism--------------------\n",
      "def unlock_tokens_mechanism(state, params, spaces):\n",
      "    state[\"Locked Quai Supply\"] -= spaces[0][\"Quai Tokens\"]\n",
      "    state[\"Locked Qi Supply\"] -= spaces[0][\"Qi Tokens\"]\n",
      "    state[\"Quai Unlock Schedule\"] = spaces[0][\"Quai Unlock Schedule\"]\n",
      "    state[\"Qi Unlock Schedule\"] = spaces[0][\"Qi Unlock Schedule\"]\n",
      "\n",
      "\n",
      "\n",
      "\n",
      "\n",
      "--------------------Unlock Tokens Control Action--------------------\n",
      "def v1_unlock_tokens_control_action(state, params, spaces):\n",
      "    return []\n",
      "\n",
      "\n",
      "\n",
      "\n",
      "\n"
     ]
    }
   ],
   "source": [
    "keys = [x.name for x in ms.wiring['Unlock Tokens Wiring'].components_full()]\n",
    "msi.print_source_code_files(keys)"
   ]
  },
  {
   "cell_type": "code",
   "execution_count": 3,
   "metadata": {},
   "outputs": [],
   "source": [
    "\n",
    "state, params = msi.prepare_state_and_params(state_base, params_base,\n",
    "                                             state_preperation_functions=[vesting_schedule_translate],\n",
    "                                             parameter_preperation_functions=[])\n",
    "\n",
    "spaces = []\n",
    "spaces = msi.blocks[\"Unlock Tokens Control Action\"](state, params, spaces)\n",
    "spaces = msi.blocks[\"Unlock Tokens Policy\"](state, params, spaces)\n",
    "spaces = msi.blocks[\"Unlock Tokens Mechanism\"](state, params, spaces)"
   ]
  },
  {
   "cell_type": "code",
   "execution_count": 4,
   "metadata": {},
   "outputs": [
    {
     "name": "stdout",
     "output_type": "stream",
     "text": [
      "Placeholder has no control action options\n"
     ]
    }
   ],
   "source": [
    "time = list(range(0, 365*6+1))\n",
    "locked_quai = []\n",
    "circulating_quai = []\n",
    "\n",
    "msi = ms.build_implementation(params_base)\n",
    "state, params = msi.prepare_state_and_params(state_base, params_base,\n",
    "                                             state_preperation_functions=[vesting_schedule_translate],\n",
    "                                             parameter_preperation_functions=[])\n",
    "\n",
    "for t in time:\n",
    "    state['Time'] = t\n",
    "    msi.wiring['Unlock Tokens Wiring'](state, params, [])\n",
    "    locked_quai.append(state[\"Locked Quai Supply\"])\n",
    "    circulating_quai.append(state[\"Stateful Metrics\"][\"Circulating Quai Supply\"](state, params))"
   ]
  },
  {
   "cell_type": "code",
   "execution_count": 5,
   "metadata": {},
   "outputs": [
    {
     "data": {
      "image/png": "[encoded data removed]",
      "text/plain": [
       "<Figure size 432x288 with 1 Axes>"
      ]
     },
     "metadata": {
      "needs_background": "light"
     },
     "output_type": "display_data"
    }
   ],
   "source": [
    "import matplotlib.pyplot as plt\n",
    "\n",
    "plt.plot(time, locked_quai)\n",
    "plt.xlabel(\"Time\")\n",
    "plt.ylabel(\"Locked Quai\")\n",
    "plt.title(\"Locked Quai over Time\")\n",
    "plt.show()"
   ]
  },
  {
   "cell_type": "code",
   "execution_count": 6,
   "metadata": {},
   "outputs": [
    {
     "data": {
      "image/png": "[encoded data removed]",
      "text/plain": [
       "<Figure size 432x288 with 1 Axes>"
      ]
     },
     "metadata": {
      "needs_background": "light"
     },
     "output_type": "display_data"
    }
   ],
   "source": [
    "plt.plot(time, circulating_quai)\n",
    "plt.xlabel(\"Time\")\n",
    "plt.ylabel(\"Circulating Quai\")\n",
    "plt.title(\"Circulating Quai over Time\")\n",
    "plt.show()"
   ]
  }
 ],
 "metadata": {
  "kernelspec": {
   "display_name": "BlockScience",
   "language": "python",
   "name": "python3"
  },
  "language_info": {
   "codemirror_mode": {
    "name": "ipython",
    "version": 3
   },
   "file_extension": ".py",
   "mimetype": "text/x-python",
   "name": "python",
   "nbconvert_exporter": "python",
   "pygments_lexer": "ipython3",
   "version": "3.9.12"
  }
 },
 "nbformat": 4,
 "nbformat_minor": 2
}
