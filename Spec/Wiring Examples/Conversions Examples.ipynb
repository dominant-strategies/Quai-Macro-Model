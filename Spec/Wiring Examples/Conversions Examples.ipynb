{
 "cells": [
  {
   "cell_type": "code",
   "execution_count": 1,
   "metadata": {},
   "outputs": [],
   "source": [
    "import os \n",
    "os.chdir(\"../../..\")\n",
    "from MSML.src.math_spec_mapping import (load_from_json, create_action_chains_graph, write_out_boundary_actions,\n",
    "                      write_out_policies, write_out_mechanisms, load_svg_graphviz, write_basic_report_full,\n",
    "                      write_action_chain_reports, write_spec_tree, create_parameter_impact_table,\n",
    "                     write_entity_reports, write_wiring_report, write_entity_markdown_report,\n",
    "                     write_all_markdown_reports)\n",
    "os.chdir(\"Quai-Macro-Model/Spec\")\n",
    "\n",
    "from simulation import state_base, params_base, vesting_schedule_translate\n",
    "\n",
    "from IPython.display import display, display_html\n",
    "from copy import deepcopy\n",
    "from src import math_spec_json\n",
    "import numpy as np\n",
    "from pprint import pprint\n",
    "\n",
    "ms = load_from_json(deepcopy(math_spec_json))"
   ]
  },
  {
   "cell_type": "markdown",
   "metadata": {},
   "source": [
    "## V1 Conversions Function"
   ]
  },
  {
   "cell_type": "code",
   "execution_count": 8,
   "metadata": {},
   "outputs": [
    {
     "name": "stdout",
     "output_type": "stream",
     "text": [
      "Placeholder has no control action options\n",
      "\n",
      "\n",
      "Starting State:\n",
      "\n",
      "\n",
      "[{'Amount': 1003998.8079032318, 'Locking Time': 0.25, 'Token': 'Quai'}]\n",
      "\n",
      "\n",
      "\n",
      "[{'Qi': 21464227.958445363},\n",
      " {'Quai': 0},\n",
      " {'Qi': 0},\n",
      " {'Quai': 1003998.8079032318},\n",
      " None,\n",
      " {'Qi': 21464227.958445363, 'Quai': -1003998.8079032318, 'Time': 0},\n",
      " {'Qi': 21464227.958445363},\n",
      " {'Quai': 0},\n",
      " {'Qi Schedule Entry': [{'amount': 21464227.958445363,\n",
      "                         'recipient': 'Conversions',\n",
      "                         'time': 91.25}],\n",
      "  'Quai Schedule Entry': []}]\n",
      "\n",
      "\n",
      "\n",
      "Ending State:\n"
     ]
    }
   ],
   "source": [
    "params_base_i = deepcopy(params_base)\n",
    "params_base_i[\"FP Conversions Boundary Action\"] = \"Conversions Boundary Action V1\"\n",
    "msi = ms.build_implementation(params_base_i)\n",
    "state, params = msi.prepare_state_and_params(state_base, params_base_i,\n",
    "                                             state_preperation_functions=[vesting_schedule_translate],\n",
    "                                             parameter_preperation_functions=[])\n",
    "\n",
    "print()\n",
    "print()\n",
    "print(\"Starting State:\")\n",
    "#pprint(state)\n",
    "print()\n",
    "print()\n",
    "spaces = msi.boundary_actions[\"Conversions Boundary Action\"](state, params, [])\n",
    "pprint(spaces)\n",
    "print()\n",
    "print()\n",
    "print()\n",
    "spaces = msi.policies[\"Conversions Policy\"](state, params, spaces)\n",
    "pprint(spaces)\n",
    "print()\n",
    "print()\n",
    "print()\n",
    "msi.mechanisms[\"Mint Qi Tokens Mechanism\"](state, params, spaces[:1])\n",
    "msi.mechanisms[\"Mint Quai Tokens Mechanism\"](state, params, spaces[1:2])\n",
    "msi.mechanisms[\"Burn Qi Tokens Mechanism\"](state, params, spaces[2:3])\n",
    "msi.mechanisms[\"Burn Quai Tokens Mechanism\"](state, params, spaces[3:4])\n",
    "msi.mechanisms[\"Update Historical Converted Qi Mechanism\"](state, params, spaces[4:5])\n",
    "msi.mechanisms[\"Update Historical Converted Quai Mechanism\"](state, params, spaces[5:6])\n",
    "print(\"Ending State:\")\n",
    "#pprint(state)"
   ]
  },
  {
   "cell_type": "markdown",
   "metadata": {},
   "source": [
    "## Quai Conversion"
   ]
  },
  {
   "cell_type": "code",
   "execution_count": 6,
   "metadata": {},
   "outputs": [
    {
     "name": "stdout",
     "output_type": "stream",
     "text": [
      "Placeholder has no control action options\n",
      "\n",
      "\n",
      "Starting State:\n",
      "\n",
      "\n",
      "[{'Amount': 100, 'Locking Time': 0.25, 'Token': 'Quai'}]\n",
      "\n",
      "\n",
      "\n",
      "[{'Qi': 2137.8738490010387},\n",
      " {'Quai': 0},\n",
      " {'Qi': 0},\n",
      " {'Quai': 100},\n",
      " None,\n",
      " {'Qi': 2137.8738490010387, 'Quai': -100, 'Time': 0},\n",
      " {'Qi': 2137.8738490010387},\n",
      " {'Quai': 0},\n",
      " {'Qi Schedule Entry': [{'amount': 2137.8738490010387,\n",
      "                         'recipient': 'Conversions',\n",
      "                         'time': 91.25}],\n",
      "  'Quai Schedule Entry': []}]\n",
      "\n",
      "\n",
      "\n",
      "Ending State:\n"
     ]
    }
   ],
   "source": [
    "params_base_i = deepcopy(params_base)\n",
    "params_base_i[\"FP Conversions Boundary Action\"] = \"TEST Quai Conversion\"\n",
    "msi = ms.build_implementation(params_base_i)\n",
    "state, params = msi.prepare_state_and_params(state_base, params_base_i,\n",
    "                                             state_preperation_functions=[vesting_schedule_translate],\n",
    "                                             parameter_preperation_functions=[])\n",
    "\n",
    "print()\n",
    "print()\n",
    "print(\"Starting State:\")\n",
    "#pprint(state)\n",
    "print()\n",
    "print()\n",
    "spaces = msi.boundary_actions[\"Conversions Boundary Action\"](state, params, [])\n",
    "pprint(spaces)\n",
    "print()\n",
    "print()\n",
    "print()\n",
    "spaces = msi.policies[\"Conversions Policy\"](state, params, spaces)\n",
    "pprint(spaces)\n",
    "print()\n",
    "print()\n",
    "print()\n",
    "msi.mechanisms[\"Mint Qi Tokens Mechanism\"](state, params, spaces[:1])\n",
    "msi.mechanisms[\"Mint Quai Tokens Mechanism\"](state, params, spaces[1:2])\n",
    "msi.mechanisms[\"Burn Qi Tokens Mechanism\"](state, params, spaces[2:3])\n",
    "msi.mechanisms[\"Burn Quai Tokens Mechanism\"](state, params, spaces[3:4])\n",
    "msi.mechanisms[\"Update Historical Converted Qi Mechanism\"](state, params, spaces[4:5])\n",
    "msi.mechanisms[\"Update Historical Converted Quai Mechanism\"](state, params, spaces[5:6])\n",
    "msi.mechanisms[\"Update Locked Qi Mechanism\"](state, params, spaces[6:7])\n",
    "msi.mechanisms[\"Update Locked Quai Mechanism\"](state, params, spaces[7:8])\n",
    "msi.mechanisms[\"Append to Unlock Schedule Mechanism\"](state, params, spaces[8:9])\n",
    "\n",
    "print(\"Ending State:\")\n",
    "#pprint(state)"
   ]
  },
  {
   "cell_type": "code",
   "execution_count": 9,
   "metadata": {},
   "outputs": [
    {
     "name": "stdout",
     "output_type": "stream",
     "text": [
      "Placeholder has no control action options\n",
      "\n",
      "\n",
      "Starting State:\n",
      "\n",
      "\n",
      "[{'Amount': 100, 'Locking Time': 0.25, 'Token': 'Qi'}]\n",
      "\n",
      "\n",
      "\n",
      "[{'Qi': 0},\n",
      " {'Quai': 0},\n",
      " {'Qi': 0},\n",
      " {'Quai': 0},\n",
      " None,\n",
      " None,\n",
      " {'Qi': 0},\n",
      " {'Quai': 0},\n",
      " {'Qi Schedule Entry': [], 'Quai Schedule Entry': []}]\n",
      "\n",
      "\n",
      "\n",
      "Ending State:\n"
     ]
    }
   ],
   "source": [
    "params_base_i = deepcopy(params_base)\n",
    "params_base_i[\"FP Conversions Boundary Action\"] = \"TEST Qi Conversion\"\n",
    "msi = ms.build_implementation(params_base_i)\n",
    "state, params = msi.prepare_state_and_params(state_base, params_base_i,\n",
    "                                             state_preperation_functions=[vesting_schedule_translate],\n",
    "                                             parameter_preperation_functions=[])\n",
    "\n",
    "print()\n",
    "print()\n",
    "print(\"Starting State:\")\n",
    "#pprint(state)\n",
    "print()\n",
    "print()\n",
    "spaces = msi.boundary_actions[\"Conversions Boundary Action\"](state, params, [])\n",
    "pprint(spaces)\n",
    "print()\n",
    "print()\n",
    "print()\n",
    "spaces = msi.policies[\"Conversions Policy\"](state, params, spaces)\n",
    "pprint(spaces)\n",
    "print()\n",
    "print()\n",
    "print()\n",
    "msi.mechanisms[\"Mint Qi Tokens Mechanism\"](state, params, spaces[:1])\n",
    "msi.mechanisms[\"Mint Quai Tokens Mechanism\"](state, params, spaces[1:2])\n",
    "msi.mechanisms[\"Burn Qi Tokens Mechanism\"](state, params, spaces[2:3])\n",
    "msi.mechanisms[\"Burn Quai Tokens Mechanism\"](state, params, spaces[3:4])\n",
    "msi.mechanisms[\"Update Historical Converted Qi Mechanism\"](state, params, spaces[4:5])\n",
    "msi.mechanisms[\"Update Historical Converted Quai Mechanism\"](state, params, spaces[5:6])\n",
    "print(\"Ending State:\")\n",
    "#pprint(state)"
   ]
  },
  {
   "cell_type": "code",
   "execution_count": null,
   "metadata": {},
   "outputs": [],
   "source": []
  }
 ],
 "metadata": {
  "kernelspec": {
   "display_name": "BlockScience",
   "language": "python",
   "name": "python3"
  },
  "language_info": {
   "codemirror_mode": {
    "name": "ipython",
    "version": 3
   },
   "file_extension": ".py",
   "mimetype": "text/x-python",
   "name": "python",
   "nbconvert_exporter": "python",
   "pygments_lexer": "ipython3",
   "version": "3.9.12"
  }
 },
 "nbformat": 4,
 "nbformat_minor": 2
}
