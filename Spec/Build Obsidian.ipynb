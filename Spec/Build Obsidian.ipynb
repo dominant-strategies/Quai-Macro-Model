{
 "cells": [
  {
   "cell_type": "code",
   "execution_count": 1,
   "id": "8f2ca968",
   "metadata": {},
   "outputs": [],
   "source": [
    "import os\n",
    "# For dev\n",
    "\"\"\"os.chdir(\"../..\")\n",
    "from MSML.src.math_spec_mapping import (load_from_json, create_action_chains_graph, write_out_boundary_actions,\n",
    "                      write_out_policies, write_out_mechanisms, load_svg_graphviz, write_basic_report_full,\n",
    "                      write_action_chain_reports, write_spec_tree, create_parameter_impact_table,\n",
    "                     write_entity_reports, write_wiring_report, write_entity_markdown_report,\n",
    "                     write_all_markdown_reports)\n",
    "os.chdir(\"Quai-Macro-Model/Spec\")\"\"\"\n",
    "from math_spec_mapping import (load_from_json, create_action_chains_graph, write_out_boundary_actions,\n",
    "                      write_out_policies, write_out_mechanisms, load_svg_graphviz, write_basic_report_full,\n",
    "                      write_action_chain_reports, write_spec_tree, create_parameter_impact_table,\n",
    "                     write_entity_reports, write_wiring_report, write_entity_markdown_report,\n",
    "                     write_all_markdown_reports, write_initial_state_variables_tables, write_parameter_table_markdown)\n",
    "\n",
    "\n",
    "from IPython.display import display, display_html\n",
    "from copy import deepcopy\n",
    "from src import math_spec_json\n",
    "from simulation import state_base, params_base\n",
    "\n",
    "ms = load_from_json(deepcopy(math_spec_json))\n",
    "\n",
    "\n",
    "d = \"obsidian\"\n",
    "d2 = \"../Research/MSML Scaffold\"\n",
    "write_all_markdown_reports(ms, d, clear_folders=True)\n",
    "write_all_markdown_reports(ms, d2, clear_folders=False)\n",
    "write_spec_tree(ms, path=d, linking=True)"
   ]
  },
  {
   "cell_type": "code",
   "execution_count": 2,
   "id": "7a76282e",
   "metadata": {},
   "outputs": [],
   "source": [
    "from simulation import state_base, params_base\n",
    "\n",
    "table1 = write_initial_state_variables_tables(ms, initial_values=state_base, compress_arrays=True)\n",
    "table2 = write_parameter_table_markdown(ms, initial_values=params_base,  compress_arrays=True)"
   ]
  },
  {
   "cell_type": "code",
   "execution_count": 3,
   "id": "afa8c1d0",
   "metadata": {},
   "outputs": [
    {
     "name": "stdout",
     "output_type": "stream",
     "text": [
      "### Global State\n",
      "\n",
      "| Name | Description | Type | Symbol | Domain | Initial Value |\n",
      "| --- | --- | --- | --- | --- | --- |\n",
      "|Dummy|The dummy entity|Entity Type||| None |\n",
      "|Qi Supply|The total supply of Qi|Qi Type||| None |\n",
      "|Quai Supply|The total supply of Quai|Quai Type||| None |\n",
      "|Locked Qi Supply|The total supply of Qi that is locked|Qi Type||| None |\n",
      "|Locked Quai Supply|The total supply of Quai that is locked|Quai Type||| None |\n",
      "|Block Number|The current block that the system is on|Block Number Type||| 0 |\n",
      "|Block Difficulty|The latest difficulty for blocks|Block Difficulty Type||| 1000000000 |\n",
      "|Historical Converted Qi|An array of the conversions from Qi to Quai. The Qi Values will be negative in each entry and Quai values will be positive. Time is also logged in the entries of the array.|Conversions Array Type||| [] |\n",
      "|Historical Converted Quai|An array of the conversions from Quai to Qi. The Quai Values will be negative in each entry and Qi values will be positive. Time is also logged in the entries of the array.|Conversions Array Type||| [] |\n",
      "|Historical Mined Ratio|An array of the historical ratios of mining between Qi and Quai which the miners had chosen at given times. 0 corresponds to 100% Qi, 1 corresponds to 100% Quai, number in between are the increments between those balances.|Mined Ratio Array Type||| [] |\n",
      "|Historical Qi Hash|An array of the historical amount of hash attributed to Qi in block rewards with block numbers attatched to each entry.|Hash Array Type||| [] |\n",
      "|Historical Quai Hash|An array of the historical amount of hash attributed to Quai in block rewards with block numbers attatched to each entry.|Hash Array Type||| [] |\n",
      "|K Qi|The controller coeffecient for Qi.|Gain Type||| 2.98e-08 |\n",
      "|K Quai|The controller coeffecient for Quai.|Gain Type||| 1 |\n",
      "|Quai Price|The current price of Quai.|USD Type||| 1 |\n",
      "|Qi Price|The current price of Qi.|USD Type||| 1 |\n",
      "|Simulation History Log|The logged data from simulation history.|Simulation History Log Type||| [] |\n",
      "|Number of Regions|The current number of regions.|Number of Regions Type||| 2 |\n",
      "|Zones per Region|The current number of zones in each region.|Zones per Region Type||| 2 |\n",
      "|Time|The current time in the system.|Datetime Type||| 0 |\n",
      "|Delta Time|The amount of time covered in the current simulation epoch.|Delta Time Type||| 0 |\n",
      "|Quai Unlock Schedule|The schedule of Quai token unlocks that will happen in the future|Unlock Schedule Type||| None |\n",
      "|Qi Unlock Schedule|The schedule of Qi token unlocks that will happen in the future|Unlock Schedule Type||| None |\n",
      "|Population Mining Beta Vector|The population betas, not known to the controller|Mining Beta Vector Type||| [-0.0001  0.0001] |\n",
      "|Estimated Mining Beta Vector|The controllers current estimation of the beta vector|Mining Beta Vector Type||| [None, None] |\n",
      "|Logistic Classifier|The logistic classifier used for beta estimation|Logistic Classifier Type||| None |\n",
      "|Mining Log|The log of mined blocks|Simulation History Log Type||| None |\n",
      "|Aggregate Hashpower|The current hashpower per second in the simulation|Hashpower per Second||| 200000000.0 |\n",
      "\n",
      "\n"
     ]
    }
   ],
   "source": [
    "print(table1)"
   ]
  },
  {
   "cell_type": "code",
   "execution_count": 4,
   "id": "a1b3a3b4",
   "metadata": {},
   "outputs": [
    {
     "name": "stdout",
     "output_type": "stream",
     "text": [
      "| Name | Description | Parameter Class | Symbol | Domain | Initial Value |\n",
      "| --- | --- | --- | --- | --- | --- |\n",
      "|Minimum Quai Conversion Amount|The minimum amount of Quai that can be converted|System||| 0 |\n",
      "|Minimum Qi Conversion Amount|The minimum amount of Qi that can be converted|System||| 0 |\n",
      "|Asset Return Parameterization|The parameters for determining random assets returns with correlations|Behavioral||| None |\n",
      "|Price EWMA Lambda|The exponential decay rate for price signals|Behavioral||| 0.05 |\n",
      "|Hashpower Cost Series|The cost of hashpower by block number|Behavioral||| [0.1, 0.2, ... , 1000.0, 1000.1] |\n",
      "|Qi Price Movemement Sigma|The standard deviation of qi price movements|Behavioral||| 0.01 |\n",
      "|Quai Price Movemement Sigma|The standard deviation of quai price movements|Behavioral||| 0.01 |\n",
      "|Speculator Percentage|The percentage of the supply that is speculative|Behavioral||| 0.1 |\n",
      "|Conversion Percentage Mu|The avergage percentage for conversions of tradeable capital|Behavioral||| 0.01 |\n",
      "|Conversion Percentage Sigma|The standard deviation for conversions of tradeable capital|Behavioral||| 0.001 |\n",
      "|Maximum Conversion Rate|The maximum conversion rate allowed|System||| 10 |\n",
      "|PID Parameterization|The PID parameters|System||| None |\n",
      "|Initial Block Difficulty|The starting block difficulty|System||| None |\n",
      "|Controller Alpha Parameter|The alpha parameter for tuning the adjustment speed|System||| 1 |\n",
      "|State Update Skipping Parameter|A list of state updates to turn off for debugging and testing purposes|Functional||| [] |\n",
      "|Population Beta Signal|A list of population beta vectors to use in simulation|Behavioral||| [[-2.e+00  1.e-03], [-2.e+00  1.e-03], ... , [-2.e+00  1.e-03], [-2.e+00  1.e-03]] |\n",
      "|Minimum K Qi|The minimum value allowed for K Qi|System||| 0 |\n",
      "|Minimum K Quai|The minimum value allowed for K Quai|System||| 0 |\n",
      "|Block Difficulty Multiples|The difficulty of different levels of blocks as multipliers on global difficulty|System||| None |\n",
      "|Target Mining Time|The target time for mining to take|System||| 5 |\n",
      "|Quai Reward Base Parameter|The base used for Quai reward computation|System|B|| 2 |\n",
      "|Aggregate Hashpower Series|A series of the aggregate hashpower to be used at each block number|Behavioral||| [250000000.0, 250000000.0, ... , 250000000.0, 250000000.0] |\n",
      "|Difficulty Adjustment Period|The number of blocks over which difficulty is adjusted|System||| 43.75 |\n",
      "|Difficulty Randomness Sigma|The mean value for randomness percentage multiplied into block difficulties (1 being default/average equal to block difficulty)|System||| 0.2 |\n",
      "|Difficulty Randomness Mu|The standard deviation of the percentage multiplied into block difficulties|System||| 1 |\n",
      "|Probability of Rational Miners|The probability that a given miner is going to act rationally.|Behavioral||[0, 1]| 0.8 |\n",
      "|Initial Vesting Schedule|The vesting schedule for initial allocations|System||| [{'vesting_amount': 500000000.0, 'vesting_frequency': 'Immediate', 'time': 0, 'recipient': 'Foundation', 'duration': None}, {'vesting_amount': 1166666666.6666667, 'vesting_frequency': 'Monthly', 'time': 0, 'recipient': 'Foundation', 'duration': 6}, ... , {'vesting_amount': 16666666.666666668, 'vesting_frequency': 'Immediate', 'time': 0, 'recipient': 'Earn Program', 'duration': None}, {'vesting_amount': 50000000.0, 'vesting_frequency': 'Monthly', 'time': 0, 'recipient': 'Earn Program', 'duration': 2}] |\n",
      "|Lockup Options|The options for locking up for different time frames|System||| {1: {0.038461538461538464: 1, 0.25: 1.035, 0.5: 1.1, 1: 1.25}, 2: {0.038461538461538464: 1, 0.25: 1.0175, 0.5: 1.05, 1: 1.15}, 3: {0.038461538461538464: 1, 0.25: 1.00875, 0.5: 1.025, 1: 1.0625}, 4: {0.038461538461538464: 1, 0.25: 1.004375, 0.5: 1.0125, 1: 1.03125}, 5: {0.038461538461538464: 1, 0.25: 1.002188, 0.5: 1.00625, 1: 1.015625}} |\n",
      "\n"
     ]
    }
   ],
   "source": [
    "print(table2)"
   ]
  },
  {
   "cell_type": "code",
   "execution_count": null,
   "id": "62db15a8",
   "metadata": {},
   "outputs": [],
   "source": []
  }
 ],
 "metadata": {
  "kernelspec": {
   "display_name": "BlockScience",
   "language": "python",
   "name": "python3"
  },
  "language_info": {
   "codemirror_mode": {
    "name": "ipython",
    "version": 3
   },
   "file_extension": ".py",
   "mimetype": "text/x-python",
   "name": "python",
   "nbconvert_exporter": "python",
   "pygments_lexer": "ipython3",
   "version": "3.9.12"
  }
 },
 "nbformat": 4,
 "nbformat_minor": 5
}
