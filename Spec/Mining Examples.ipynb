{
 "cells": [
  {
   "cell_type": "code",
   "execution_count": 3,
   "metadata": {},
   "outputs": [
    {
     "name": "stdout",
     "output_type": "stream",
     "text": [
      "Placeholder has no control action options\n",
      "Controller Update Control Action has no control action options\n",
      "Mine Block Boundary Action has no boundary action options\n",
      "Conversions Boundary Action has no boundary action options\n",
      "Price Movements Boundary Action has no boundary action options\n",
      "No python implementation for Block Reward Policy / Block Reward Policy V1. To fix this, go to Implementations/Python/Policies and add Block Reward Policy V1\n",
      "No python implementation for Mining Payment Policy / Deterministic Mining Payment Policy. To fix this, go to Implementations/Python/Policies and add Deterministic Mining Payment Policy\n",
      "No python implementation for Conversions Policy / Block Reward Ratio Conversion Policy. To fix this, go to Implementations/Python/Policies and add Block Reward Ratio Conversion Policy\n",
      "Price Movements Policy has no policy options\n",
      "No python implementation for Controller Update Policy / Linear Controller Policy. To fix this, go to Implementations/Python/Policies and add Linear Controller Policy\n",
      "No python implementation for Increment Block Number Mechanism. To fix this, go to Implementations/Python/Mechanisms and add Increment Block Number Mechanism\n",
      "No python implementation for Update Historical Mined Ratio Mechanism. To fix this, go to Implementations/Python/Mechanisms and add Update Historical Mined Ratio Mechanism\n",
      "No python implementation for Update Historical Qi Hash Mechanism. To fix this, go to Implementations/Python/Mechanisms and add Update Historical Qi Hash Mechanism\n",
      "No python implementation for Update Historical Quai Hash Mechanism. To fix this, go to Implementations/Python/Mechanisms and add Update Historical Quai Hash Mechanism\n",
      "No python implementation for Update Historical Converted Qi Mechanism. To fix this, go to Implementations/Python/Mechanisms and add Update Historical Converted Qi Mechanism\n",
      "No python implementation for Update Historical Converted Quai Mechanism. To fix this, go to Implementations/Python/Mechanisms and add Update Historical Converted Quai Mechanism\n",
      "No python implementation for Log Simulation Data Mechanism. To fix this, go to Implementations/Python/Mechanisms and add Log Simulation Data Mechanism\n",
      "No python implementation for Mint Qi Tokens Mechanism. To fix this, go to Implementations/Python/Mechanisms and add Mint Qi Tokens Mechanism\n",
      "No python implementation for Mint Quai Tokens Mechanism. To fix this, go to Implementations/Python/Mechanisms and add Mint Quai Tokens Mechanism\n",
      "No python implementation for Burn Qi Tokens Mechanism. To fix this, go to Implementations/Python/Mechanisms and add Burn Qi Tokens Mechanism\n",
      "No python implementation for Burn Quai Tokens Mechanism. To fix this, go to Implementations/Python/Mechanisms and add Burn Quai Tokens Mechanism\n",
      "No python implementation for Update Prices Mechanism. To fix this, go to Implementations/Python/Mechanisms and add Update Prices Mechanism\n",
      "No python implementation for Set K Mechanism. To fix this, go to Implementations/Python/Mechanisms and add Set K Mechanism\n",
      "No python implementation for Current Quai Block Reward Stateful Metric. To fix this, go to Implementations/Python/StatefulMetrics and add Current Quai Block Reward Stateful Metric\n",
      "No python implementation for Current Qi Block Reward Stateful Metric. To fix this, go to Implementations/Python/StatefulMetrics and add Current Qi Block Reward Stateful Metric\n",
      "The following wirings were not loading: ['Mining Mechanisms', 'Controller Update Wiring', 'Price Movements Wiring', 'Conversions Mechanisms Wiring', 'Mine Block Wiring', 'Conversions Wiring', 'Simulation Wiring']\n"
     ]
    }
   ],
   "source": [
    "import os \n",
    "os.chdir(\"../..\")\n",
    "from MSML.src.math_spec_mapping import (load_from_json, create_action_chains_graph, write_out_boundary_actions,\n",
    "                      write_out_policies, write_out_mechanisms, load_svg_graphviz, write_basic_report_full,\n",
    "                      write_action_chain_reports, write_spec_tree, create_parameter_impact_table,\n",
    "                     write_entity_reports, write_wiring_report, write_entity_markdown_report,\n",
    "                     write_all_markdown_reports)\n",
    "os.chdir(\"Quai-Macro-Model/Spec\")\n",
    "\n",
    "from IPython.display import display, display_html\n",
    "from copy import deepcopy\n",
    "from src import math_spec_json\n",
    "\n",
    "ms = load_from_json(deepcopy(math_spec_json))\n",
    "\n",
    "state_base = {\"Dummy\": {\"Words\": [],\n",
    "                   \"Total Length\": 0}}\n",
    "params_base = {'FP Dummy Boundary Action 2': \"V2 Dummy Boundary Action 2 Option\",\n",
    "          \"FP Dummy Control Action\": \"V2 Dummy Control\",\n",
    "          'DUMMY D Probability': .5,\n",
    "          'DUMMY Length Multiplier': 2,\n",
    "          \"FP Controller Update Policy\": \"Linear Controller Policy\"}\n",
    "\n",
    "msi = ms.build_implementation(params_base)"
   ]
  },
  {
   "cell_type": "code",
   "execution_count": null,
   "metadata": {},
   "outputs": [],
   "source": [
    "'Linear Controller Policy'"
   ]
  }
 ],
 "metadata": {
  "kernelspec": {
   "display_name": "BlockScience",
   "language": "python",
   "name": "python3"
  },
  "language_info": {
   "codemirror_mode": {
    "name": "ipython",
    "version": 3
   },
   "file_extension": ".py",
   "mimetype": "text/x-python",
   "name": "python",
   "nbconvert_exporter": "python",
   "pygments_lexer": "ipython3",
   "version": "3.9.12"
  }
 },
 "nbformat": 4,
 "nbformat_minor": 2
}
