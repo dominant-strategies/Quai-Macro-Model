{
 "cells": [
  {
   "cell_type": "code",
   "execution_count": 3,
   "metadata": {},
   "outputs": [
    {
     "name": "stdout",
     "output_type": "stream",
     "text": [
      "Placeholder has no control action options\n",
      "Controller Update Control Action has no control action options\n",
      "Conversions Boundary Action has no boundary action options\n",
      "Price Movements Boundary Action has no boundary action options\n",
      "No python implementation for Block Reward Policy / Block Reward Policy V1. To fix this, go to Implementations/Python/Policies and add Block Reward Policy V1\n",
      "No python implementation for Mining Payment Policy / Deterministic Mining Payment Policy. To fix this, go to Implementations/Python/Policies and add Deterministic Mining Payment Policy\n",
      "No python implementation for Conversions Policy / Block Reward Ratio Conversion Policy. To fix this, go to Implementations/Python/Policies and add Block Reward Ratio Conversion Policy\n",
      "Price Movements Policy has no policy options\n",
      "No python implementation for Controller Update Policy / Linear Controller Policy. To fix this, go to Implementations/Python/Policies and add Linear Controller Policy\n",
      "No python implementation for Increment Block Number Mechanism. To fix this, go to Implementations/Python/Mechanisms and add Increment Block Number Mechanism\n",
      "No python implementation for Update Historical Mined Ratio Mechanism. To fix this, go to Implementations/Python/Mechanisms and add Update Historical Mined Ratio Mechanism\n",
      "No python implementation for Update Historical Qi Hash Mechanism. To fix this, go to Implementations/Python/Mechanisms and add Update Historical Qi Hash Mechanism\n",
      "No python implementation for Update Historical Quai Hash Mechanism. To fix this, go to Implementations/Python/Mechanisms and add Update Historical Quai Hash Mechanism\n",
      "No python implementation for Update Historical Converted Qi Mechanism. To fix this, go to Implementations/Python/Mechanisms and add Update Historical Converted Qi Mechanism\n",
      "No python implementation for Update Historical Converted Quai Mechanism. To fix this, go to Implementations/Python/Mechanisms and add Update Historical Converted Quai Mechanism\n",
      "No python implementation for Log Simulation Data Mechanism. To fix this, go to Implementations/Python/Mechanisms and add Log Simulation Data Mechanism\n",
      "No python implementation for Mint Qi Tokens Mechanism. To fix this, go to Implementations/Python/Mechanisms and add Mint Qi Tokens Mechanism\n",
      "No python implementation for Mint Quai Tokens Mechanism. To fix this, go to Implementations/Python/Mechanisms and add Mint Quai Tokens Mechanism\n",
      "No python implementation for Burn Qi Tokens Mechanism. To fix this, go to Implementations/Python/Mechanisms and add Burn Qi Tokens Mechanism\n",
      "No python implementation for Burn Quai Tokens Mechanism. To fix this, go to Implementations/Python/Mechanisms and add Burn Quai Tokens Mechanism\n",
      "No python implementation for Update Prices Mechanism. To fix this, go to Implementations/Python/Mechanisms and add Update Prices Mechanism\n",
      "No python implementation for Set K Mechanism. To fix this, go to Implementations/Python/Mechanisms and add Set K Mechanism\n",
      "No python implementation for Current Quai Block Reward Stateful Metric. To fix this, go to Implementations/Python/StatefulMetrics and add Current Quai Block Reward Stateful Metric\n",
      "No python implementation for Current Qi Block Reward Stateful Metric. To fix this, go to Implementations/Python/StatefulMetrics and add Current Qi Block Reward Stateful Metric\n",
      "The following wirings were not loading: ['Mining Mechanisms', 'Controller Update Wiring', 'Price Movements Wiring', 'Conversions Mechanisms Wiring', 'Mine Block Wiring', 'Conversions Wiring', 'Simulation Wiring']\n"
     ]
    }
   ],
   "source": [
    "import os \n",
    "os.chdir(\"../..\")\n",
    "from MSML.src.math_spec_mapping import (load_from_json, create_action_chains_graph, write_out_boundary_actions,\n",
    "                      write_out_policies, write_out_mechanisms, load_svg_graphviz, write_basic_report_full,\n",
    "                      write_action_chain_reports, write_spec_tree, create_parameter_impact_table,\n",
    "                     write_entity_reports, write_wiring_report, write_entity_markdown_report,\n",
    "                     write_all_markdown_reports)\n",
    "os.chdir(\"Quai-Macro-Model/Spec\")\n",
    "\n",
    "from IPython.display import display, display_html\n",
    "from copy import deepcopy\n",
    "from src import math_spec_json\n",
    "\n",
    "ms = load_from_json(deepcopy(math_spec_json))\n",
    "\n",
    "state_base = {'Qi Supply': None,\n",
    " 'Quai Supply': None,\n",
    " 'Block Number': None,\n",
    " 'Block Difficulty': 100,\n",
    " 'Current Hash Difference': None,\n",
    " 'Historical Converted Qi': None,\n",
    " 'Historical Converted Quai': None,\n",
    " 'Historical Mined Ratio': None,\n",
    " 'Historical Qi Hash': None,\n",
    " 'Historical Quai Hash': None,\n",
    " 'K Qi': None,\n",
    " 'K Quai': None,\n",
    " 'Quai Price': None,\n",
    " 'Qi Price': 1,\n",
    " 'Simulation History Log': None,\n",
    " 'Dummy': None}\n",
    "params_base = {'Minimum Quai Conversion Amount': None,\n",
    " 'Minimum Qi Conversion Amount': None,\n",
    " 'Asset Return Parameterization': None,\n",
    " 'PID Parameterization': None,\n",
    " 'Initial Block Difficulty': None,\n",
    " \"FP Controller Update Policy\": 'Linear Controller Policy',\n",
    " \"Block Difficulty Multiples\": {\"Prime\": 1,\n",
    "                                         \"Region\": .5,\n",
    "                                         \"Zone\": .25}}\n",
    "msi = ms.build_implementation(params_base)"
   ]
  },
  {
   "cell_type": "code",
   "execution_count": null,
   "metadata": {},
   "outputs": [],
   "source": []
  },
  {
   "cell_type": "code",
   "execution_count": 4,
   "metadata": {},
   "outputs": [
    {
     "ename": "KeyError",
     "evalue": "'Regions'",
     "output_type": "error",
     "traceback": [
      "\u001b[0;31m---------------------------------------------------------------------------\u001b[0m",
      "\u001b[0;31mKeyError\u001b[0m                                  Traceback (most recent call last)",
      "\u001b[0;32m/var/folders/y0/fwkpk2ps087b_2qxvhjstrfr0000gn/T/ipykernel_7878/952558500.py\u001b[0m in \u001b[0;36m<module>\u001b[0;34m\u001b[0m\n\u001b[1;32m      2\u001b[0m \u001b[0mstate_i\u001b[0m\u001b[0;34m[\u001b[0m\u001b[0;34m\"Qi Price\"\u001b[0m\u001b[0;34m]\u001b[0m \u001b[0;34m=\u001b[0m \u001b[0;36m1\u001b[0m\u001b[0;34m\u001b[0m\u001b[0;34m\u001b[0m\u001b[0m\n\u001b[1;32m      3\u001b[0m \u001b[0mstate\u001b[0m\u001b[0;34m,\u001b[0m \u001b[0mparams\u001b[0m \u001b[0;34m=\u001b[0m \u001b[0mmsi\u001b[0m\u001b[0;34m.\u001b[0m\u001b[0mprepare_state_and_params\u001b[0m\u001b[0;34m(\u001b[0m\u001b[0mstate_i\u001b[0m\u001b[0;34m,\u001b[0m \u001b[0mparams_base\u001b[0m\u001b[0;34m,\u001b[0m \u001b[0mstate_preperation_functions\u001b[0m\u001b[0;34m=\u001b[0m\u001b[0;34m[\u001b[0m\u001b[0;34m]\u001b[0m\u001b[0;34m,\u001b[0m \u001b[0mparameter_preperation_functions\u001b[0m\u001b[0;34m=\u001b[0m\u001b[0;34m[\u001b[0m\u001b[0;34m]\u001b[0m\u001b[0;34m)\u001b[0m\u001b[0;34m\u001b[0m\u001b[0;34m\u001b[0m\u001b[0m\n\u001b[0;32m----> 4\u001b[0;31m \u001b[0mmsi\u001b[0m\u001b[0;34m.\u001b[0m\u001b[0mboundary_actions\u001b[0m\u001b[0;34m[\u001b[0m\u001b[0;34m'Mine Block Boundary Action'\u001b[0m\u001b[0;34m]\u001b[0m\u001b[0;34m(\u001b[0m\u001b[0mstate\u001b[0m\u001b[0;34m,\u001b[0m \u001b[0mparams\u001b[0m\u001b[0;34m,\u001b[0m \u001b[0;34m[\u001b[0m\u001b[0;34m]\u001b[0m\u001b[0;34m)\u001b[0m\u001b[0;34m\u001b[0m\u001b[0;34m\u001b[0m\u001b[0m\n\u001b[0m",
      "\u001b[0;32m~/Dropbox/BlockScience/Quai-Macro-Model/Spec/src/Implementations/Python/BoundaryActions/Block.py\u001b[0m in \u001b[0;36mmine_block_boundary_action_v1\u001b[0;34m(state, params, spaces)\u001b[0m\n\u001b[1;32m     45\u001b[0m     \u001b[0mspace\u001b[0m\u001b[0;34m[\u001b[0m\u001b[0;34m\"Aggregate Hashpower\"\u001b[0m\u001b[0;34m]\u001b[0m \u001b[0;34m=\u001b[0m \u001b[0mcreate_aggregate_hashpower_v1\u001b[0m\u001b[0;34m(\u001b[0m\u001b[0mstate\u001b[0m\u001b[0;34m,\u001b[0m \u001b[0mparams\u001b[0m\u001b[0;34m)\u001b[0m\u001b[0;34m\u001b[0m\u001b[0;34m\u001b[0m\u001b[0m\n\u001b[1;32m     46\u001b[0m     space[\"Blocks to Mine\"], space[\"Block Hash Cumulative Sum\"] = (\n\u001b[0;32m---> 47\u001b[0;31m         \u001b[0mcreate_block_hashes_v1\u001b[0m\u001b[0;34m(\u001b[0m\u001b[0mstate\u001b[0m\u001b[0;34m,\u001b[0m \u001b[0mparams\u001b[0m\u001b[0;34m)\u001b[0m\u001b[0;34m\u001b[0m\u001b[0;34m\u001b[0m\u001b[0m\n\u001b[0m\u001b[1;32m     48\u001b[0m     )\n\u001b[1;32m     49\u001b[0m     \u001b[0;32mreturn\u001b[0m \u001b[0;34m[\u001b[0m\u001b[0mspace\u001b[0m\u001b[0;34m]\u001b[0m\u001b[0;34m\u001b[0m\u001b[0;34m\u001b[0m\u001b[0m\n",
      "\u001b[0;32m~/Dropbox/BlockScience/Quai-Macro-Model/Spec/src/Implementations/Python/BoundaryActions/Block.py\u001b[0m in \u001b[0;36mcreate_block_hashes_v1\u001b[0;34m(state, params)\u001b[0m\n\u001b[1;32m     10\u001b[0m     region_block_hashes = [\n\u001b[1;32m     11\u001b[0m         \u001b[0mstate\u001b[0m\u001b[0;34m[\u001b[0m\u001b[0;34m\"Block Difficulty\"\u001b[0m\u001b[0;34m]\u001b[0m \u001b[0;34m*\u001b[0m \u001b[0mparams\u001b[0m\u001b[0;34m[\u001b[0m\u001b[0;34m\"Block Difficulty Multiples\"\u001b[0m\u001b[0;34m]\u001b[0m\u001b[0;34m[\u001b[0m\u001b[0;34m\"Region\"\u001b[0m\u001b[0;34m]\u001b[0m\u001b[0;34m\u001b[0m\u001b[0;34m\u001b[0m\u001b[0m\n\u001b[0;32m---> 12\u001b[0;31m     ] * state[\"Regions\"]\n\u001b[0m\u001b[1;32m     13\u001b[0m     zone_block_hashes = (\n\u001b[1;32m     14\u001b[0m         \u001b[0;34m[\u001b[0m\u001b[0mstate\u001b[0m\u001b[0;34m[\u001b[0m\u001b[0;34m\"Block Difficulty\"\u001b[0m\u001b[0;34m]\u001b[0m \u001b[0;34m*\u001b[0m \u001b[0mparams\u001b[0m\u001b[0;34m[\u001b[0m\u001b[0;34m\"Block Difficulty Multiples\"\u001b[0m\u001b[0;34m]\u001b[0m\u001b[0;34m[\u001b[0m\u001b[0;34m\"Zone\"\u001b[0m\u001b[0;34m]\u001b[0m\u001b[0;34m]\u001b[0m\u001b[0;34m\u001b[0m\u001b[0;34m\u001b[0m\u001b[0m\n",
      "\u001b[0;31mKeyError\u001b[0m: 'Regions'"
     ]
    }
   ],
   "source": [
    "\n",
    "state_i = deepcopy(state_base)\n",
    "state_i[\"Qi Price\"] = 1\n",
    "state, params = msi.prepare_state_and_params(state_i, params_base, state_preperation_functions=[], parameter_preperation_functions=[])\n",
    "msi.boundary_actions['Mine Block Boundary Action'](state, params, [])"
   ]
  },
  {
   "cell_type": "code",
   "execution_count": 3,
   "metadata": {},
   "outputs": [
    {
     "data": {
      "text/plain": [
       "[{'Aggregate Hashpower': 10000}]"
      ]
     },
     "execution_count": 3,
     "metadata": {},
     "output_type": "execute_result"
    }
   ],
   "source": [
    "\n",
    "state_i = deepcopy(state_base)\n",
    "state_i[\"Qi Price\"] = 10\n",
    "state, params = msi.prepare_state_and_params(state_i, params_base, state_preperation_functions=[], parameter_preperation_functions=[])\n",
    "msi.boundary_actions['Mine Block Boundary Action'](state, params, [])"
   ]
  },
  {
   "cell_type": "code",
   "execution_count": 4,
   "metadata": {},
   "outputs": [
    {
     "data": {
      "text/plain": [
       "[{'Aggregate Hashpower': 100000}]"
      ]
     },
     "execution_count": 4,
     "metadata": {},
     "output_type": "execute_result"
    }
   ],
   "source": [
    "\n",
    "state_i = deepcopy(state_base)\n",
    "state_i[\"Qi Price\"] = 100\n",
    "state, params = msi.prepare_state_and_params(state_i, params_base, state_preperation_functions=[], parameter_preperation_functions=[])\n",
    "msi.boundary_actions['Mine Block Boundary Action'](state, params, [])"
   ]
  },
  {
   "cell_type": "code",
   "execution_count": null,
   "metadata": {},
   "outputs": [],
   "source": []
  }
 ],
 "metadata": {
  "kernelspec": {
   "display_name": "BlockScience",
   "language": "python",
   "name": "python3"
  },
  "language_info": {
   "codemirror_mode": {
    "name": "ipython",
    "version": 3
   },
   "file_extension": ".py",
   "mimetype": "text/x-python",
   "name": "python",
   "nbconvert_exporter": "python",
   "pygments_lexer": "ipython3",
   "version": "3.9.12"
  }
 },
 "nbformat": 4,
 "nbformat_minor": 2
}
