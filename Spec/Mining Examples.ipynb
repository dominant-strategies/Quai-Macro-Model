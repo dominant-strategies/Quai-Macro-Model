{
 "cells": [
  {
   "cell_type": "code",
   "execution_count": 10,
   "metadata": {},
   "outputs": [
    {
     "name": "stdout",
     "output_type": "stream",
     "text": [
      "Placeholder has no control action options\n",
      "Controller Update Control Action has no control action options\n",
      "Conversions Boundary Action has no boundary action options\n",
      "Price Movements Boundary Action has no boundary action options\n",
      "No python implementation for Block Reward Policy / Block Reward Policy V1. To fix this, go to Implementations/Python/Policies and add Block Reward Policy V1\n",
      "No python implementation for Mining Payment Policy / Deterministic Mining Payment Policy. To fix this, go to Implementations/Python/Policies and add Deterministic Mining Payment Policy\n",
      "No python implementation for Conversions Policy / Block Reward Ratio Conversion Policy. To fix this, go to Implementations/Python/Policies and add Block Reward Ratio Conversion Policy\n",
      "Price Movements Policy has no policy options\n",
      "No python implementation for Controller Update Policy / Linear Controller Policy. To fix this, go to Implementations/Python/Policies and add Linear Controller Policy\n",
      "No python implementation for Increment Block Number Mechanism. To fix this, go to Implementations/Python/Mechanisms and add Increment Block Number Mechanism\n",
      "No python implementation for Update Historical Mined Ratio Mechanism. To fix this, go to Implementations/Python/Mechanisms and add Update Historical Mined Ratio Mechanism\n",
      "No python implementation for Update Historical Qi Hash Mechanism. To fix this, go to Implementations/Python/Mechanisms and add Update Historical Qi Hash Mechanism\n",
      "No python implementation for Update Historical Quai Hash Mechanism. To fix this, go to Implementations/Python/Mechanisms and add Update Historical Quai Hash Mechanism\n",
      "No python implementation for Update Historical Converted Qi Mechanism. To fix this, go to Implementations/Python/Mechanisms and add Update Historical Converted Qi Mechanism\n",
      "No python implementation for Update Historical Converted Quai Mechanism. To fix this, go to Implementations/Python/Mechanisms and add Update Historical Converted Quai Mechanism\n",
      "No python implementation for Log Simulation Data Mechanism. To fix this, go to Implementations/Python/Mechanisms and add Log Simulation Data Mechanism\n",
      "No python implementation for Mint Qi Tokens Mechanism. To fix this, go to Implementations/Python/Mechanisms and add Mint Qi Tokens Mechanism\n",
      "No python implementation for Mint Quai Tokens Mechanism. To fix this, go to Implementations/Python/Mechanisms and add Mint Quai Tokens Mechanism\n",
      "No python implementation for Burn Qi Tokens Mechanism. To fix this, go to Implementations/Python/Mechanisms and add Burn Qi Tokens Mechanism\n",
      "No python implementation for Burn Quai Tokens Mechanism. To fix this, go to Implementations/Python/Mechanisms and add Burn Quai Tokens Mechanism\n",
      "No python implementation for Update Prices Mechanism. To fix this, go to Implementations/Python/Mechanisms and add Update Prices Mechanism\n",
      "No python implementation for Set K Mechanism. To fix this, go to Implementations/Python/Mechanisms and add Set K Mechanism\n",
      "No python implementation for Current Quai Block Reward Stateful Metric. To fix this, go to Implementations/Python/StatefulMetrics and add Current Quai Block Reward Stateful Metric\n",
      "No python implementation for Current Qi Block Reward Stateful Metric. To fix this, go to Implementations/Python/StatefulMetrics and add Current Qi Block Reward Stateful Metric\n",
      "The following wirings were not loading: ['Mining Mechanisms', 'Controller Update Wiring', 'Price Movements Wiring', 'Conversions Mechanisms Wiring', 'Mine Block Wiring', 'Conversions Wiring', 'Simulation Wiring']\n"
     ]
    }
   ],
   "source": [
    "import os \n",
    "os.chdir(\"../..\")\n",
    "from MSML.src.math_spec_mapping import (load_from_json, create_action_chains_graph, write_out_boundary_actions,\n",
    "                      write_out_policies, write_out_mechanisms, load_svg_graphviz, write_basic_report_full,\n",
    "                      write_action_chain_reports, write_spec_tree, create_parameter_impact_table,\n",
    "                     write_entity_reports, write_wiring_report, write_entity_markdown_report,\n",
    "                     write_all_markdown_reports)\n",
    "os.chdir(\"Quai-Macro-Model/Spec\")\n",
    "\n",
    "from IPython.display import display, display_html\n",
    "from copy import deepcopy\n",
    "from src import math_spec_json\n",
    "import numpy as np\n",
    "\n",
    "ms = load_from_json(deepcopy(math_spec_json))\n",
    "\n",
    "state_base = {'Qi Supply': None,\n",
    " 'Quai Supply': None,\n",
    " 'Block Number': None,\n",
    " 'Block Difficulty': 6000,\n",
    " \"Number of Regions\":2,\n",
    "\"Zones per Region\":2,\n",
    " 'Current Hash Difference': None,\n",
    " 'Historical Converted Qi': None,\n",
    " 'Historical Converted Quai': None,\n",
    " 'Historical Mined Ratio': None,\n",
    " 'Historical Qi Hash': None,\n",
    " 'Historical Quai Hash': None,\n",
    " 'K Qi': None,\n",
    " 'K Quai': None,\n",
    " 'Quai Price': None,\n",
    " 'Qi Price': 1,\n",
    " 'Simulation History Log': None,\n",
    " 'Dummy': None}\n",
    "params_base = {'Minimum Quai Conversion Amount': None,\n",
    " 'Minimum Qi Conversion Amount': None,\n",
    " 'Asset Return Parameterization': None,\n",
    " 'PID Parameterization': None,\n",
    " 'Initial Block Difficulty': None,\n",
    " \"FP Controller Update Policy\": 'Linear Controller Policy',\n",
    " \"Block Difficulty Multiples\": {\"Prime\": 1,\n",
    "                                         \"Region\": .5,\n",
    "                                         \"Zone\": .25},\n",
    "'Target Mining Time': 2}\n",
    "msi = ms.build_implementation(params_base)"
   ]
  },
  {
   "cell_type": "markdown",
   "metadata": {},
   "source": [
    "# Hashpower Comparisons\n",
    "\n",
    "The current dummy model multiplies the Qi price by 1000. We display a low, medium and high scenario below to illustrate when hashpower is not enough, just right and too high and how difficulty adjusts as well as what the spaces look like.\n",
    "\n",
    "The target mining time is set to 2 seconds."
   ]
  },
  {
   "cell_type": "markdown",
   "metadata": {},
   "source": [
    "## Low Hashpower"
   ]
  },
  {
   "cell_type": "code",
   "execution_count": 13,
   "metadata": {},
   "outputs": [
    {
     "name": "stdout",
     "output_type": "stream",
     "text": [
      "[{'Aggregate Hashpower': 5000, 'Blocks to Mine': [{'Difficulty': 1638, 'Block Type': 'Zone'}, {'Difficulty': 1530, 'Block Type': 'Zone'}, {'Difficulty': 3150, 'Block Type': 'Region'}, {'Difficulty': 1678, 'Block Type': 'Zone'}, {'Difficulty': 1647, 'Block Type': 'Zone'}, {'Difficulty': 2857, 'Block Type': 'Region'}, {'Difficulty': 6292, 'Block Type': 'Prime'}], 'Block Hash Cumulative Sum': array([ 1638,  3168,  6318,  7996,  9643, 12500, 18792])}]\n",
      "\n",
      "[[{'Difficulty': 1638, 'Block Type': 'Zone'}, {'Difficulty': 1530, 'Block Type': 'Zone'}, {'Difficulty': 3150, 'Block Type': 'Region'}, {'Difficulty': 1678, 'Block Type': 'Zone'}, {'Difficulty': 1647, 'Block Type': 'Zone'}], [{'Difficulty': 2714, 'Block Type': 'Region'}, {'Difficulty': 5977, 'Block Type': 'Prime'}]] [2, 1.7382] 5700.0\n",
      "None\n",
      "\n"
     ]
    }
   ],
   "source": [
    "np.random.seed(0)\n",
    "state_i = deepcopy(state_base)\n",
    "state_i[\"Qi Price\"] = 5\n",
    "state, params = msi.prepare_state_and_params(state_i, params_base, state_preperation_functions=[], parameter_preperation_functions=[])\n",
    "spaces = msi.boundary_actions['Mine Block Boundary Action'](state, params, [])\n",
    "print(spaces)\n",
    "print()\n",
    "spaces = msi.policies[\"Mining Policy\"](state, params, spaces)\n",
    "print(spaces)\n",
    "print()"
   ]
  },
  {
   "cell_type": "markdown",
   "metadata": {},
   "source": [
    "## Medium Hashpower"
   ]
  },
  {
   "cell_type": "code",
   "execution_count": 14,
   "metadata": {},
   "outputs": [
    {
     "name": "stdout",
     "output_type": "stream",
     "text": [
      "[{'Aggregate Hashpower': 10000, 'Blocks to Mine': [{'Difficulty': 1638, 'Block Type': 'Zone'}, {'Difficulty': 1530, 'Block Type': 'Zone'}, {'Difficulty': 3150, 'Block Type': 'Region'}, {'Difficulty': 1678, 'Block Type': 'Zone'}, {'Difficulty': 1647, 'Block Type': 'Zone'}, {'Difficulty': 2857, 'Block Type': 'Region'}, {'Difficulty': 6292, 'Block Type': 'Prime'}], 'Block Hash Cumulative Sum': array([ 1638,  3168,  6318,  7996,  9643, 12500, 18792])}]\n",
      "\n",
      "[[{'Difficulty': 1638, 'Block Type': 'Zone'}, {'Difficulty': 1530, 'Block Type': 'Zone'}, {'Difficulty': 3150, 'Block Type': 'Region'}, {'Difficulty': 1678, 'Block Type': 'Zone'}, {'Difficulty': 1647, 'Block Type': 'Zone'}, {'Difficulty': 2857, 'Block Type': 'Region'}, {'Difficulty': 6292, 'Block Type': 'Prime'}]] [1.8792] 6000\n",
      "None\n",
      "\n"
     ]
    }
   ],
   "source": [
    "np.random.seed(0)\n",
    "state_i = deepcopy(state_base)\n",
    "state_i[\"Qi Price\"] = 10\n",
    "state, params = msi.prepare_state_and_params(state_i, params_base, state_preperation_functions=[], parameter_preperation_functions=[])\n",
    "spaces = msi.boundary_actions['Mine Block Boundary Action'](state, params, [])\n",
    "print(spaces)\n",
    "print()\n",
    "spaces = msi.policies[\"Mining Policy\"](state, params, spaces)\n",
    "print(spaces)\n",
    "print()"
   ]
  },
  {
   "cell_type": "markdown",
   "metadata": {},
   "source": [
    "## High Hashpower"
   ]
  },
  {
   "cell_type": "code",
   "execution_count": 15,
   "metadata": {},
   "outputs": [
    {
     "name": "stdout",
     "output_type": "stream",
     "text": [
      "[{'Aggregate Hashpower': 100000, 'Blocks to Mine': [{'Difficulty': 1638, 'Block Type': 'Zone'}, {'Difficulty': 1530, 'Block Type': 'Zone'}, {'Difficulty': 3150, 'Block Type': 'Region'}, {'Difficulty': 1678, 'Block Type': 'Zone'}, {'Difficulty': 1647, 'Block Type': 'Zone'}, {'Difficulty': 2857, 'Block Type': 'Region'}, {'Difficulty': 6292, 'Block Type': 'Prime'}], 'Block Hash Cumulative Sum': array([ 1638,  3168,  6318,  7996,  9643, 12500, 18792])}]\n",
      "\n",
      "[[{'Difficulty': 1638, 'Block Type': 'Zone'}, {'Difficulty': 1530, 'Block Type': 'Zone'}, {'Difficulty': 3150, 'Block Type': 'Region'}, {'Difficulty': 1678, 'Block Type': 'Zone'}, {'Difficulty': 1647, 'Block Type': 'Zone'}, {'Difficulty': 2857, 'Block Type': 'Region'}, {'Difficulty': 6292, 'Block Type': 'Prime'}]] [0.18792] 6300.0\n",
      "None\n",
      "\n"
     ]
    }
   ],
   "source": [
    "np.random.seed(0)\n",
    "state_i = deepcopy(state_base)\n",
    "state_i[\"Qi Price\"] = 100\n",
    "state, params = msi.prepare_state_and_params(state_i, params_base, state_preperation_functions=[], parameter_preperation_functions=[])\n",
    "spaces = msi.boundary_actions['Mine Block Boundary Action'](state, params, [])\n",
    "print(spaces)\n",
    "print()\n",
    "spaces = msi.policies[\"Mining Policy\"](state, params, spaces)\n",
    "print(spaces)\n",
    "print()"
   ]
  },
  {
   "cell_type": "code",
   "execution_count": null,
   "metadata": {},
   "outputs": [],
   "source": []
  }
 ],
 "metadata": {
  "kernelspec": {
   "display_name": "BlockScience",
   "language": "python",
   "name": "python3"
  },
  "language_info": {
   "codemirror_mode": {
    "name": "ipython",
    "version": 3
   },
   "file_extension": ".py",
   "mimetype": "text/x-python",
   "name": "python",
   "nbconvert_exporter": "python",
   "pygments_lexer": "ipython3",
   "version": "3.9.12"
  }
 },
 "nbformat": 4,
 "nbformat_minor": 2
}
