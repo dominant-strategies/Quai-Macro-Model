{
 "cells": [
  {
   "cell_type": "code",
   "execution_count": 1,
   "metadata": {},
   "outputs": [],
   "source": [
    "import os \n",
    "os.chdir(\"../..\")\n",
    "from MSML.src.math_spec_mapping import (load_from_json, create_action_chains_graph, write_out_boundary_actions,\n",
    "                      write_out_policies, write_out_mechanisms, load_svg_graphviz, write_basic_report_full,\n",
    "                      write_action_chain_reports, write_spec_tree, create_parameter_impact_table,\n",
    "                     write_entity_reports, write_wiring_report, write_entity_markdown_report,\n",
    "                     write_all_markdown_reports)\n",
    "os.chdir(\"Quai-Macro-Model/Spec\")\n",
    "\n",
    "from simulation import state_base, params_base, vesting_schedule_translate\n",
    "\n",
    "from IPython.display import display\n",
    "from copy import deepcopy\n",
    "from src import math_spec_json\n",
    "import numpy as np\n",
    "from pprint import pprint\n",
    "\n",
    "ms = load_from_json(deepcopy(math_spec_json))"
   ]
  },
  {
   "cell_type": "code",
   "execution_count": 5,
   "metadata": {},
   "outputs": [
    {
     "name": "stdout",
     "output_type": "stream",
     "text": [
      "Placeholder has no control action options\n",
      "Controller Update Control Action has no control action options\n",
      "No python implementation for Controller Update Policy / Linear Controller Policy. To fix this, go to Implementations/Python/Policies and add Linear Controller Policy\n",
      "Unlock Tokens Policy has no policy options\n",
      "No python implementation for Increment Block Number Mechanism. To fix this, go to Implementations/Python/Mechanisms and add Increment Block Number Mechanism\n",
      "No python implementation for Update Historical Mined Ratio Mechanism. To fix this, go to Implementations/Python/Mechanisms and add Update Historical Mined Ratio Mechanism\n",
      "No python implementation for Update Historical Qi Hash Mechanism. To fix this, go to Implementations/Python/Mechanisms and add Update Historical Qi Hash Mechanism\n",
      "No python implementation for Update Historical Quai Hash Mechanism. To fix this, go to Implementations/Python/Mechanisms and add Update Historical Quai Hash Mechanism\n",
      "No python implementation for Log Simulation Data Mechanism. To fix this, go to Implementations/Python/Mechanisms and add Log Simulation Data Mechanism\n",
      "No python implementation for Set K Mechanism. To fix this, go to Implementations/Python/Mechanisms and add Set K Mechanism\n",
      "No python implementation for Unlock Tokens Mechanism. To fix this, go to Implementations/Python/Mechanisms and add Unlock Tokens Mechanism\n",
      "No python implementation for Conversion Rate Metric. To fix this, go to Implementations/Python/Metrics and add Conversion Rate Metric\n",
      "The following wirings were not loading: ['Mining Mechanisms', 'Controller Update Wiring', 'Unlock Tokens Wiring', 'Mine Block Wiring', 'Simulation Wiring']\n"
     ]
    }
   ],
   "source": [
    "msi = ms.build_implementation(params_base)\n",
    "state, params = msi.prepare_state_and_params(state_base, params_base,\n",
    "                                             state_preperation_functions=[vesting_schedule_translate],\n",
    "                                             parameter_preperation_functions=[])\n",
    "\n",
    "spaces = []\n",
    "spaces = msi.blocks[\"Unlock Tokens Control Action\"](state, params, spaces)"
   ]
  },
  {
   "cell_type": "code",
   "execution_count": 3,
   "metadata": {},
   "outputs": [
    {
     "data": {
      "text/plain": [
       "{'Mine Block Boundary Action': <function src.Implementations.Python.BoundaryActions.Block.mine_block_boundary_action_v1(state, params, spaces)>,\n",
       " 'Conversions Boundary Action': <function src.Implementations.Python.BoundaryActions.Conversions.test_quai_conversion(state, params, spaces)>,\n",
       " 'Price Movements Boundary Action': <function src.Implementations.Python.BoundaryActions.Market.test_price_movements_boundary(state, params, spaces)>,\n",
       " 'Unlock Tokens Control Action': <function src.Implementations.Python.ControlActions.Vesting.v1_unlock_tokens_control_action(state, params, spaces)>,\n",
       " 'Block Reward Policy': <function src.Implementations.Python.Policies.Block.block_reward_policy_v1(state, params, spaces)>,\n",
       " 'Mining Payment Policy': <function src.Implementations.Python.Policies.Block.deterministic_mining_payment_policy(state, params, spaces)>,\n",
       " 'Mining Policy': <function src.Implementations.Python.Policies.Block.mining_policy_v1(state, params, spaces)>,\n",
       " 'Conversions Policy': <function src.Implementations.Python.Policies.Market.block_reward_ratio_conversion_policy(state, params, spaces)>,\n",
       " 'Price Movements Policy': <function src.Implementations.Python.Policies.Market.price_movements_policy_v1(state, params, spaces)>,\n",
       " 'Update Historical Converted Qi Mechanism': <function src.Implementations.Python.Mechanisms.Logs.update_historical_converted_qi_mechanism(state, params, spaces)>,\n",
       " 'Update Historical Converted Quai Mechanism': <function src.Implementations.Python.Mechanisms.Logs.update_historical_converted_quai_mechanism(state, params, spaces)>,\n",
       " 'Mint Qi Tokens Mechanism': <function src.Implementations.Python.Mechanisms.MonetaryPolicy.mint_qi_tokens_mechanism(state, params, spaces)>,\n",
       " 'Mint Quai Tokens Mechanism': <function src.Implementations.Python.Mechanisms.MonetaryPolicy.mint_quai_token_mechanism(state, params, spaces)>,\n",
       " 'Burn Qi Tokens Mechanism': <function src.Implementations.Python.Mechanisms.MonetaryPolicy.burn_qi_tokens_mechanism(state, params, spaces)>,\n",
       " 'Burn Quai Tokens Mechanism': <function src.Implementations.Python.Mechanisms.MonetaryPolicy.burn_quai_tokens_mechanism(state, params, spaces)>,\n",
       " 'Update Prices Mechanism': <function src.Implementations.Python.Mechanisms.MonetaryPolicy.update_prices_mechanism(state, params, spaces)>,\n",
       " 'Price Movements Wiring': <function MSML.src.math_spec_mapping.Classes.MathSpec.MathSpecImplementation.load_single_wiring.<locals>.wiring(state, params, spaces)>,\n",
       " 'Conversions Mechanisms Wiring': <function MSML.src.math_spec_mapping.Classes.MathSpec.MathSpecImplementation.load_single_wiring.<locals>.wiring(state, params, spaces)>,\n",
       " 'Conversions Wiring': <function MSML.src.math_spec_mapping.Classes.MathSpec.MathSpecImplementation.load_single_wiring.<locals>.wiring(state, params, spaces)>}"
      ]
     },
     "execution_count": 3,
     "metadata": {},
     "output_type": "execute_result"
    }
   ],
   "source": []
  },
  {
   "cell_type": "code",
   "execution_count": null,
   "metadata": {},
   "outputs": [],
   "source": []
  }
 ],
 "metadata": {
  "kernelspec": {
   "display_name": "BlockScience",
   "language": "python",
   "name": "python3"
  },
  "language_info": {
   "codemirror_mode": {
    "name": "ipython",
    "version": 3
   },
   "file_extension": ".py",
   "mimetype": "text/x-python",
   "name": "python",
   "nbconvert_exporter": "python",
   "pygments_lexer": "ipython3",
   "version": "3.9.12"
  }
 },
 "nbformat": 4,
 "nbformat_minor": 2
}
