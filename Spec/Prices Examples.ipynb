{
 "cells": [
  {
   "cell_type": "code",
   "execution_count": 1,
   "metadata": {},
   "outputs": [
    {
     "name": "stdout",
     "output_type": "stream",
     "text": [
      "Placeholder has no control action options\n",
      "Controller Update Control Action has no control action options\n",
      "No python implementation for Controller Update Policy / Linear Controller Policy. To fix this, go to Implementations/Python/Policies and add Linear Controller Policy\n",
      "No python implementation for Increment Block Number Mechanism. To fix this, go to Implementations/Python/Mechanisms and add Increment Block Number Mechanism\n",
      "No python implementation for Update Historical Mined Ratio Mechanism. To fix this, go to Implementations/Python/Mechanisms and add Update Historical Mined Ratio Mechanism\n",
      "No python implementation for Update Historical Qi Hash Mechanism. To fix this, go to Implementations/Python/Mechanisms and add Update Historical Qi Hash Mechanism\n",
      "No python implementation for Update Historical Quai Hash Mechanism. To fix this, go to Implementations/Python/Mechanisms and add Update Historical Quai Hash Mechanism\n",
      "No python implementation for Log Simulation Data Mechanism. To fix this, go to Implementations/Python/Mechanisms and add Log Simulation Data Mechanism\n",
      "No python implementation for Set K Mechanism. To fix this, go to Implementations/Python/Mechanisms and add Set K Mechanism\n",
      "No python implementation for Conversion Rate Metric. To fix this, go to Implementations/Python/Metrics and add Conversion Rate Metric\n",
      "The following wirings were not loading: ['Mining Mechanisms', 'Controller Update Wiring', 'Mine Block Wiring', 'Simulation Wiring']\n"
     ]
    }
   ],
   "source": [
    "import os \n",
    "os.chdir(\"../..\")\n",
    "from MSML.src.math_spec_mapping import (load_from_json, create_action_chains_graph, write_out_boundary_actions,\n",
    "                      write_out_policies, write_out_mechanisms, load_svg_graphviz, write_basic_report_full,\n",
    "                      write_action_chain_reports, write_spec_tree, create_parameter_impact_table,\n",
    "                     write_entity_reports, write_wiring_report, write_entity_markdown_report,\n",
    "                     write_all_markdown_reports)\n",
    "os.chdir(\"Quai-Macro-Model/Spec\")\n",
    "\n",
    "from IPython.display import display, display_html\n",
    "from copy import deepcopy\n",
    "from src import math_spec_json\n",
    "import numpy as np\n",
    "from pprint import pprint\n",
    "from simulation import state_base, params_base\n",
    "\n",
    "ms = load_from_json(deepcopy(math_spec_json))\n",
    "\n",
    "msi = ms.build_implementation(params_base)"
   ]
  },
  {
   "cell_type": "code",
   "execution_count": 5,
   "metadata": {},
   "outputs": [
    {
     "name": "stdout",
     "output_type": "stream",
     "text": [
      "[{'Qi Return': 0.05, 'Quai Return': 0.1}]\n",
      "\n",
      "\n",
      "\n",
      "[{'Qi Price': 1.05, 'Quai Price': 1.1}]\n",
      "\n",
      "\n",
      "\n",
      "{'Block Difficulty': 6000,\n",
      " 'Block Number': None,\n",
      " 'Dummy': None,\n",
      " 'Historical Converted Qi': [],\n",
      " 'Historical Converted Quai': [],\n",
      " 'Historical Mined Ratio': None,\n",
      " 'Historical Qi Hash': None,\n",
      " 'Historical Quai Hash': None,\n",
      " 'K Qi': 1,\n",
      " 'K Quai': 1,\n",
      " 'Metrics': {'Current Block Reward Ratio Metric': <function current_block_reward_ratio_metric at 0x7f8b684ec0d0>,\n",
      "             'Hash to Qi Metric': <function hash_to_qi_metric at 0x7f8b684e0ee0>,\n",
      "             'Hash to Quai Metric': <function hash_to_quai_metric at 0x7f8b684e0f70>,\n",
      "             'Qi to Hash Metric': <function qi_to_hash_metric at 0x7f8b684e0dc0>,\n",
      "             'Quai to Hash Metric': <function quai_to_hash_metric at 0x7f8b684e0e50>},\n",
      " 'Number of Regions': 2,\n",
      " 'Qi Price': 1.05,\n",
      " 'Qi Supply': 10000,\n",
      " 'Quai Price': 1.1,\n",
      " 'Quai Supply': 10000,\n",
      " 'Simulation History Log': None,\n",
      " 'Stateful Metrics': {},\n",
      " 'Time': None,\n",
      " 'Zones per Region': 2}\n"
     ]
    }
   ],
   "source": [
    "state, params = msi.prepare_state_and_params(state_base, params_base, state_preperation_functions=[], parameter_preperation_functions=[])\n",
    "spaces = msi.boundary_actions['Price Movements Boundary Action'](state, params, [])\n",
    "pprint(spaces)\n",
    "print()\n",
    "print()\n",
    "print()\n",
    "spaces = msi.policies['Price Movements Policy'](state, params, spaces)\n",
    "pprint(spaces)\n",
    "print()\n",
    "print()\n",
    "print()\n",
    "spaces = msi.mechanisms['Update Prices Mechanism'](state, params, spaces)\n",
    "pprint(state)"
   ]
  },
  {
   "cell_type": "code",
   "execution_count": null,
   "metadata": {},
   "outputs": [],
   "source": []
  }
 ],
 "metadata": {
  "kernelspec": {
   "display_name": "BlockScience",
   "language": "python",
   "name": "python3"
  },
  "language_info": {
   "codemirror_mode": {
    "name": "ipython",
    "version": 3
   },
   "file_extension": ".py",
   "mimetype": "text/x-python",
   "name": "python",
   "nbconvert_exporter": "python",
   "pygments_lexer": "ipython3",
   "version": "3.9.12"
  }
 },
 "nbformat": 4,
 "nbformat_minor": 2
}
