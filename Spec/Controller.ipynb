{
 "cells": [
  {
   "cell_type": "code",
   "execution_count": 1,
   "metadata": {},
   "outputs": [
    {
     "name": "stdout",
     "output_type": "stream",
     "text": [
      "Placeholder has no control action options\n",
      "Mezzanine Wiring Passthrough has no policy options\n",
      "No python implementation for Increment Block Number Mechanism. To fix this, go to Implementations/Python/Mechanisms and add Increment Block Number Mechanism\n",
      "No python implementation for Update Historical Mined Ratio Mechanism. To fix this, go to Implementations/Python/Mechanisms and add Update Historical Mined Ratio Mechanism\n",
      "No python implementation for Update Historical Qi Hash Mechanism. To fix this, go to Implementations/Python/Mechanisms and add Update Historical Qi Hash Mechanism\n",
      "No python implementation for Update Historical Quai Hash Mechanism. To fix this, go to Implementations/Python/Mechanisms and add Update Historical Quai Hash Mechanism\n",
      "No python implementation for Log Simulation Data Mechanism. To fix this, go to Implementations/Python/Mechanisms and add Log Simulation Data Mechanism\n",
      "No python implementation for Set K Mechanism. To fix this, go to Implementations/Python/Mechanisms and add Set K Mechanism\n",
      "No python implementation for Set Estimated Beta Vector Mechanism. To fix this, go to Implementations/Python/Mechanisms and add Set Estimated Beta Vector Mechanism\n",
      "The following wirings were not loading: ['Mining Mechanisms', 'Controller Mechanisms', 'Controller Update Wiring', 'Mezzanine Mining Wiring', 'Mine Block Wiring', 'Simulation Wiring']\n"
     ]
    }
   ],
   "source": [
    "import os \n",
    "os.chdir(\"../..\")\n",
    "from MSML.src.math_spec_mapping import (load_from_json, create_action_chains_graph, write_out_boundary_actions,\n",
    "                      write_out_policies, write_out_mechanisms, load_svg_graphviz, write_basic_report_full,\n",
    "                      write_action_chain_reports, write_spec_tree, create_parameter_impact_table,\n",
    "                     write_entity_reports, write_wiring_report, write_entity_markdown_report,\n",
    "                     write_all_markdown_reports)\n",
    "os.chdir(\"Quai-Macro-Model/Spec\")\n",
    "\n",
    "from IPython.display import display, display_html\n",
    "from copy import deepcopy\n",
    "from src import math_spec_json\n",
    "import numpy as np\n",
    "from pprint import pprint\n",
    "from simulation import state_base, params_base, vesting_schedule_translate, build_logistic_classifier\n",
    "\n",
    "ms = load_from_json(deepcopy(math_spec_json))\n",
    "msi = ms.build_implementation(params_base)"
   ]
  },
  {
   "cell_type": "code",
   "execution_count": 2,
   "metadata": {},
   "outputs": [
    {
     "name": "stdout",
     "output_type": "stream",
     "text": [
      "[{'Block Difficulty': [6000,\n",
      "                       6000,\n",
      "                       6000,\n",
      "                       6000,\n",
      "                       6000,\n",
      "                       6000,\n",
      "                       6000,\n",
      "                       6000,\n",
      "                       6000,\n",
      "                       6000,\n",
      "                       6000,\n",
      "                       6000,\n",
      "                       6000,\n",
      "                       6000,\n",
      "                       6000,\n",
      "                       6000],\n",
      "  'Mining Time': 96.0,\n",
      "  'New Difficulty': 6000,\n",
      "  'Qi Reward Offered': [6000,\n",
      "                        6000,\n",
      "                        6000,\n",
      "                        6000,\n",
      "                        6000,\n",
      "                        6000,\n",
      "                        6000,\n",
      "                        6000,\n",
      "                        6000,\n",
      "                        6000,\n",
      "                        6000,\n",
      "                        6000,\n",
      "                        6000,\n",
      "                        6000,\n",
      "                        6000,\n",
      "                        6000],\n",
      "  'Qi Taken': [6000, 0, 0, 6000, 6000, 0, 0, 0, 0, 0, 0, 6000, 0, 6000, 0, 0],\n",
      "  'Quai Reward Offered': [6275.373392691621,\n",
      "                          6275.373392691621,\n",
      "                          6275.373392691621,\n",
      "                          6275.373392691621,\n",
      "                          6275.373392691621,\n",
      "                          6275.373392691621,\n",
      "                          6275.373392691621,\n",
      "                          6275.373392691621,\n",
      "                          6275.373392691621,\n",
      "                          6275.373392691621,\n",
      "                          6275.373392691621,\n",
      "                          6275.373392691621,\n",
      "                          6275.373392691621,\n",
      "                          6275.373392691621,\n",
      "                          6275.373392691621,\n",
      "                          6275.373392691621],\n",
      "  'Quai Taken': [0,\n",
      "                 6275.373392691621,\n",
      "                 6275.373392691621,\n",
      "                 0,\n",
      "                 0,\n",
      "                 6275.373392691621,\n",
      "                 6275.373392691621,\n",
      "                 6275.373392691621,\n",
      "                 6275.373392691621,\n",
      "                 6275.373392691621,\n",
      "                 6275.373392691621,\n",
      "                 0,\n",
      "                 6275.373392691621,\n",
      "                 0,\n",
      "                 6275.373392691621,\n",
      "                 6275.373392691621]},\n",
      " {'Beta': array([   4.92610837, 2354.97144128])}]\n",
      "\n",
      "\n",
      "\n",
      "None\n",
      "\n",
      "\n",
      "\n"
     ]
    },
    {
     "name": "stderr",
     "output_type": "stream",
     "text": [
      "/Users/seanmcowen/opt/anaconda3/envs/BlockScience/lib/python3.9/site-packages/sklearn/linear_model/_stochastic_gradient.py:173: FutureWarning: The loss 'log' was deprecated in v1.1 and will be removed in version 1.3. Use `loss='log_loss'` which is equivalent.\n",
      "  warnings.warn(\n"
     ]
    },
    {
     "ename": "KeyError",
     "evalue": "'Controller Mechanisms'",
     "output_type": "error",
     "traceback": [
      "\u001b[0;31m---------------------------------------------------------------------------\u001b[0m",
      "\u001b[0;31mKeyError\u001b[0m                                  Traceback (most recent call last)",
      "\u001b[0;32m/var/folders/y0/fwkpk2ps087b_2qxvhjstrfr0000gn/T/ipykernel_92004/4220268695.py\u001b[0m in \u001b[0;36m<module>\u001b[0;34m\u001b[0m\n\u001b[1;32m     83\u001b[0m \u001b[0;34m\u001b[0m\u001b[0m\n\u001b[1;32m     84\u001b[0m \u001b[0;34m\u001b[0m\u001b[0m\n\u001b[0;32m---> 85\u001b[0;31m \u001b[0mspaces\u001b[0m \u001b[0;34m=\u001b[0m \u001b[0mmsi\u001b[0m\u001b[0;34m.\u001b[0m\u001b[0mpolicies\u001b[0m\u001b[0;34m[\u001b[0m\u001b[0;34m\"Controller Mechanisms\"\u001b[0m\u001b[0;34m]\u001b[0m\u001b[0;34m(\u001b[0m\u001b[0mstate\u001b[0m\u001b[0;34m,\u001b[0m \u001b[0mparams\u001b[0m\u001b[0;34m,\u001b[0m \u001b[0mspaces\u001b[0m\u001b[0;34m)\u001b[0m\u001b[0;34m\u001b[0m\u001b[0;34m\u001b[0m\u001b[0m\n\u001b[0m",
      "\u001b[0;31mKeyError\u001b[0m: 'Controller Mechanisms'"
     ]
    }
   ],
   "source": [
    "spaces = [{'Block Difficulty': [6000,\n",
    "                       6000,\n",
    "                       6000,\n",
    "                       6000,\n",
    "                       6000,\n",
    "                       6000,\n",
    "                       6000,\n",
    "                       6000,\n",
    "                       6000,\n",
    "                       6000,\n",
    "                       6000,\n",
    "                       6000,\n",
    "                       6000,\n",
    "                       6000,\n",
    "                       6000,\n",
    "                       6000],\n",
    "  'Mining Time': 96.0,\n",
    "  'New Difficulty': 6000,\n",
    "  'Qi Reward Offered': [6000,\n",
    "                        6000,\n",
    "                        6000,\n",
    "                        6000,\n",
    "                        6000,\n",
    "                        6000,\n",
    "                        6000,\n",
    "                        6000,\n",
    "                        6000,\n",
    "                        6000,\n",
    "                        6000,\n",
    "                        6000,\n",
    "                        6000,\n",
    "                        6000,\n",
    "                        6000,\n",
    "                        6000],\n",
    "  'Qi Taken': [6000, 0, 0, 6000, 6000, 0, 0, 0, 0, 0, 0, 6000, 0, 6000, 0, 0],\n",
    "  'Quai Reward Offered': [6275.373392691621,\n",
    "                          6275.373392691621,\n",
    "                          6275.373392691621,\n",
    "                          6275.373392691621,\n",
    "                          6275.373392691621,\n",
    "                          6275.373392691621,\n",
    "                          6275.373392691621,\n",
    "                          6275.373392691621,\n",
    "                          6275.373392691621,\n",
    "                          6275.373392691621,\n",
    "                          6275.373392691621,\n",
    "                          6275.373392691621,\n",
    "                          6275.373392691621,\n",
    "                          6275.373392691621,\n",
    "                          6275.373392691621,\n",
    "                          6275.373392691621],\n",
    "  'Quai Taken': [0,\n",
    "                 6275.373392691621,\n",
    "                 6275.373392691621,\n",
    "                 0,\n",
    "                 0,\n",
    "                 6275.373392691621,\n",
    "                 6275.373392691621,\n",
    "                 6275.373392691621,\n",
    "                 6275.373392691621,\n",
    "                 6275.373392691621,\n",
    "                 6275.373392691621,\n",
    "                 0,\n",
    "                 6275.373392691621,\n",
    "                 0,\n",
    "                 6275.373392691621,\n",
    "                 6275.373392691621]}]\n",
    "\n",
    "state, params = msi.prepare_state_and_params(state_base, params_base, state_preperation_functions=[vesting_schedule_translate,\n",
    "                                                                                                   build_logistic_classifier], parameter_preperation_functions=[])\n",
    "\n",
    "\n",
    "spaces = msi.policies[\"Beta Estimation Policy\"](state, params, spaces)\n",
    "pprint(spaces)\n",
    "print()\n",
    "print()\n",
    "print()\n",
    "spaces = msi.policies[\"Controller Update Policy\"](state, params, spaces)\n",
    "pprint(spaces)\n",
    "print()\n",
    "print()\n",
    "print()\n",
    "\n",
    "\n",
    "spaces = msi.policies[\"Controller Mechanisms\"](state, params, spaces)\n"
   ]
  },
  {
   "cell_type": "code",
   "execution_count": null,
   "metadata": {},
   "outputs": [],
   "source": [
    "from math import log\n",
    "D = spaces[0][\"Block Difficulty\"]\n",
    "D = sum(D) / len(D)\n",
    "d1 = D\n",
    "d2 = log(D, params[\"Quai Reward Base Parameter\"])\n",
    "x_d = d1 / d2\n",
    "x_b_star = - spaces[1][0] / spaces[1][1]"
   ]
  },
  {
   "cell_type": "code",
   "execution_count": null,
   "metadata": {},
   "outputs": [
    {
     "data": {
      "text/plain": [
       "{'Beta': array([   4.92610837, 2354.97144128])}"
      ]
     },
     "execution_count": 9,
     "metadata": {},
     "output_type": "execute_result"
    }
   ],
   "source": [
    "\n"
   ]
  },
  {
   "cell_type": "code",
   "execution_count": null,
   "metadata": {},
   "outputs": [
    {
     "data": {
      "text/plain": [
       "array([   4.92610837, 2354.97144128])"
      ]
     },
     "execution_count": 10,
     "metadata": {},
     "output_type": "execute_result"
    }
   ],
   "source": []
  },
  {
   "cell_type": "code",
   "execution_count": null,
   "metadata": {},
   "outputs": [
    {
     "name": "stdout",
     "output_type": "stream",
     "text": [
      "[[ -6.03631717   0.61074537  -1.39254012  -1.5925957   -5.43038662\n",
      "    6.70522256   6.09257348  39.6235022    6.25643702   7.15623407\n",
      "    0.08124231  -5.27523777   5.70313904  -4.80241893   2.41944732\n",
      "   -7.03703583  -4.82045847 -27.44253048 -15.35393359  -1.51108474]]\n"
     ]
    },
    {
     "name": "stderr",
     "output_type": "stream",
     "text": [
      "/Users/seanmcowen/opt/anaconda3/envs/BlockScience/lib/python3.9/site-packages/sklearn/linear_model/_stochastic_gradient.py:173: FutureWarning: The loss 'log' was deprecated in v1.1 and will be removed in version 1.3. Use `loss='log_loss'` which is equivalent.\n",
      "  warnings.warn(\n",
      "/Users/seanmcowen/opt/anaconda3/envs/BlockScience/lib/python3.9/site-packages/sklearn/linear_model/_stochastic_gradient.py:173: FutureWarning: The loss 'log' was deprecated in v1.1 and will be removed in version 1.3. Use `loss='log_loss'` which is equivalent.\n",
      "  warnings.warn(\n"
     ]
    }
   ],
   "source": [
    "import numpy as np \n",
    "from sklearn.linear_model import SGDClassifier \n",
    "from sklearn.datasets import make_classification\n",
    "\n",
    "X1, y1 = make_classification(n_samples=1000, n_features=20, random_state=42) \n",
    "X2, y2 = make_classification(n_samples=1000, n_features=20, random_state=43) \n",
    "model.partial_fit(X1, y1, classes=[0, 1])\n",
    "model.partial_fit(X2, y2, classes=[0, 1])\n",
    "print(model.coef_)"
   ]
  },
  {
   "cell_type": "code",
   "execution_count": null,
   "metadata": {},
   "outputs": [
    {
     "data": {
      "text/plain": [
       "array([[  2.83320116, -10.17952821,  12.69967624,  12.48619502,\n",
       "         -0.11796076,   3.32746969,   1.57518158,  84.65098415,\n",
       "        -11.41398436,  13.85728983,  -5.28777117,   6.71047505,\n",
       "        -24.31113926,  -6.56508561,  -0.50596681, -15.45979829,\n",
       "          6.51923054, -49.00404498, -11.46767661,  12.15259979]])"
      ]
     },
     "execution_count": 10,
     "metadata": {},
     "output_type": "execute_result"
    }
   ],
   "source": []
  },
  {
   "cell_type": "code",
   "execution_count": null,
   "metadata": {},
   "outputs": [],
   "source": []
  }
 ],
 "metadata": {
  "kernelspec": {
   "display_name": "BlockScience",
   "language": "python",
   "name": "python3"
  },
  "language_info": {
   "codemirror_mode": {
    "name": "ipython",
    "version": 3
   },
   "file_extension": ".py",
   "mimetype": "text/x-python",
   "name": "python",
   "nbconvert_exporter": "python",
   "pygments_lexer": "ipython3",
   "version": "3.9.12"
  }
 },
 "nbformat": 4,
 "nbformat_minor": 2
}
