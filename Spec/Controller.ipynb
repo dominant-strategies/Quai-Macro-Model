{
 "cells": [
  {
   "cell_type": "code",
   "execution_count": 1,
   "metadata": {},
   "outputs": [
    {
     "name": "stdout",
     "output_type": "stream",
     "text": [
      "Placeholder has no control action options\n",
      "Mezzanine Wiring Passthrough has no policy options\n",
      "No python implementation for Controller Update Policy / Linear Controller Policy. To fix this, go to Implementations/Python/Policies and add Linear Controller Policy\n",
      "No python implementation for Beta Estimation Policy / SGD Logistic Classifier Training. To fix this, go to Implementations/Python/Policies and add SGD Logistic Classifier Training\n",
      "No python implementation for Increment Block Number Mechanism. To fix this, go to Implementations/Python/Mechanisms and add Increment Block Number Mechanism\n",
      "No python implementation for Update Historical Mined Ratio Mechanism. To fix this, go to Implementations/Python/Mechanisms and add Update Historical Mined Ratio Mechanism\n",
      "No python implementation for Update Historical Qi Hash Mechanism. To fix this, go to Implementations/Python/Mechanisms and add Update Historical Qi Hash Mechanism\n",
      "No python implementation for Update Historical Quai Hash Mechanism. To fix this, go to Implementations/Python/Mechanisms and add Update Historical Quai Hash Mechanism\n",
      "No python implementation for Log Simulation Data Mechanism. To fix this, go to Implementations/Python/Mechanisms and add Log Simulation Data Mechanism\n",
      "No python implementation for Set K Mechanism. To fix this, go to Implementations/Python/Mechanisms and add Set K Mechanism\n",
      "No python implementation for Set Estimated Beta Vector Mechanism. To fix this, go to Implementations/Python/Mechanisms and add Set Estimated Beta Vector Mechanism\n",
      "The following wirings were not loading: ['Mining Mechanisms', 'Controller Mechanisms', 'Controller Update Wiring', 'Mezzanine Mining Wiring', 'Mine Block Wiring', 'Simulation Wiring']\n"
     ]
    }
   ],
   "source": [
    "import os \n",
    "os.chdir(\"../..\")\n",
    "from MSML.src.math_spec_mapping import (load_from_json, create_action_chains_graph, write_out_boundary_actions,\n",
    "                      write_out_policies, write_out_mechanisms, load_svg_graphviz, write_basic_report_full,\n",
    "                      write_action_chain_reports, write_spec_tree, create_parameter_impact_table,\n",
    "                     write_entity_reports, write_wiring_report, write_entity_markdown_report,\n",
    "                     write_all_markdown_reports)\n",
    "os.chdir(\"Quai-Macro-Model/Spec\")\n",
    "\n",
    "from IPython.display import display, display_html\n",
    "from copy import deepcopy\n",
    "from src import math_spec_json\n",
    "import numpy as np\n",
    "from pprint import pprint\n",
    "from simulation import state_base, params_base, vesting_schedule_translate, build_logistic_classifier\n",
    "\n",
    "ms = load_from_json(deepcopy(math_spec_json))\n",
    "msi = ms.build_implementation(params_base)"
   ]
  },
  {
   "cell_type": "code",
   "execution_count": 2,
   "metadata": {},
   "outputs": [
    {
     "ename": "KeyError",
     "evalue": "'Beta Estimation Policy'",
     "output_type": "error",
     "traceback": [
      "\u001b[0;31m---------------------------------------------------------------------------\u001b[0m",
      "\u001b[0;31mKeyError\u001b[0m                                  Traceback (most recent call last)",
      "\u001b[0;32m/var/folders/y0/fwkpk2ps087b_2qxvhjstrfr0000gn/T/ipykernel_90883/4220268695.py\u001b[0m in \u001b[0;36m<module>\u001b[0;34m\u001b[0m\n\u001b[1;32m     71\u001b[0m \u001b[0;34m\u001b[0m\u001b[0m\n\u001b[1;32m     72\u001b[0m \u001b[0;34m\u001b[0m\u001b[0m\n\u001b[0;32m---> 73\u001b[0;31m \u001b[0mspaces\u001b[0m \u001b[0;34m=\u001b[0m \u001b[0mmsi\u001b[0m\u001b[0;34m.\u001b[0m\u001b[0mpolicies\u001b[0m\u001b[0;34m[\u001b[0m\u001b[0;34m\"Beta Estimation Policy\"\u001b[0m\u001b[0;34m]\u001b[0m\u001b[0;34m(\u001b[0m\u001b[0mstate\u001b[0m\u001b[0;34m,\u001b[0m \u001b[0mparams\u001b[0m\u001b[0;34m,\u001b[0m \u001b[0mspaces\u001b[0m\u001b[0;34m)\u001b[0m\u001b[0;34m\u001b[0m\u001b[0;34m\u001b[0m\u001b[0m\n\u001b[0m\u001b[1;32m     74\u001b[0m \u001b[0mpprint\u001b[0m\u001b[0;34m(\u001b[0m\u001b[0mspaces\u001b[0m\u001b[0;34m)\u001b[0m\u001b[0;34m\u001b[0m\u001b[0;34m\u001b[0m\u001b[0m\n\u001b[1;32m     75\u001b[0m \u001b[0mprint\u001b[0m\u001b[0;34m(\u001b[0m\u001b[0;34m)\u001b[0m\u001b[0;34m\u001b[0m\u001b[0;34m\u001b[0m\u001b[0m\n",
      "\u001b[0;31mKeyError\u001b[0m: 'Beta Estimation Policy'"
     ]
    }
   ],
   "source": [
    "spaces = [{'Block Difficulty': [6000,\n",
    "                       6000,\n",
    "                       6000,\n",
    "                       6000,\n",
    "                       6000,\n",
    "                       6000,\n",
    "                       6000,\n",
    "                       6000,\n",
    "                       6000,\n",
    "                       6000,\n",
    "                       6000,\n",
    "                       6000,\n",
    "                       6000,\n",
    "                       6000,\n",
    "                       6000,\n",
    "                       6000],\n",
    "  'Mining Time': 96.0,\n",
    "  'New Difficulty': 6000,\n",
    "  'Qi Reward Offered': [6000,\n",
    "                        6000,\n",
    "                        6000,\n",
    "                        6000,\n",
    "                        6000,\n",
    "                        6000,\n",
    "                        6000,\n",
    "                        6000,\n",
    "                        6000,\n",
    "                        6000,\n",
    "                        6000,\n",
    "                        6000,\n",
    "                        6000,\n",
    "                        6000,\n",
    "                        6000,\n",
    "                        6000],\n",
    "  'Qi Taken': [6000, 0, 0, 6000, 6000, 0, 0, 0, 0, 0, 0, 6000, 0, 6000, 0, 0],\n",
    "  'Quai Reward Offered': [6275.373392691621,\n",
    "                          6275.373392691621,\n",
    "                          6275.373392691621,\n",
    "                          6275.373392691621,\n",
    "                          6275.373392691621,\n",
    "                          6275.373392691621,\n",
    "                          6275.373392691621,\n",
    "                          6275.373392691621,\n",
    "                          6275.373392691621,\n",
    "                          6275.373392691621,\n",
    "                          6275.373392691621,\n",
    "                          6275.373392691621,\n",
    "                          6275.373392691621,\n",
    "                          6275.373392691621,\n",
    "                          6275.373392691621,\n",
    "                          6275.373392691621],\n",
    "  'Quai Taken': [0,\n",
    "                 6275.373392691621,\n",
    "                 6275.373392691621,\n",
    "                 0,\n",
    "                 0,\n",
    "                 6275.373392691621,\n",
    "                 6275.373392691621,\n",
    "                 6275.373392691621,\n",
    "                 6275.373392691621,\n",
    "                 6275.373392691621,\n",
    "                 6275.373392691621,\n",
    "                 0,\n",
    "                 6275.373392691621,\n",
    "                 0,\n",
    "                 6275.373392691621,\n",
    "                 6275.373392691621]}]\n",
    "\n",
    "state, params = msi.prepare_state_and_params(state_base, params_base, state_preperation_functions=[vesting_schedule_translate,\n",
    "                                                                                                   build_logistic_classifier], parameter_preperation_functions=[])\n",
    "\n",
    "\n",
    "spaces = msi.policies[\"Beta Estimation Policy\"](state, params, spaces)\n",
    "pprint(spaces)\n",
    "print()\n",
    "print()\n",
    "print()\n",
    "spaces = msi.policies[\"Controller Update Policy\"](state, params, spaces)\n",
    "pprint(spaces)\n",
    "print()\n",
    "print()\n",
    "print()\n",
    "\n",
    "\n",
    "spaces = msi.policies[\"Controller Mechanisms\"](state, params, spaces)\n"
   ]
  },
  {
   "cell_type": "code",
   "execution_count": 6,
   "metadata": {},
   "outputs": [
    {
     "data": {
      "text/plain": [
       "[0,\n",
       " 6275.373392691621,\n",
       " 6275.373392691621,\n",
       " 0,\n",
       " 0,\n",
       " 6275.373392691621,\n",
       " 6275.373392691621,\n",
       " 6275.373392691621,\n",
       " 6275.373392691621,\n",
       " 6275.373392691621,\n",
       " 6275.373392691621,\n",
       " 0,\n",
       " 6275.373392691621,\n",
       " 0,\n",
       " 6275.373392691621,\n",
       " 6275.373392691621]"
      ]
     },
     "execution_count": 6,
     "metadata": {},
     "output_type": "execute_result"
    }
   ],
   "source": [
    "\n",
    "spaces[0][\"Quai Taken\"]"
   ]
  },
  {
   "cell_type": "code",
   "execution_count": 7,
   "metadata": {},
   "outputs": [
    {
     "name": "stderr",
     "output_type": "stream",
     "text": [
      "/Users/seanmcowen/opt/anaconda3/envs/BlockScience/lib/python3.9/site-packages/sklearn/linear_model/_stochastic_gradient.py:173: FutureWarning: The loss 'log' was deprecated in v1.1 and will be removed in version 1.3. Use `loss='log_loss'` which is equivalent.\n",
      "  warnings.warn(\n"
     ]
    },
    {
     "data": {
      "text/html": [
       "<style>#sk-container-id-2 {color: black;background-color: white;}#sk-container-id-2 pre{padding: 0;}#sk-container-id-2 div.sk-toggleable {background-color: white;}#sk-container-id-2 label.sk-toggleable__label {cursor: pointer;display: block;width: 100%;margin-bottom: 0;padding: 0.3em;box-sizing: border-box;text-align: center;}#sk-container-id-2 label.sk-toggleable__label-arrow:before {content: \"▸\";float: left;margin-right: 0.25em;color: #696969;}#sk-container-id-2 label.sk-toggleable__label-arrow:hover:before {color: black;}#sk-container-id-2 div.sk-estimator:hover label.sk-toggleable__label-arrow:before {color: black;}#sk-container-id-2 div.sk-toggleable__content {max-height: 0;max-width: 0;overflow: hidden;text-align: left;background-color: #f0f8ff;}#sk-container-id-2 div.sk-toggleable__content pre {margin: 0.2em;color: black;border-radius: 0.25em;background-color: #f0f8ff;}#sk-container-id-2 input.sk-toggleable__control:checked~div.sk-toggleable__content {max-height: 200px;max-width: 100%;overflow: auto;}#sk-container-id-2 input.sk-toggleable__control:checked~label.sk-toggleable__label-arrow:before {content: \"▾\";}#sk-container-id-2 div.sk-estimator input.sk-toggleable__control:checked~label.sk-toggleable__label {background-color: #d4ebff;}#sk-container-id-2 div.sk-label input.sk-toggleable__control:checked~label.sk-toggleable__label {background-color: #d4ebff;}#sk-container-id-2 input.sk-hidden--visually {border: 0;clip: rect(1px 1px 1px 1px);clip: rect(1px, 1px, 1px, 1px);height: 1px;margin: -1px;overflow: hidden;padding: 0;position: absolute;width: 1px;}#sk-container-id-2 div.sk-estimator {font-family: monospace;background-color: #f0f8ff;border: 1px dotted black;border-radius: 0.25em;box-sizing: border-box;margin-bottom: 0.5em;}#sk-container-id-2 div.sk-estimator:hover {background-color: #d4ebff;}#sk-container-id-2 div.sk-parallel-item::after {content: \"\";width: 100%;border-bottom: 1px solid gray;flex-grow: 1;}#sk-container-id-2 div.sk-label:hover label.sk-toggleable__label {background-color: #d4ebff;}#sk-container-id-2 div.sk-serial::before {content: \"\";position: absolute;border-left: 1px solid gray;box-sizing: border-box;top: 0;bottom: 0;left: 50%;z-index: 0;}#sk-container-id-2 div.sk-serial {display: flex;flex-direction: column;align-items: center;background-color: white;padding-right: 0.2em;padding-left: 0.2em;position: relative;}#sk-container-id-2 div.sk-item {position: relative;z-index: 1;}#sk-container-id-2 div.sk-parallel {display: flex;align-items: stretch;justify-content: center;background-color: white;position: relative;}#sk-container-id-2 div.sk-item::before, #sk-container-id-2 div.sk-parallel-item::before {content: \"\";position: absolute;border-left: 1px solid gray;box-sizing: border-box;top: 0;bottom: 0;left: 50%;z-index: -1;}#sk-container-id-2 div.sk-parallel-item {display: flex;flex-direction: column;z-index: 1;position: relative;background-color: white;}#sk-container-id-2 div.sk-parallel-item:first-child::after {align-self: flex-end;width: 50%;}#sk-container-id-2 div.sk-parallel-item:last-child::after {align-self: flex-start;width: 50%;}#sk-container-id-2 div.sk-parallel-item:only-child::after {width: 0;}#sk-container-id-2 div.sk-dashed-wrapped {border: 1px dashed gray;margin: 0 0.4em 0.5em 0.4em;box-sizing: border-box;padding-bottom: 0.4em;background-color: white;}#sk-container-id-2 div.sk-label label {font-family: monospace;font-weight: bold;display: inline-block;line-height: 1.2em;}#sk-container-id-2 div.sk-label-container {text-align: center;}#sk-container-id-2 div.sk-container {/* jupyter's `normalize.less` sets `[hidden] { display: none; }` but bootstrap.min.css set `[hidden] { display: none !important; }` so we also need the `!important` here to be able to override the default hidden behavior on the sphinx rendered scikit-learn.org. See: https://github.com/scikit-learn/scikit-learn/issues/21755 */display: inline-block !important;position: relative;}#sk-container-id-2 div.sk-text-repr-fallback {display: none;}</style><div id=\"sk-container-id-2\" class=\"sk-top-container\"><div class=\"sk-text-repr-fallback\"><pre>SGDClassifier(loss=&#x27;log&#x27;)</pre><b>In a Jupyter environment, please rerun this cell to show the HTML representation or trust the notebook. <br />On GitHub, the HTML representation is unable to render, please try loading this page with nbviewer.org.</b></div><div class=\"sk-container\" hidden><div class=\"sk-item\"><div class=\"sk-estimator sk-toggleable\"><input class=\"sk-toggleable__control sk-hidden--visually\" id=\"sk-estimator-id-2\" type=\"checkbox\" checked><label for=\"sk-estimator-id-2\" class=\"sk-toggleable__label sk-toggleable__label-arrow\">SGDClassifier</label><div class=\"sk-toggleable__content\"><pre>SGDClassifier(loss=&#x27;log&#x27;)</pre></div></div></div></div></div>"
      ],
      "text/plain": [
       "SGDClassifier(loss='log')"
      ]
     },
     "execution_count": 7,
     "metadata": {},
     "output_type": "execute_result"
    }
   ],
   "source": [
    "from math import log\n",
    "\n",
    "\n",
    "X = [[1, x / log(x, params[\"Quai Reward Base Parameter\"])] for x in spaces[0][\"Block Difficulty\"]]\n",
    "Y = [x > 0 for x in spaces[0][\"Quai Taken\"]]\n",
    "\n",
    "state[\"Logistic Classifier\"].partial_fit(X, Y, classes=[0, 1])\n",
    "betas = state[\"Logistic Classifier\"].coef_[0]\n"
   ]
  },
  {
   "cell_type": "code",
   "execution_count": 10,
   "metadata": {},
   "outputs": [
    {
     "data": {
      "text/plain": [
       "array([   4.92610837, 2354.97144128])"
      ]
     },
     "execution_count": 10,
     "metadata": {},
     "output_type": "execute_result"
    }
   ],
   "source": []
  },
  {
   "cell_type": "code",
   "execution_count": null,
   "metadata": {},
   "outputs": [
    {
     "name": "stdout",
     "output_type": "stream",
     "text": [
      "[[ -6.03631717   0.61074537  -1.39254012  -1.5925957   -5.43038662\n",
      "    6.70522256   6.09257348  39.6235022    6.25643702   7.15623407\n",
      "    0.08124231  -5.27523777   5.70313904  -4.80241893   2.41944732\n",
      "   -7.03703583  -4.82045847 -27.44253048 -15.35393359  -1.51108474]]\n"
     ]
    },
    {
     "name": "stderr",
     "output_type": "stream",
     "text": [
      "/Users/seanmcowen/opt/anaconda3/envs/BlockScience/lib/python3.9/site-packages/sklearn/linear_model/_stochastic_gradient.py:173: FutureWarning: The loss 'log' was deprecated in v1.1 and will be removed in version 1.3. Use `loss='log_loss'` which is equivalent.\n",
      "  warnings.warn(\n",
      "/Users/seanmcowen/opt/anaconda3/envs/BlockScience/lib/python3.9/site-packages/sklearn/linear_model/_stochastic_gradient.py:173: FutureWarning: The loss 'log' was deprecated in v1.1 and will be removed in version 1.3. Use `loss='log_loss'` which is equivalent.\n",
      "  warnings.warn(\n"
     ]
    }
   ],
   "source": [
    "import numpy as np \n",
    "from sklearn.linear_model import SGDClassifier \n",
    "from sklearn.datasets import make_classification\n",
    "\n",
    "X1, y1 = make_classification(n_samples=1000, n_features=20, random_state=42) \n",
    "X2, y2 = make_classification(n_samples=1000, n_features=20, random_state=43) \n",
    "model.partial_fit(X1, y1, classes=[0, 1])\n",
    "model.partial_fit(X2, y2, classes=[0, 1])\n",
    "print(model.coef_)"
   ]
  },
  {
   "cell_type": "code",
   "execution_count": null,
   "metadata": {},
   "outputs": [
    {
     "data": {
      "text/plain": [
       "array([[  2.83320116, -10.17952821,  12.69967624,  12.48619502,\n",
       "         -0.11796076,   3.32746969,   1.57518158,  84.65098415,\n",
       "        -11.41398436,  13.85728983,  -5.28777117,   6.71047505,\n",
       "        -24.31113926,  -6.56508561,  -0.50596681, -15.45979829,\n",
       "          6.51923054, -49.00404498, -11.46767661,  12.15259979]])"
      ]
     },
     "execution_count": 10,
     "metadata": {},
     "output_type": "execute_result"
    }
   ],
   "source": []
  },
  {
   "cell_type": "code",
   "execution_count": null,
   "metadata": {},
   "outputs": [],
   "source": []
  }
 ],
 "metadata": {
  "kernelspec": {
   "display_name": "BlockScience",
   "language": "python",
   "name": "python3"
  },
  "language_info": {
   "codemirror_mode": {
    "name": "ipython",
    "version": 3
   },
   "file_extension": ".py",
   "mimetype": "text/x-python",
   "name": "python",
   "nbconvert_exporter": "python",
   "pygments_lexer": "ipython3",
   "version": "3.9.12"
  }
 },
 "nbformat": 4,
 "nbformat_minor": 2
}
