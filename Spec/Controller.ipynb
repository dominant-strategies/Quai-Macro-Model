{
 "cells": [
  {
   "cell_type": "code",
   "execution_count": 1,
   "metadata": {},
   "outputs": [
    {
     "name": "stdout",
     "output_type": "stream",
     "text": [
      "Placeholder has no control action options\n",
      "Mezzanine Wiring Passthrough has no policy options\n",
      "No python implementation for Controller Update Policy / Linear Controller Policy. To fix this, go to Implementations/Python/Policies and add Linear Controller Policy\n",
      "Beta Estimation Policy has no policy options\n",
      "No python implementation for Increment Block Number Mechanism. To fix this, go to Implementations/Python/Mechanisms and add Increment Block Number Mechanism\n",
      "No python implementation for Update Historical Mined Ratio Mechanism. To fix this, go to Implementations/Python/Mechanisms and add Update Historical Mined Ratio Mechanism\n",
      "No python implementation for Update Historical Qi Hash Mechanism. To fix this, go to Implementations/Python/Mechanisms and add Update Historical Qi Hash Mechanism\n",
      "No python implementation for Update Historical Quai Hash Mechanism. To fix this, go to Implementations/Python/Mechanisms and add Update Historical Quai Hash Mechanism\n",
      "No python implementation for Log Simulation Data Mechanism. To fix this, go to Implementations/Python/Mechanisms and add Log Simulation Data Mechanism\n",
      "No python implementation for Set K Mechanism. To fix this, go to Implementations/Python/Mechanisms and add Set K Mechanism\n",
      "No python implementation for Set Estimated Beta Vector Mechanism. To fix this, go to Implementations/Python/Mechanisms and add Set Estimated Beta Vector Mechanism\n",
      "The following wirings were not loading: ['Mining Mechanisms', 'Controller Mechanisms', 'Controller Update Wiring', 'Mezzanine Mining Wiring', 'Mine Block Wiring', 'Simulation Wiring']\n"
     ]
    }
   ],
   "source": [
    "import os \n",
    "os.chdir(\"../..\")\n",
    "from MSML.src.math_spec_mapping import (load_from_json, create_action_chains_graph, write_out_boundary_actions,\n",
    "                      write_out_policies, write_out_mechanisms, load_svg_graphviz, write_basic_report_full,\n",
    "                      write_action_chain_reports, write_spec_tree, create_parameter_impact_table,\n",
    "                     write_entity_reports, write_wiring_report, write_entity_markdown_report,\n",
    "                     write_all_markdown_reports)\n",
    "os.chdir(\"Quai-Macro-Model/Spec\")\n",
    "\n",
    "from IPython.display import display, display_html\n",
    "from copy import deepcopy\n",
    "from src import math_spec_json\n",
    "import numpy as np\n",
    "from pprint import pprint\n",
    "from simulation import state_base, params_base, vesting_schedule_translate\n",
    "\n",
    "ms = load_from_json(deepcopy(math_spec_json))\n",
    "msi = ms.build_implementation(params_base)"
   ]
  },
  {
   "cell_type": "code",
   "execution_count": null,
   "metadata": {},
   "outputs": [],
   "source": []
  }
 ],
 "metadata": {
  "kernelspec": {
   "display_name": "BlockScience",
   "language": "python",
   "name": "python3"
  },
  "language_info": {
   "codemirror_mode": {
    "name": "ipython",
    "version": 3
   },
   "file_extension": ".py",
   "mimetype": "text/x-python",
   "name": "python",
   "nbconvert_exporter": "python",
   "pygments_lexer": "ipython3",
   "version": "3.9.12"
  }
 },
 "nbformat": 4,
 "nbformat_minor": 2
}
