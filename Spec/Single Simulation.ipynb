{
 "cells": [
  {
   "cell_type": "code",
   "execution_count": 1,
   "metadata": {},
   "outputs": [],
   "source": [
    "import os\n",
    "os.chdir(\"../..\")\n",
    "from MSML.src.math_spec_mapping import (load_from_json, create_action_chains_graph, write_out_boundary_actions,\n",
    "                      write_out_policies, write_out_mechanisms, load_svg_graphviz, write_basic_report_full,\n",
    "                      write_action_chain_reports, write_spec_tree, create_parameter_impact_table,\n",
    "                     write_entity_reports, write_wiring_report, write_entity_markdown_report,\n",
    "                     write_all_markdown_reports)\n",
    "os.chdir(\"Quai-Macro-Model/Spec\")\n",
    "\n",
    "from IPython.display import display, display_html\n",
    "from copy import deepcopy\n",
    "from src import math_spec_json\n",
    "import numpy as np\n",
    "from pprint import pprint\n",
    "from simulation import state_base, params_base, vesting_schedule_translate, build_logistic_classifier, post_processing_function, plot_beta_errors\n",
    "\n",
    "ms = load_from_json(deepcopy(math_spec_json))"
   ]
  },
  {
   "cell_type": "code",
   "execution_count": 2,
   "metadata": {},
   "outputs": [
    {
     "name": "stdout",
     "output_type": "stream",
     "text": [
      "Placeholder has no control action options\n",
      "     Estimate Beta0  Estimate Beta1  Population Beta0  Population Beta1  \\\n",
      "0               NaN             NaN           -0.0001            0.0001   \n",
      "1          4.970541     2257.088763           -0.0001            0.0001   \n",
      "2         -4.805076    -2040.094941           -0.0001            0.0001   \n",
      "3         -4.693980    -2017.484774           -0.0001            0.0001   \n",
      "4         -4.648723    -1399.938367           -0.0001            0.0001   \n",
      "..              ...             ...               ...               ...   \n",
      "496        8.303430       20.111661           -0.0001            0.0001   \n",
      "497        8.302680       38.951431           -0.0001            0.0001   \n",
      "498        8.301808       44.090106           -0.0001            0.0001   \n",
      "499        7.187725       -3.180105           -0.0001            0.0001   \n",
      "500        6.075626      -55.396336           -0.0001            0.0001   \n",
      "\n",
      "        Qi Supply   Quai Supply  Locked Qi Supply  Locked Quai Supply  \\\n",
      "0    0.000000e+00  3.000000e+09      0.000000e+00        2.370000e+09   \n",
      "1    7.740522e+04  3.000000e+09      7.740522e+04        2.370000e+09   \n",
      "2    1.100349e+05  3.000000e+09      1.100349e+05        2.370000e+09   \n",
      "3    1.549869e+05  3.000000e+09      1.549869e+05        2.370000e+09   \n",
      "4    1.703582e+05  3.000000e+09      1.703582e+05        2.370000e+09   \n",
      "..            ...           ...               ...                 ...   \n",
      "496  1.774469e+09  2.913932e+09      1.774469e+09        2.370042e+09   \n",
      "497  1.778981e+09  2.913341e+09      1.778981e+09        2.370042e+09   \n",
      "498  1.778982e+09  2.913341e+09      1.778982e+09        2.370042e+09   \n",
      "499  1.778982e+09  2.913341e+09      1.778982e+09        2.370042e+09   \n",
      "500  1.783408e+09  2.912786e+09      1.783408e+09        2.370042e+09   \n",
      "\n",
      "     Block Number  Block Difficulty  Number of Regions  Zones per Region  \\\n",
      "0               0       6000.000000                  2                 2   \n",
      "1               1       5972.977607                  2                 2   \n",
      "2               2       5944.611740                  2                 2   \n",
      "3               3       5915.881549                  2                 2   \n",
      "4               4       5887.051712                  2                 2   \n",
      "..            ...               ...                ...               ...   \n",
      "496           496        500.678044                  2                 2   \n",
      "497           497        498.174697                  2                 2   \n",
      "498           498        495.683865                  2                 2   \n",
      "499           499        493.205488                  2                 2   \n",
      "500           500        490.739501                  2                 2   \n",
      "\n",
      "         K Qi  K Quai  Quai Price   Qi Price      Time  Delta Time  \\\n",
      "0    1.000000       1    1.000000   1.000000  0.000000           0   \n",
      "1    0.784350       1    0.950109   0.956729  0.001103           0   \n",
      "2    0.624605       1    0.909228   0.935139  0.001661           0   \n",
      "3    0.496025       1    0.866797   0.907554  0.002032           0   \n",
      "4    0.423753       1    0.822627   0.890872  0.002313           0   \n",
      "..        ...     ...         ...        ...       ...         ...   \n",
      "496  0.021233       1    5.355305  44.356958  0.005902           0   \n",
      "497  0.021228       1    5.403522  45.164296  0.005903           0   \n",
      "498  0.021221       1    5.411032  45.458128  0.005903           0   \n",
      "499  0.021222       1    5.474518  45.689427  0.005903           0   \n",
      "500  0.021232       1    5.630300  47.053753  0.005903           0   \n",
      "\n",
      "     Mined Ratio  \n",
      "0            NaN  \n",
      "1       0.000486  \n",
      "2       0.003455  \n",
      "3       0.001117  \n",
      "4       0.008906  \n",
      "..           ...  \n",
      "496     0.330640  \n",
      "497     0.328702  \n",
      "498     0.393099  \n",
      "499     0.448714  \n",
      "500     0.651190  \n",
      "\n",
      "[501 rows x 19 columns]\n"
     ]
    }
   ],
   "source": [
    "T = 500\n",
    "blocks = [\"Log Simulation Data Mechanism\"] + [\"Price Movements Wiring\",\n",
    "            \"Conversions Wiring\",\n",
    "            \"Mine Block Wiring\",\n",
    "            \"Unlock Tokens Wiring\",\n",
    "            \"Log Simulation Data Mechanism\",] * T\n",
    "\n",
    "\n",
    "\n",
    "\n",
    "            \n",
    "experiment = {\"Name\": \"Test\",\n",
    "               \"Param Modifications\": None,\n",
    "               \"State Modifications\": None,\n",
    "               \"Blocks\": blocks}\n",
    "\n",
    "\n",
    "state, params, msi, df, metrics= ms.run_experiment(experiment,\n",
    "                  params_base,\n",
    "                  state_base,\n",
    "                  post_processing_function,\n",
    "                  state_preperation_functions=[vesting_schedule_translate, build_logistic_classifier],\n",
    "                  parameter_preperation_functions=[],\n",
    "                  metrics_functions=[])\n",
    "\n",
    "print(df)"
   ]
  },
  {
   "cell_type": "code",
   "execution_count": 3,
   "metadata": {},
   "outputs": [
    {
     "data": {
      "image/png": "[encoded data removed]",
      "text/plain": [
       "<Figure size 432x288 with 1 Axes>"
      ]
     },
     "metadata": {
      "needs_background": "light"
     },
     "output_type": "display_data"
    }
   ],
   "source": [
    "plot_beta_errors(df)"
   ]
  }
 ],
 "metadata": {
  "kernelspec": {
   "display_name": "BlockScience",
   "language": "python",
   "name": "python3"
  },
  "language_info": {
   "codemirror_mode": {
    "name": "ipython",
    "version": 3
   },
   "file_extension": ".py",
   "mimetype": "text/x-python",
   "name": "python",
   "nbconvert_exporter": "python",
   "pygments_lexer": "ipython3",
   "version": "3.9.12"
  }
 },
 "nbformat": 4,
 "nbformat_minor": 2
}
