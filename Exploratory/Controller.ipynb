{
 "cells": [
  {
   "cell_type": "markdown",
   "metadata": {},
   "source": [
    "# Controller Playground\n",
    "\n",
    "All credit for the beautiful markdown goes to Jamsheed"
   ]
  },
  {
   "cell_type": "code",
   "execution_count": 4,
   "metadata": {},
   "outputs": [
    {
     "name": "stdout",
     "output_type": "stream",
     "text": [
      "Placeholder has no control action options\n",
      "Controller Update Control Action has no control action options\n",
      "No python implementation for Controller Update Policy / Linear Controller Policy. To fix this, go to Implementations/Python/Policies and add Linear Controller Policy\n",
      "No python implementation for Increment Block Number Mechanism. To fix this, go to Implementations/Python/Mechanisms and add Increment Block Number Mechanism\n",
      "No python implementation for Update Historical Mined Ratio Mechanism. To fix this, go to Implementations/Python/Mechanisms and add Update Historical Mined Ratio Mechanism\n",
      "No python implementation for Update Historical Qi Hash Mechanism. To fix this, go to Implementations/Python/Mechanisms and add Update Historical Qi Hash Mechanism\n",
      "No python implementation for Update Historical Quai Hash Mechanism. To fix this, go to Implementations/Python/Mechanisms and add Update Historical Quai Hash Mechanism\n",
      "No python implementation for Log Simulation Data Mechanism. To fix this, go to Implementations/Python/Mechanisms and add Log Simulation Data Mechanism\n",
      "No python implementation for Set K Mechanism. To fix this, go to Implementations/Python/Mechanisms and add Set K Mechanism\n",
      "The following wirings were not loading: ['Mining Mechanisms', 'Controller Update Wiring', 'Mine Block Wiring', 'Simulation Wiring']\n"
     ]
    }
   ],
   "source": [
    "# Bring in the MSI object\n",
    "import os \n",
    "os.chdir(\"../..\")\n",
    "from MSML.src.math_spec_mapping import (load_from_json, create_action_chains_graph, write_out_boundary_actions,\n",
    "                      write_out_policies, write_out_mechanisms, load_svg_graphviz, write_basic_report_full,\n",
    "                      write_action_chain_reports, write_spec_tree, create_parameter_impact_table,\n",
    "                     write_entity_reports, write_wiring_report, write_entity_markdown_report,\n",
    "                     write_all_markdown_reports)\n",
    "os.chdir(\"Quai-Macro-Model/Spec\")\n",
    "\n",
    "from simulation import state_base, params_base, vesting_schedule_translate\n",
    "\n",
    "from IPython.display import display, display_html\n",
    "from copy import deepcopy\n",
    "from src import math_spec_json\n",
    "import numpy as np\n",
    "from pprint import pprint\n",
    "\n",
    "ms = load_from_json(deepcopy(math_spec_json))\n",
    "msi = ms.build_implementation(params_base)\n",
    "state, params = msi.prepare_state_and_params(state_base, params_base, state_preperation_functions=[vesting_schedule_translate], parameter_preperation_functions=[])"
   ]
  },
  {
   "cell_type": "markdown",
   "metadata": {},
   "source": [
    "## Miner Probability\n",
    "\n",
    "In what follows:\n",
    "$$\n",
    "  c_i = \n",
    "  \\begin{cases}\n",
    "    1 & \\text{if token 1 is chosen} \\\\\n",
    "    0 & \\text{if token 2 is chosen}.\n",
    "  \\end{cases}\n",
    "$$\n",
    "\n",
    "Miner choices $c_i$ are assumed to be independently distributed such that for a block at height $i$,\n",
    "$$\n",
    "  p_i = \\Pr(c_i = 1 | r_{i1}, r_{i2}, d_i ) := \\frac{1}{1 + \\exp(- \\pmb{\\beta}'\\mathbf x_i) },\n",
    "$$\n",
    "where $\\mathbf x_i$ is a set of features and $\\pmb \\beta$ their associated weights. It may be that the first such feature is $1$, so that the first weight is an intercept/'bias' term. Note that the linear term $\\pmb{\\beta}' \\mathbf x$ is consistent with an interpretation of the above as coming from a latent variable/random utility model of the miner.\n",
    "\n",
    "Given the data set $z_k$, maximum likelihood estimation yields estimates $\\hat{\\pmb{\\beta}}$."
   ]
  },
  {
   "cell_type": "code",
   "execution_count": 2,
   "metadata": {},
   "outputs": [],
   "source": [
    "import numpy as np\n",
    "\n",
    "def miner_probability(beta, x):\n",
    "    return 1 / (1+ np.exp(beta.dot(x)))"
   ]
  },
  {
   "cell_type": "markdown",
   "metadata": {},
   "source": [
    "### Objective: stability via indifference\n",
    "\n",
    "The controller seeks to stabilize an imputed value of hashpower (difficulty) by adjusting the proposed block rewards so that the miner would have been _indifferent_ between receiving an award in _qi_ (token 1) or _quai_ (token 2). The interpretation of this is that _deviations from indifference reveals that one token is more valuable than the other_. In the case that one token (_qi_) is to reflect the value of hashpower (difficulty), indifference is a _reference_ or _focal_ point from which the value of hashpower may be observed from miner decisions.\n",
    "\n",
    "Indifference is when $p_i = 0.5$. Given $\\hat{\\pmb{\\beta}}$, it is clear that the _invariant surface_ of features satisfies\n",
    "$$\n",
    "  \\hat{\\pmb{\\beta}}' \\mathbf x \\equiv 0.\n",
    "$$\n",
    "\n",
    "Refining this further requires a definition of the features $\\mathbf x$."
   ]
  },
  {
   "cell_type": "markdown",
   "metadata": {},
   "source": [
    "### A simple example\n",
    "\n",
    "The simplest example is where $\\mathbf x_i = (1, x_i) := (1, d_i/\\log_2(d_i))$. In this case the invariant surface above yields a value $d_i = d^\\star$ such that\n",
    "$$\n",
    "  \\frac{d^\\star}{\\log_2(d^\\star)} = -\\frac{\\hat{\\beta_0}}{\\hat{\\beta_1}}.\n",
    "$$\n",
    "\n",
    "This is the difficulty level that would have to obtain in order for a miner to be (on average) indifferent between selecting token 1 and token 2. In this case define $x^\\star(\\hat{\\pmb{\\beta}}) = d^\\star / \\log_2(d^\\star)$ (we will sometimes drop the dependence of $x^\\star$ upon $\\hat{\\pmb{\\beta}}$ for brevity in what follows, but it is important always to recall that $x^\\star$ is derived from the _estimation problem_ the controller performs in finding a miner's indifference point).\n",
    "\n",
    "[It is worth noting here that provided $d_i > e$, $\\frac{dx_i}{d(d_i)} > 0$, i.e. increasing difficulty $d_i$ will increase $x_i$ and hence increase $p_i$ from the logistic expression above. There is thus a weak restriction on $d_i$ under this approach.]"
   ]
  },
  {
   "cell_type": "code",
   "execution_count": 10,
   "metadata": {},
   "outputs": [
    {
     "name": "stdout",
     "output_type": "stream",
     "text": [
      "[  1.         478.05920258]\n"
     ]
    }
   ],
   "source": [
    "from math import log\n",
    "def prepare_x(state, params):\n",
    "    d1 = state[\"Block Difficulty\"]\n",
    "    d2 = log(state[\"Block Difficulty\"], params[\"Quai Reward Base Parameter\"])\n",
    "    x = np.array([1, d1/d2])\n",
    "    return x\n",
    "x = prepare_x(state, params)\n",
    "print(x)"
   ]
  },
  {
   "cell_type": "code",
   "execution_count": 6,
   "metadata": {},
   "outputs": [
    {
     "data": {
      "text/plain": [
       "2"
      ]
     },
     "execution_count": 6,
     "metadata": {},
     "output_type": "execute_result"
    }
   ],
   "source": []
  },
  {
   "cell_type": "code",
   "execution_count": null,
   "metadata": {},
   "outputs": [],
   "source": []
  }
 ],
 "metadata": {
  "kernelspec": {
   "display_name": "BlockScience",
   "language": "python",
   "name": "python3"
  },
  "language_info": {
   "codemirror_mode": {
    "name": "ipython",
    "version": 3
   },
   "file_extension": ".py",
   "mimetype": "text/x-python",
   "name": "python",
   "nbconvert_exporter": "python",
   "pygments_lexer": "ipython3",
   "version": "3.9.12"
  }
 },
 "nbformat": 4,
 "nbformat_minor": 2
}
