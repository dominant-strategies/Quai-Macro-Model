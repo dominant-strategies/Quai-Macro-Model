{
 "cells": [
  {
   "cell_type": "markdown",
   "metadata": {},
   "source": [
    "# Controller Playground"
   ]
  },
  {
   "cell_type": "markdown",
   "metadata": {},
   "source": [
    "## Miner Probability\n",
    "\n",
    "In what follows:\n",
    "$$\n",
    "  c_i = \n",
    "  \\begin{cases}\n",
    "    1 & \\text{if token 1 is chosen} \\\\\n",
    "    0 & \\text{if token 2 is chosen}.\n",
    "  \\end{cases}\n",
    "$$\n",
    "\n",
    "Miner choices $c_i$ are assumed to be independently distributed such that for a block at height $i$,\n",
    "$$\n",
    "  p_i = \\Pr(c_i = 1 | r_{i1}, r_{i2}, d_i ) := \\frac{1}{1 + \\exp(- \\pmb{\\beta}'\\mathbf x_i) },\n",
    "$$\n",
    "where $\\mathbf x_i$ is a set of features and $\\pmb \\beta$ their associated weights. It may be that the first such feature is $1$, so that the first weight is an intercept/'bias' term. Note that the linear term $\\pmb{\\beta}' \\mathbf x$ is consistent with an interpretation of the above as coming from a latent variable/random utility model of the miner.\n",
    "\n",
    "Given the data set $z_k$, maximum likelihood estimation yields estimates $\\hat{\\pmb{\\beta}}$."
   ]
  },
  {
   "cell_type": "code",
   "execution_count": 3,
   "metadata": {},
   "outputs": [
    {
     "data": {
      "text/plain": [
       "0.11920292202211755"
      ]
     },
     "execution_count": 3,
     "metadata": {},
     "output_type": "execute_result"
    }
   ],
   "source": [
    "import numpy as np\n",
    "\n",
    "def miner_probability(beta, x):\n",
    "    return 1 / (1+ np.exp(beta.dot(x)))"
   ]
  },
  {
   "cell_type": "code",
   "execution_count": null,
   "metadata": {},
   "outputs": [],
   "source": []
  }
 ],
 "metadata": {
  "kernelspec": {
   "display_name": "BlockScience",
   "language": "python",
   "name": "python3"
  },
  "language_info": {
   "codemirror_mode": {
    "name": "ipython",
    "version": 3
   },
   "file_extension": ".py",
   "mimetype": "text/x-python",
   "name": "python",
   "nbconvert_exporter": "python",
   "pygments_lexer": "ipython3",
   "version": "3.9.12"
  }
 },
 "nbformat": 4,
 "nbformat_minor": 2
}
