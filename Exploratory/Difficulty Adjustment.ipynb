{
 "cells": [
  {
   "cell_type": "code",
   "execution_count": 2,
   "metadata": {},
   "outputs": [],
   "source": [
    "state = {\"Global Difficulty\": 1000,\n",
    "         \"Aggregate Hashpower\": 200,\n",
    "         \"Regions\": 3,\n",
    "         \"Zones per Reigion\": 3,\n",
    "         \"Target Time\": 2}\n",
    "\n",
    "params = {\"Block Difficulty Multiples\": {\"Prime\": 1,\n",
    "                                         \"Region\": .5,\n",
    "                                         \"Zone\": .25},\n",
    "        }"
   ]
  },
  {
   "cell_type": "code",
   "execution_count": 3,
   "metadata": {},
   "outputs": [],
   "source": [
    "# Add a log normal distribution for pertubing the hash needed\n",
    "\n",
    "def sample_blocks(state, params):\n",
    "    prime_block_hashes = [state[\"Global Difficulty\"] * params[\"Block Difficulty Multiples\"][\"Prime\"]]\n",
    "    region_block_hashes = [state[\"Global Difficulty\"] * params[\"Block Difficulty Multiples\"][\"Region\"]] * state[\"Reigions\"]\n",
    "    zone_block_hashes = [state[\"Global Difficulty\"] * params[\"Block Difficulty Multiples\"][\"Zone\"]]* state[\"Reigions\"] * state[\"Zones per Reigion\"]\n",
    "\n",
    "    print(prime_block_hashes, region_block_hashes, zone_block_hashes)"
   ]
  },
  {
   "cell_type": "code",
   "execution_count": 4,
   "metadata": {},
   "outputs": [],
   "source": [
    "# Bisection to find the blocks processed"
   ]
  },
  {
   "cell_type": "code",
   "execution_count": null,
   "metadata": {},
   "outputs": [],
   "source": []
  }
 ],
 "metadata": {
  "kernelspec": {
   "display_name": "BlockScience",
   "language": "python",
   "name": "python3"
  },
  "language_info": {
   "codemirror_mode": {
    "name": "ipython",
    "version": 3
   },
   "file_extension": ".py",
   "mimetype": "text/x-python",
   "name": "python",
   "nbconvert_exporter": "python",
   "pygments_lexer": "ipython3",
   "version": "3.9.12"
  }
 },
 "nbformat": 4,
 "nbformat_minor": 2
}
