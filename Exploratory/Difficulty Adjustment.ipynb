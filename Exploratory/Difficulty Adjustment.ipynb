{
 "cells": [
  {
   "cell_type": "code",
   "execution_count": 37,
   "metadata": {},
   "outputs": [],
   "source": [
    "state = {\"Global Difficulty\": 1000,\n",
    "         \"Aggregate Hashpower\": 3000,\n",
    "         \"Regions\": 3,\n",
    "         \"Zones per Region\": 3,\n",
    "         \"Target Time\": 2}\n",
    "\n",
    "params = {\"Block Difficulty Multiples\": {\"Prime\": 1,\n",
    "                                         \"Region\": .5,\n",
    "                                         \"Zone\": .25},\n",
    "        \"Block Hash Multiplier Lognormal Distribution\": {\"mu\": 0, \"std\": .05}\n",
    "        }"
   ]
  },
  {
   "cell_type": "code",
   "execution_count": 36,
   "metadata": {},
   "outputs": [
    {
     "data": {
      "text/plain": [
       "(array([ 269,  244,  248,  475,  221,  270,  231,  502,  260,  231,  247,\n",
       "         457, 1011]),\n",
       " array([ 269,  513,  761, 1236, 1457, 1727, 1958, 2460, 2720, 2951, 3198,\n",
       "        3655, 4666]))"
      ]
     },
     "execution_count": 36,
     "metadata": {},
     "output_type": "execute_result"
    }
   ],
   "source": [
    "# Add a log normal distribution for pertubing the hash needed\n",
    "import numpy as np\n",
    "\n",
    "def create_block_hashes(state, params):\n",
    "\n",
    "    # Get the baseline block difficulties without randomness\n",
    "    prime_block_hashes = [state[\"Global Difficulty\"] * params[\"Block Difficulty Multiples\"][\"Prime\"]]\n",
    "    region_block_hashes = [state[\"Global Difficulty\"] * params[\"Block Difficulty Multiples\"][\"Region\"]] * state[\"Regions\"]\n",
    "    zone_block_hashes = [state[\"Global Difficulty\"] * params[\"Block Difficulty Multiples\"][\"Zone\"]]* state[\"Regions\"] * state[\"Zones per Region\"]\n",
    "\n",
    "    # Merge and order\n",
    "    block_hashes = []\n",
    "    while len(region_block_hashes) > 0:\n",
    "        for _ in range(state[\"Zones per Region\"]):\n",
    "            block_hashes.append(zone_block_hashes.pop())\n",
    "        block_hashes.append(region_block_hashes.pop())\n",
    "    block_hashes.append(prime_block_hashes.pop())\n",
    "\n",
    "    # Add in randomness\n",
    "    block_hashes = np.array(block_hashes)\n",
    "    mutlipliers = np.random.lognormal(0, .05, len(block_hashes))\n",
    "    block_hashes = block_hashes * mutlipliers\n",
    "    block_hashes = block_hashes.round().astype(int)\n",
    "\n",
    "    # Get cumulative sum for later computation of how far the aggregate hash rate gets us\n",
    "    block_hashes_cs = np.cumsum(block_hashes)\n",
    "    \n",
    "    return block_hashes, block_hashes_cs\n",
    "\n",
    "create_block_hashes(state, params)"
   ]
  },
  {
   "cell_type": "code",
   "execution_count": 32,
   "metadata": {},
   "outputs": [
    {
     "data": {
      "text/plain": [
       "(array([5.400e+01, 4.380e+02, 1.658e+03, 3.037e+03, 2.908e+03, 1.430e+03,\n",
       "        3.800e+02, 8.300e+01, 1.000e+01, 2.000e+00]),\n",
       " array([0.83821874, 0.87941952, 0.9206203 , 0.96182109, 1.00302187,\n",
       "        1.04422265, 1.08542344, 1.12662422, 1.167825  , 1.20902579,\n",
       "        1.25022657]),\n",
       " <BarContainer object of 10 artists>)"
      ]
     },
     "execution_count": 32,
     "metadata": {},
     "output_type": "execute_result"
    },
    {
     "data": {
      "image/png": "[encoded data removed]",
      "text/plain": [
       "<Figure size 432x288 with 1 Axes>"
      ]
     },
     "metadata": {
      "needs_background": "light"
     },
     "output_type": "display_data"
    }
   ],
   "source": []
  },
  {
   "cell_type": "code",
   "execution_count": 4,
   "metadata": {},
   "outputs": [],
   "source": [
    "# Bisection to find the blocks processed"
   ]
  },
  {
   "cell_type": "code",
   "execution_count": 5,
   "metadata": {},
   "outputs": [],
   "source": [
    "# If leftover blocks, the values get scaled by the change in difficulty"
   ]
  },
  {
   "cell_type": "code",
   "execution_count": null,
   "metadata": {},
   "outputs": [],
   "source": []
  }
 ],
 "metadata": {
  "kernelspec": {
   "display_name": "BlockScience",
   "language": "python",
   "name": "python3"
  },
  "language_info": {
   "codemirror_mode": {
    "name": "ipython",
    "version": 3
   },
   "file_extension": ".py",
   "mimetype": "text/x-python",
   "name": "python",
   "nbconvert_exporter": "python",
   "pygments_lexer": "ipython3",
   "version": "3.9.12"
  }
 },
 "nbformat": 4,
 "nbformat_minor": 2
}
