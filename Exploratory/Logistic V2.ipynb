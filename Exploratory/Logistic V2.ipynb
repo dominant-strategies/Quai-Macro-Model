{
 "cells": [
  {
   "cell_type": "markdown",
   "metadata": {},
   "source": [
    "# Logistic Data Fitting\n",
    "\n",
    "Notebook for experimenting with different models to fit Quai data.\n",
    "\n",
    "## Inputs\n",
    "\n",
    "1. $\\beta_0$ - Intercept of logistic regression\n",
    "2. $\\beta_1$ - Coeffecient of difficulty over $log_2$ difficulty\n",
    "3. $d$ - The current block difficulty\n",
    "\n",
    "## Probability of Taking Qi\n",
    "\n",
    "$$\\frac{1}{1+exp(-(\\beta_0 + \\beta_1 \\cdot \\frac{d}{log_2(d)}))}$$\n",
    "\n",
    "## Equal Likelihood Probability Parameters\n",
    "\n",
    "$$\\frac{1}{1+exp(-(\\beta_0 + \\beta_1 \\cdot \\frac{d}{log_2(d)}))} = .5$$\n",
    "\n",
    "$$.5 = .5 \\cdot [exp(-(\\beta_0 + \\beta_1 \\cdot \\frac{d}{log_2(d)}))]$$\n",
    "\n",
    "$$1 = exp(-(\\beta_0 + \\beta_1 \\cdot \\frac{d}{log_2(d)}))$$\n",
    "\n",
    "$$0 = \\beta_0 + \\beta_1 \\cdot \\frac{d}{log_2(d)}$$\n",
    "\n",
    "$$\\beta_0 =  - \\beta_1 \\cdot \\frac{d}{log_2(d)}$$"
   ]
  },
  {
   "cell_type": "markdown",
   "metadata": {},
   "source": [
    "## Synthetic Data"
   ]
  },
  {
   "cell_type": "code",
   "execution_count": 5,
   "metadata": {},
   "outputs": [
    {
     "name": "stdout",
     "output_type": "stream",
     "text": [
      "-0.10034333188799373\n"
     ]
    }
   ],
   "source": [
    "from math import log2\n",
    "\n",
    "\n",
    "##### Inputs\n",
    "\n",
    "# Difficulty where p = .5\n",
    "midpoint_difficulty = 1000\n",
    "\n",
    "# Left and right bounds for difficulty\n",
    "left_difficulty_endpoint = 200\n",
    "right_difficulty_endpoint = 2000\n",
    "\n",
    "# Any value > 0 for beta1 parameter\n",
    "beta1 = .001\n",
    "\n",
    "##### Calculations\n",
    "beta0 = midpoint_difficulty / log2(midpoint_difficulty) * - beta1"
   ]
  },
  {
   "cell_type": "markdown",
   "metadata": {},
   "source": []
  },
  {
   "cell_type": "markdown",
   "metadata": {},
   "source": [
    "## Simulation Data"
   ]
  },
  {
   "cell_type": "code",
   "execution_count": null,
   "metadata": {},
   "outputs": [],
   "source": [
    "from pandas.core.common import flatten\n",
    "from math import log2\n",
    "\n",
    "Y = list(flatten([x[\"Qi Taken\"] for x in state[\"Mining Log\"]]))\n",
    "Y = [x>0 for x in Y]\n",
    "Y = np.array(Y).astype(int)\n",
    "X = list(flatten([x[\"Block Difficulty\"] for x in state[\"Mining Log\"]]))\n",
    "X = [x/log2(x) for x in X]\n",
    "X = [[1,x] for x in X]\n",
    "X = np.array(X)\n",
    "\n",
    "from sklearn.linear_model import LogisticRegression\n",
    "model = LogisticRegression(penalty='none', fit_intercept=False\n",
    "    )\n",
    "model.fit(X[:4000], Y[:4000])\n",
    "print(model.coef_)\n",
    "\n",
    "model = LogisticRegression(penalty='none', fit_intercept=False\n",
    "    )\n",
    "model.fit(X[4000:8000], Y[4000:8000])\n",
    "print(model.coef_)\n",
    "\n",
    "model = LogisticRegression(penalty='none', fit_intercept=False\n",
    "    )\n",
    "model.fit(X[8000:12000], Y[8000:12000])\n",
    "print(model.coef_)\n",
    "\n",
    "model = LogisticRegression(penalty='none', fit_intercept=False\n",
    "    )\n",
    "model.fit(X[12000:16000], Y[12000:16000])\n",
    "print(model.coef_)\n",
    "\n",
    "model = LogisticRegression(penalty='none', fit_intercept=False\n",
    "    )\n",
    "model.fit(X, Y)\n",
    "print(model.coef_)\n",
    "\n",
    "from sklearn.metrics import r2_score\n",
    "\n",
    "\n",
    "print(model.score(X, Y))\n",
    "print(Y.mean())\n",
    "print(np.corrcoef(X[:,1], Y))\n",
    "print(model.predict(X))\n",
    "print(r2_score(Y, model.predict(X)))"
   ]
  },
  {
   "cell_type": "markdown",
   "metadata": {},
   "source": []
  }
 ],
 "metadata": {
  "kernelspec": {
   "display_name": "BlockScience",
   "language": "python",
   "name": "python3"
  },
  "language_info": {
   "codemirror_mode": {
    "name": "ipython",
    "version": 3
   },
   "file_extension": ".py",
   "mimetype": "text/x-python",
   "name": "python",
   "nbconvert_exporter": "python",
   "pygments_lexer": "ipython3",
   "version": "3.9.12"
  }
 },
 "nbformat": 4,
 "nbformat_minor": 2
}
