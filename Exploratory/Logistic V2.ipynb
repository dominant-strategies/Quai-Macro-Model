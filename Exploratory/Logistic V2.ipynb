{
 "cells": [
  {
   "cell_type": "code",
   "execution_count": null,
   "metadata": {},
   "outputs": [],
   "source": []
  },
  {
   "cell_type": "markdown",
   "metadata": {},
   "source": [
    "## Synthetic Data"
   ]
  },
  {
   "cell_type": "markdown",
   "metadata": {},
   "source": []
  },
  {
   "cell_type": "markdown",
   "metadata": {},
   "source": [
    "## Simulation Data"
   ]
  },
  {
   "cell_type": "code",
   "execution_count": null,
   "metadata": {},
   "outputs": [],
   "source": [
    "from pandas.core.common import flatten\n",
    "from math import log2\n",
    "\n",
    "Y = list(flatten([x[\"Qi Taken\"] for x in state[\"Mining Log\"]]))\n",
    "Y = [x>0 for x in Y]\n",
    "Y = np.array(Y).astype(int)\n",
    "X = list(flatten([x[\"Block Difficulty\"] for x in state[\"Mining Log\"]]))\n",
    "X = [x/log2(x) for x in X]\n",
    "X = [[1,x] for x in X]\n",
    "X = np.array(X)\n",
    "\n",
    "from sklearn.linear_model import LogisticRegression\n",
    "model = LogisticRegression(penalty='none', fit_intercept=False\n",
    "    )\n",
    "model.fit(X[:4000], Y[:4000])\n",
    "print(model.coef_)\n",
    "\n",
    "model = LogisticRegression(penalty='none', fit_intercept=False\n",
    "    )\n",
    "model.fit(X[4000:8000], Y[4000:8000])\n",
    "print(model.coef_)\n",
    "\n",
    "model = LogisticRegression(penalty='none', fit_intercept=False\n",
    "    )\n",
    "model.fit(X[8000:12000], Y[8000:12000])\n",
    "print(model.coef_)\n",
    "\n",
    "model = LogisticRegression(penalty='none', fit_intercept=False\n",
    "    )\n",
    "model.fit(X[12000:16000], Y[12000:16000])\n",
    "print(model.coef_)\n",
    "\n",
    "model = LogisticRegression(penalty='none', fit_intercept=False\n",
    "    )\n",
    "model.fit(X, Y)\n",
    "print(model.coef_)\n",
    "\n",
    "from sklearn.metrics import r2_score\n",
    "\n",
    "\n",
    "print(model.score(X, Y))\n",
    "print(Y.mean())\n",
    "print(np.corrcoef(X[:,1], Y))\n",
    "print(model.predict(X))\n",
    "print(r2_score(Y, model.predict(X)))"
   ]
  },
  {
   "cell_type": "markdown",
   "metadata": {},
   "source": []
  }
 ],
 "metadata": {
  "language_info": {
   "name": "python"
  }
 },
 "nbformat": 4,
 "nbformat_minor": 2
}
