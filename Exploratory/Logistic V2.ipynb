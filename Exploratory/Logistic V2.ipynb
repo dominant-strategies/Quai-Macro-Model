{
 "cells": [
  {
   "cell_type": "markdown",
   "metadata": {},
   "source": [
    "# Logistic Data Fitting\n",
    "\n",
    "Notebook for experimenting with different models to fit Quai data.\n",
    "\n",
    "## Inputs\n",
    "\n",
    "1. $\\beta_0$ - Intercept of logistic regression\n",
    "2. $\\beta_1$ - Coeffecient of difficulty over $log_2$ difficulty\n",
    "3. $d$ - The current block difficulty\n",
    "\n",
    "## Probability of Taking Qi\n",
    "\n",
    "$$\\frac{1}{1+exp(-(\\beta_0 + \\beta_1 \\cdot \\frac{d}{log_2(d)}))}$$\n",
    "\n",
    "## Equal Likelihood Probability Parameters\n",
    "\n",
    "$$\\frac{1}{1+exp(-(\\beta_0 + \\beta_1 \\cdot \\frac{d}{log_2(d)}))} = .5$$\n",
    "\n",
    "$$.5 = .5 \\cdot [exp(-(\\beta_0 + \\beta_1 \\cdot \\frac{d}{log_2(d)}))]$$\n",
    "\n",
    "$$1 = exp(-(\\beta_0 + \\beta_1 \\cdot \\frac{d}{log_2(d)}))$$\n",
    "\n",
    "$$0 = \\beta_0 + \\beta_1 \\cdot \\frac{d}{log_2(d)}$$\n",
    "\n",
    "$$\\beta_0 =  - \\beta_1 \\cdot \\frac{d}{log_2(d)}$$"
   ]
  },
  {
   "cell_type": "markdown",
   "metadata": {},
   "source": [
    "## Synthetic Data"
   ]
  },
  {
   "cell_type": "code",
   "execution_count": 41,
   "metadata": {},
   "outputs": [],
   "source": [
    "from math import log2\n",
    "import numpy as np\n",
    "import matplotlib.pyplot as plt\n",
    "\n",
    "##### Inputs\n",
    "\n",
    "# Difficulty where p = .5\n",
    "midpoint_difficulty = 1000\n",
    "\n",
    "# Left and right bounds for difficulty\n",
    "left_difficulty_endpoint = 100\n",
    "right_difficulty_endpoint = 3000\n",
    "\n",
    "# Any value > 0 for beta1 parameter\n",
    "beta1 = .05\n",
    "\n"
   ]
  },
  {
   "cell_type": "code",
   "execution_count": 45,
   "metadata": {},
   "outputs": [
    {
     "data": {
      "image/png": "[encoded data removed]",
      "text/plain": [
       "<Figure size 432x288 with 1 Axes>"
      ]
     },
     "metadata": {
      "needs_background": "light"
     },
     "output_type": "display_data"
    },
    {
     "data": {
      "image/png": "[encoded data removed]",
      "text/plain": [
       "<Figure size 432x288 with 1 Axes>"
      ]
     },
     "metadata": {
      "needs_background": "light"
     },
     "output_type": "display_data"
    }
   ],
   "source": [
    "np.random.seed(0)\n",
    "\n",
    "##### Functions\n",
    "\n",
    "def find_probability_qi(beta0, beta1, difficulty):\n",
    "    return 1 / (1 + np.exp(-(beta0 + beta1 * difficulty / log2(difficulty))))\n",
    "\n",
    "def find_qi_taken(p):\n",
    "    if np.random.rand() < p:\n",
    "        return 1\n",
    "    else:\n",
    "        return 0\n",
    "\n",
    "##### Calculations\n",
    "beta0 = midpoint_difficulty / log2(midpoint_difficulty) * - beta1\n",
    "\n",
    "##### Data creation\n",
    "\n",
    "# Define the range from left to right difficulty endpoint\n",
    "X = np.arange(left_difficulty_endpoint, right_difficulty_endpoint+1, 1)\n",
    "\n",
    "# Find probabilities for each \n",
    "Y_prob = np.array([find_probability_qi(beta0, beta1, x) for x in X])\n",
    "\n",
    "# Find whether or not qi is taken based on randomness\n",
    "Y = [find_qi_taken(p) for p in Y_prob]\n",
    "\n",
    "plt.plot(X, Y_prob)\n",
    "plt.xlabel(\"Difficulty\")\n",
    "plt.ylabel(\"Probability\")\n",
    "plt.title(\"Probability of Qi Take versus Difficulty\")\n",
    "plt.show()\n",
    "\n",
    "# Convert to difficulty ratio\n",
    "X = X / np.log2(X)\n",
    "\n",
    "plt.plot(X, Y_prob)\n",
    "plt.xlabel(\"Difficulty Ratio\")\n",
    "plt.ylabel(\"Probability\")\n",
    "plt.title(\"Probability of Qi Take versus Difficulty Ratio\")\n",
    "plt.show()"
   ]
  },
  {
   "cell_type": "markdown",
   "metadata": {},
   "source": []
  },
  {
   "cell_type": "markdown",
   "metadata": {},
   "source": [
    "## Simulation Data"
   ]
  },
  {
   "cell_type": "code",
   "execution_count": null,
   "metadata": {},
   "outputs": [],
   "source": [
    "from pandas.core.common import flatten\n",
    "from math import log2\n",
    "\n",
    "Y = list(flatten([x[\"Qi Taken\"] for x in state[\"Mining Log\"]]))\n",
    "Y = [x>0 for x in Y]\n",
    "Y = np.array(Y).astype(int)\n",
    "X = list(flatten([x[\"Block Difficulty\"] for x in state[\"Mining Log\"]]))\n",
    "X = [x/log2(x) for x in X]\n",
    "X = [[1,x] for x in X]\n",
    "X = np.array(X)\n",
    "\n",
    "from sklearn.linear_model import LogisticRegression\n",
    "model = LogisticRegression(penalty='none', fit_intercept=False\n",
    "    )\n",
    "model.fit(X[:4000], Y[:4000])\n",
    "print(model.coef_)\n",
    "\n",
    "model = LogisticRegression(penalty='none', fit_intercept=False\n",
    "    )\n",
    "model.fit(X[4000:8000], Y[4000:8000])\n",
    "print(model.coef_)\n",
    "\n",
    "model = LogisticRegression(penalty='none', fit_intercept=False\n",
    "    )\n",
    "model.fit(X[8000:12000], Y[8000:12000])\n",
    "print(model.coef_)\n",
    "\n",
    "model = LogisticRegression(penalty='none', fit_intercept=False\n",
    "    )\n",
    "model.fit(X[12000:16000], Y[12000:16000])\n",
    "print(model.coef_)\n",
    "\n",
    "model = LogisticRegression(penalty='none', fit_intercept=False\n",
    "    )\n",
    "model.fit(X, Y)\n",
    "print(model.coef_)\n",
    "\n",
    "from sklearn.metrics import r2_score\n",
    "\n",
    "\n",
    "print(model.score(X, Y))\n",
    "print(Y.mean())\n",
    "print(np.corrcoef(X[:,1], Y))\n",
    "print(model.predict(X))\n",
    "print(r2_score(Y, model.predict(X)))"
   ]
  },
  {
   "cell_type": "markdown",
   "metadata": {},
   "source": []
  }
 ],
 "metadata": {
  "kernelspec": {
   "display_name": "BlockScience",
   "language": "python",
   "name": "python3"
  },
  "language_info": {
   "codemirror_mode": {
    "name": "ipython",
    "version": 3
   },
   "file_extension": ".py",
   "mimetype": "text/x-python",
   "name": "python",
   "nbconvert_exporter": "python",
   "pygments_lexer": "ipython3",
   "version": "3.9.12"
  }
 },
 "nbformat": 4,
 "nbformat_minor": 2
}
